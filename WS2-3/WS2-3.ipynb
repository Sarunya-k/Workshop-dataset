{
  "nbformat": 4,
  "nbformat_minor": 0,
  "metadata": {
    "colab": {
      "name": "Lab3DE.ipynb",
      "provenance": [],
      "collapsed_sections": []
    },
    "kernelspec": {
      "name": "python3",
      "display_name": "Python 3"
    },
    "language_info": {
      "name": "python"
    },
    "accelerator": "GPU"
  },
  "cells": [
    {
      "cell_type": "markdown",
      "source": [
        "## ปฏิบัติการที่ 3.1 นักศึกษาสามารถติดตั้ง Spark ร่วมกับ Python ได้"
      ],
      "metadata": {
        "id": "8YJ6_BCrEXKI"
      }
    },
    {
      "cell_type": "markdown",
      "source": [
        "### 1. ทำการติดตั้งเครื่องมือที่จำเป็นต้องใช้"
      ],
      "metadata": {
        "id": "kggSrkv5BsGE"
      }
    },
    {
      "cell_type": "code",
      "source": [
        "!apt-get update                                                                                                          # อัพเดท Package ทั้งหมดใน Colab VM\n",
        "!apt-get install openjdk-8-jdk-headless -qq > /dev/null                                                   # ติดตั้ง Java Development Kit (จำเป็นสำหรับการติดตั้ง Spark)\n",
        "!wget -q https://archive.apache.org/dist/spark/spark-3.2.1/spark-3.2.1-bin-hadoop2.7.tgz  # ติดตั้ง Spark 3.2.1\n",
        "!tar xzvf spark-3.2.1-bin-hadoop2.7.tgz                                                                         # Unzip ไฟล์ Spark 3.2.1\n",
        "!pip install findspark                                                                                                    # ติดตั้ง Package Python สำหรับเชื่อมต่อกับ Spark "
      ],
      "metadata": {
        "id": "mfGHDKumBvTW",
        "colab": {
          "base_uri": "https://localhost:8080/"
        },
        "outputId": "d8bdd17c-0b01-45b3-817c-fc2605b684e3"
      },
      "execution_count": 2,
      "outputs": [
        {
          "output_type": "stream",
          "name": "stdout",
          "text": [
            "\r0% [Working]\r            \rHit:1 https://developer.download.nvidia.com/compute/cuda/repos/ubuntu1804/x86_64  InRelease\n",
            "\r0% [Waiting for headers] [Connecting to security.ubuntu.com] [Waiting for heade\r                                                                               \rGet:2 https://cloud.r-project.org/bin/linux/ubuntu bionic-cran40/ InRelease [3,626 B]\n",
            "\r0% [Waiting for headers] [Connecting to security.ubuntu.com] [Connecting to ppa\r0% [1 InRelease gpgv 1,581 B] [Waiting for headers] [Connecting to security.ubu\r                                                                               \rHit:3 http://archive.ubuntu.com/ubuntu bionic InRelease\n",
            "\r0% [1 InRelease gpgv 1,581 B] [Waiting for headers] [Connecting to security.ubu\r                                                                               \rGet:4 http://archive.ubuntu.com/ubuntu bionic-updates InRelease [88.7 kB]\n",
            "\r0% [1 InRelease gpgv 1,581 B] [4 InRelease 15.6 kB/88.7 kB 18%] [Connecting to \r                                                                               \rIgn:5 https://developer.download.nvidia.com/compute/machine-learning/repos/ubuntu1804/x86_64  InRelease\n",
            "\r0% [1 InRelease gpgv 1,581 B] [4 InRelease 15.6 kB/88.7 kB 18%] [Connecting to \r                                                                               \rHit:6 https://developer.download.nvidia.com/compute/machine-learning/repos/ubuntu1804/x86_64  Release\n",
            "Hit:7 http://ppa.launchpad.net/c2d4u.team/c2d4u4.0+/ubuntu bionic InRelease\n",
            "Get:8 http://archive.ubuntu.com/ubuntu bionic-backports InRelease [74.6 kB]\n",
            "Get:9 http://security.ubuntu.com/ubuntu bionic-security InRelease [88.7 kB]\n",
            "Hit:10 http://ppa.launchpad.net/cran/libgit2/ubuntu bionic InRelease\n",
            "Hit:11 http://ppa.launchpad.net/deadsnakes/ppa/ubuntu bionic InRelease\n",
            "Get:12 http://ppa.launchpad.net/graphics-drivers/ppa/ubuntu bionic InRelease [21.3 kB]\n",
            "Get:14 http://archive.ubuntu.com/ubuntu bionic-updates/restricted amd64 Packages [966 kB]\n",
            "Get:15 http://archive.ubuntu.com/ubuntu bionic-updates/main amd64 Packages [3,199 kB]\n",
            "Get:16 http://archive.ubuntu.com/ubuntu bionic-updates/universe amd64 Packages [2,277 kB]\n",
            "Get:17 http://archive.ubuntu.com/ubuntu bionic-updates/multiverse amd64 Packages [29.8 kB]\n",
            "Get:18 http://security.ubuntu.com/ubuntu bionic-security/universe amd64 Packages [1,503 kB]\n",
            "Get:19 http://ppa.launchpad.net/graphics-drivers/ppa/ubuntu bionic/main amd64 Packages [44.3 kB]\n",
            "Get:20 http://security.ubuntu.com/ubuntu bionic-security/restricted amd64 Packages [932 kB]\n",
            "Get:21 http://security.ubuntu.com/ubuntu bionic-security/multiverse amd64 Packages [22.8 kB]\n",
            "Get:22 http://security.ubuntu.com/ubuntu bionic-security/main amd64 Packages [2,765 kB]\n",
            "Fetched 12.0 MB in 4s (3,340 kB/s)\n",
            "Reading package lists... Done\n",
            "spark-3.2.1-bin-hadoop2.7/\n",
            "spark-3.2.1-bin-hadoop2.7/LICENSE\n",
            "spark-3.2.1-bin-hadoop2.7/NOTICE\n",
            "spark-3.2.1-bin-hadoop2.7/R/\n",
            "spark-3.2.1-bin-hadoop2.7/R/lib/\n",
            "spark-3.2.1-bin-hadoop2.7/R/lib/SparkR/\n",
            "spark-3.2.1-bin-hadoop2.7/R/lib/SparkR/DESCRIPTION\n",
            "spark-3.2.1-bin-hadoop2.7/R/lib/SparkR/INDEX\n",
            "spark-3.2.1-bin-hadoop2.7/R/lib/SparkR/Meta/\n",
            "spark-3.2.1-bin-hadoop2.7/R/lib/SparkR/Meta/Rd.rds\n",
            "spark-3.2.1-bin-hadoop2.7/R/lib/SparkR/Meta/features.rds\n",
            "spark-3.2.1-bin-hadoop2.7/R/lib/SparkR/Meta/hsearch.rds\n",
            "spark-3.2.1-bin-hadoop2.7/R/lib/SparkR/Meta/links.rds\n",
            "spark-3.2.1-bin-hadoop2.7/R/lib/SparkR/Meta/nsInfo.rds\n",
            "spark-3.2.1-bin-hadoop2.7/R/lib/SparkR/Meta/package.rds\n",
            "spark-3.2.1-bin-hadoop2.7/R/lib/SparkR/NAMESPACE\n",
            "spark-3.2.1-bin-hadoop2.7/R/lib/SparkR/R/\n",
            "spark-3.2.1-bin-hadoop2.7/R/lib/SparkR/R/SparkR\n",
            "spark-3.2.1-bin-hadoop2.7/R/lib/SparkR/R/SparkR.rdb\n",
            "spark-3.2.1-bin-hadoop2.7/R/lib/SparkR/R/SparkR.rdx\n",
            "spark-3.2.1-bin-hadoop2.7/R/lib/SparkR/help/\n",
            "spark-3.2.1-bin-hadoop2.7/R/lib/SparkR/help/AnIndex\n",
            "spark-3.2.1-bin-hadoop2.7/R/lib/SparkR/help/SparkR.rdb\n",
            "spark-3.2.1-bin-hadoop2.7/R/lib/SparkR/help/SparkR.rdx\n",
            "spark-3.2.1-bin-hadoop2.7/R/lib/SparkR/help/aliases.rds\n",
            "spark-3.2.1-bin-hadoop2.7/R/lib/SparkR/help/paths.rds\n",
            "spark-3.2.1-bin-hadoop2.7/R/lib/SparkR/html/\n",
            "spark-3.2.1-bin-hadoop2.7/R/lib/SparkR/html/00Index.html\n",
            "spark-3.2.1-bin-hadoop2.7/R/lib/SparkR/html/R.css\n",
            "spark-3.2.1-bin-hadoop2.7/R/lib/SparkR/profile/\n",
            "spark-3.2.1-bin-hadoop2.7/R/lib/SparkR/profile/general.R\n",
            "spark-3.2.1-bin-hadoop2.7/R/lib/SparkR/profile/shell.R\n",
            "spark-3.2.1-bin-hadoop2.7/R/lib/SparkR/tests/\n",
            "spark-3.2.1-bin-hadoop2.7/R/lib/SparkR/tests/testthat/\n",
            "spark-3.2.1-bin-hadoop2.7/R/lib/SparkR/tests/testthat/test_basic.R\n",
            "spark-3.2.1-bin-hadoop2.7/R/lib/SparkR/worker/\n",
            "spark-3.2.1-bin-hadoop2.7/R/lib/SparkR/worker/daemon.R\n",
            "spark-3.2.1-bin-hadoop2.7/R/lib/SparkR/worker/worker.R\n",
            "spark-3.2.1-bin-hadoop2.7/R/lib/sparkr.zip\n",
            "spark-3.2.1-bin-hadoop2.7/README.md\n",
            "spark-3.2.1-bin-hadoop2.7/RELEASE\n",
            "spark-3.2.1-bin-hadoop2.7/bin/\n",
            "spark-3.2.1-bin-hadoop2.7/bin/beeline\n",
            "spark-3.2.1-bin-hadoop2.7/bin/beeline.cmd\n",
            "spark-3.2.1-bin-hadoop2.7/bin/docker-image-tool.sh\n",
            "spark-3.2.1-bin-hadoop2.7/bin/find-spark-home\n",
            "spark-3.2.1-bin-hadoop2.7/bin/find-spark-home.cmd\n",
            "spark-3.2.1-bin-hadoop2.7/bin/load-spark-env.cmd\n",
            "spark-3.2.1-bin-hadoop2.7/bin/load-spark-env.sh\n",
            "spark-3.2.1-bin-hadoop2.7/bin/pyspark\n",
            "spark-3.2.1-bin-hadoop2.7/bin/pyspark.cmd\n",
            "spark-3.2.1-bin-hadoop2.7/bin/pyspark2.cmd\n",
            "spark-3.2.1-bin-hadoop2.7/bin/run-example\n",
            "spark-3.2.1-bin-hadoop2.7/bin/run-example.cmd\n",
            "spark-3.2.1-bin-hadoop2.7/bin/spark-class\n",
            "spark-3.2.1-bin-hadoop2.7/bin/spark-class.cmd\n",
            "spark-3.2.1-bin-hadoop2.7/bin/spark-class2.cmd\n",
            "spark-3.2.1-bin-hadoop2.7/bin/spark-shell\n",
            "spark-3.2.1-bin-hadoop2.7/bin/spark-shell.cmd\n",
            "spark-3.2.1-bin-hadoop2.7/bin/spark-shell2.cmd\n",
            "spark-3.2.1-bin-hadoop2.7/bin/spark-sql\n",
            "spark-3.2.1-bin-hadoop2.7/bin/spark-sql.cmd\n",
            "spark-3.2.1-bin-hadoop2.7/bin/spark-sql2.cmd\n",
            "spark-3.2.1-bin-hadoop2.7/bin/spark-submit\n",
            "spark-3.2.1-bin-hadoop2.7/bin/spark-submit.cmd\n",
            "spark-3.2.1-bin-hadoop2.7/bin/spark-submit2.cmd\n",
            "spark-3.2.1-bin-hadoop2.7/bin/sparkR\n",
            "spark-3.2.1-bin-hadoop2.7/bin/sparkR.cmd\n",
            "spark-3.2.1-bin-hadoop2.7/bin/sparkR2.cmd\n",
            "spark-3.2.1-bin-hadoop2.7/conf/\n",
            "spark-3.2.1-bin-hadoop2.7/conf/fairscheduler.xml.template\n",
            "spark-3.2.1-bin-hadoop2.7/conf/log4j.properties.template\n",
            "spark-3.2.1-bin-hadoop2.7/conf/metrics.properties.template\n",
            "spark-3.2.1-bin-hadoop2.7/conf/spark-defaults.conf.template\n",
            "spark-3.2.1-bin-hadoop2.7/conf/spark-env.sh.template\n",
            "spark-3.2.1-bin-hadoop2.7/conf/workers.template\n",
            "spark-3.2.1-bin-hadoop2.7/data/\n",
            "spark-3.2.1-bin-hadoop2.7/data/graphx/\n",
            "spark-3.2.1-bin-hadoop2.7/data/graphx/followers.txt\n",
            "spark-3.2.1-bin-hadoop2.7/data/graphx/users.txt\n",
            "spark-3.2.1-bin-hadoop2.7/data/mllib/\n",
            "spark-3.2.1-bin-hadoop2.7/data/mllib/als/\n",
            "spark-3.2.1-bin-hadoop2.7/data/mllib/als/sample_movielens_ratings.txt\n",
            "spark-3.2.1-bin-hadoop2.7/data/mllib/als/test.data\n",
            "spark-3.2.1-bin-hadoop2.7/data/mllib/gmm_data.txt\n",
            "spark-3.2.1-bin-hadoop2.7/data/mllib/images/\n",
            "spark-3.2.1-bin-hadoop2.7/data/mllib/images/license.txt\n",
            "spark-3.2.1-bin-hadoop2.7/data/mllib/images/origin/\n",
            "spark-3.2.1-bin-hadoop2.7/data/mllib/images/origin/kittens/\n",
            "spark-3.2.1-bin-hadoop2.7/data/mllib/images/origin/kittens/29.5.a_b_EGDP022204.jpg\n",
            "spark-3.2.1-bin-hadoop2.7/data/mllib/images/origin/kittens/54893.jpg\n",
            "spark-3.2.1-bin-hadoop2.7/data/mllib/images/origin/kittens/DP153539.jpg\n",
            "spark-3.2.1-bin-hadoop2.7/data/mllib/images/origin/kittens/DP802813.jpg\n",
            "spark-3.2.1-bin-hadoop2.7/data/mllib/images/origin/kittens/not-image.txt\n",
            "spark-3.2.1-bin-hadoop2.7/data/mllib/images/origin/license.txt\n",
            "spark-3.2.1-bin-hadoop2.7/data/mllib/images/origin/multi-channel/\n",
            "spark-3.2.1-bin-hadoop2.7/data/mllib/images/origin/multi-channel/BGRA.png\n",
            "spark-3.2.1-bin-hadoop2.7/data/mllib/images/origin/multi-channel/BGRA_alpha_60.png\n",
            "spark-3.2.1-bin-hadoop2.7/data/mllib/images/origin/multi-channel/chr30.4.184.jpg\n",
            "spark-3.2.1-bin-hadoop2.7/data/mllib/images/origin/multi-channel/grayscale.jpg\n",
            "spark-3.2.1-bin-hadoop2.7/data/mllib/images/partitioned/\n",
            "spark-3.2.1-bin-hadoop2.7/data/mllib/images/partitioned/cls=kittens/\n",
            "spark-3.2.1-bin-hadoop2.7/data/mllib/images/partitioned/cls=kittens/date=2018-01/\n",
            "spark-3.2.1-bin-hadoop2.7/data/mllib/images/partitioned/cls=kittens/date=2018-01/29.5.a_b_EGDP022204.jpg\n",
            "spark-3.2.1-bin-hadoop2.7/data/mllib/images/partitioned/cls=kittens/date=2018-01/not-image.txt\n",
            "spark-3.2.1-bin-hadoop2.7/data/mllib/images/partitioned/cls=kittens/date=2018-02/\n",
            "spark-3.2.1-bin-hadoop2.7/data/mllib/images/partitioned/cls=kittens/date=2018-02/54893.jpg\n",
            "spark-3.2.1-bin-hadoop2.7/data/mllib/images/partitioned/cls=kittens/date=2018-02/DP153539.jpg\n",
            "spark-3.2.1-bin-hadoop2.7/data/mllib/images/partitioned/cls=kittens/date=2018-02/DP802813.jpg\n",
            "spark-3.2.1-bin-hadoop2.7/data/mllib/images/partitioned/cls=multichannel/\n",
            "spark-3.2.1-bin-hadoop2.7/data/mllib/images/partitioned/cls=multichannel/date=2018-01/\n",
            "spark-3.2.1-bin-hadoop2.7/data/mllib/images/partitioned/cls=multichannel/date=2018-01/BGRA.png\n",
            "spark-3.2.1-bin-hadoop2.7/data/mllib/images/partitioned/cls=multichannel/date=2018-01/BGRA_alpha_60.png\n",
            "spark-3.2.1-bin-hadoop2.7/data/mllib/images/partitioned/cls=multichannel/date=2018-02/\n",
            "spark-3.2.1-bin-hadoop2.7/data/mllib/images/partitioned/cls=multichannel/date=2018-02/chr30.4.184.jpg\n",
            "spark-3.2.1-bin-hadoop2.7/data/mllib/images/partitioned/cls=multichannel/date=2018-02/grayscale.jpg\n",
            "spark-3.2.1-bin-hadoop2.7/data/mllib/iris_libsvm.txt\n",
            "spark-3.2.1-bin-hadoop2.7/data/mllib/kmeans_data.txt\n",
            "spark-3.2.1-bin-hadoop2.7/data/mllib/pagerank_data.txt\n",
            "spark-3.2.1-bin-hadoop2.7/data/mllib/pic_data.txt\n",
            "spark-3.2.1-bin-hadoop2.7/data/mllib/ridge-data/\n",
            "spark-3.2.1-bin-hadoop2.7/data/mllib/ridge-data/lpsa.data\n",
            "spark-3.2.1-bin-hadoop2.7/data/mllib/sample_binary_classification_data.txt\n",
            "spark-3.2.1-bin-hadoop2.7/data/mllib/sample_fpgrowth.txt\n",
            "spark-3.2.1-bin-hadoop2.7/data/mllib/sample_isotonic_regression_libsvm_data.txt\n",
            "spark-3.2.1-bin-hadoop2.7/data/mllib/sample_kmeans_data.txt\n",
            "spark-3.2.1-bin-hadoop2.7/data/mllib/sample_lda_data.txt\n",
            "spark-3.2.1-bin-hadoop2.7/data/mllib/sample_lda_libsvm_data.txt\n",
            "spark-3.2.1-bin-hadoop2.7/data/mllib/sample_libsvm_data.txt\n",
            "spark-3.2.1-bin-hadoop2.7/data/mllib/sample_linear_regression_data.txt\n",
            "spark-3.2.1-bin-hadoop2.7/data/mllib/sample_movielens_data.txt\n",
            "spark-3.2.1-bin-hadoop2.7/data/mllib/sample_multiclass_classification_data.txt\n",
            "spark-3.2.1-bin-hadoop2.7/data/mllib/sample_svm_data.txt\n",
            "spark-3.2.1-bin-hadoop2.7/data/mllib/streaming_kmeans_data_test.txt\n",
            "spark-3.2.1-bin-hadoop2.7/data/streaming/\n",
            "spark-3.2.1-bin-hadoop2.7/data/streaming/AFINN-111.txt\n",
            "spark-3.2.1-bin-hadoop2.7/examples/\n",
            "spark-3.2.1-bin-hadoop2.7/examples/jars/\n",
            "spark-3.2.1-bin-hadoop2.7/examples/jars/scopt_2.12-3.7.1.jar\n",
            "spark-3.2.1-bin-hadoop2.7/examples/jars/spark-examples_2.12-3.2.1.jar\n",
            "spark-3.2.1-bin-hadoop2.7/examples/src/\n",
            "spark-3.2.1-bin-hadoop2.7/examples/src/main/\n",
            "spark-3.2.1-bin-hadoop2.7/examples/src/main/java/\n",
            "spark-3.2.1-bin-hadoop2.7/examples/src/main/java/org/\n",
            "spark-3.2.1-bin-hadoop2.7/examples/src/main/java/org/apache/\n",
            "spark-3.2.1-bin-hadoop2.7/examples/src/main/java/org/apache/spark/\n",
            "spark-3.2.1-bin-hadoop2.7/examples/src/main/java/org/apache/spark/examples/\n",
            "spark-3.2.1-bin-hadoop2.7/examples/src/main/java/org/apache/spark/examples/JavaHdfsLR.java\n",
            "spark-3.2.1-bin-hadoop2.7/examples/src/main/java/org/apache/spark/examples/JavaLogQuery.java\n",
            "spark-3.2.1-bin-hadoop2.7/examples/src/main/java/org/apache/spark/examples/JavaPageRank.java\n",
            "spark-3.2.1-bin-hadoop2.7/examples/src/main/java/org/apache/spark/examples/JavaSparkPi.java\n",
            "spark-3.2.1-bin-hadoop2.7/examples/src/main/java/org/apache/spark/examples/JavaStatusTrackerDemo.java\n",
            "spark-3.2.1-bin-hadoop2.7/examples/src/main/java/org/apache/spark/examples/JavaTC.java\n",
            "spark-3.2.1-bin-hadoop2.7/examples/src/main/java/org/apache/spark/examples/JavaWordCount.java\n",
            "spark-3.2.1-bin-hadoop2.7/examples/src/main/java/org/apache/spark/examples/ml/\n",
            "spark-3.2.1-bin-hadoop2.7/examples/src/main/java/org/apache/spark/examples/ml/JavaAFTSurvivalRegressionExample.java\n",
            "spark-3.2.1-bin-hadoop2.7/examples/src/main/java/org/apache/spark/examples/ml/JavaALSExample.java\n",
            "spark-3.2.1-bin-hadoop2.7/examples/src/main/java/org/apache/spark/examples/ml/JavaBinarizerExample.java\n",
            "spark-3.2.1-bin-hadoop2.7/examples/src/main/java/org/apache/spark/examples/ml/JavaBisectingKMeansExample.java\n",
            "spark-3.2.1-bin-hadoop2.7/examples/src/main/java/org/apache/spark/examples/ml/JavaBucketedRandomProjectionLSHExample.java\n",
            "spark-3.2.1-bin-hadoop2.7/examples/src/main/java/org/apache/spark/examples/ml/JavaBucketizerExample.java\n",
            "spark-3.2.1-bin-hadoop2.7/examples/src/main/java/org/apache/spark/examples/ml/JavaChiSqSelectorExample.java\n",
            "spark-3.2.1-bin-hadoop2.7/examples/src/main/java/org/apache/spark/examples/ml/JavaChiSquareTestExample.java\n",
            "spark-3.2.1-bin-hadoop2.7/examples/src/main/java/org/apache/spark/examples/ml/JavaCorrelationExample.java\n",
            "spark-3.2.1-bin-hadoop2.7/examples/src/main/java/org/apache/spark/examples/ml/JavaCountVectorizerExample.java\n",
            "spark-3.2.1-bin-hadoop2.7/examples/src/main/java/org/apache/spark/examples/ml/JavaDCTExample.java\n",
            "spark-3.2.1-bin-hadoop2.7/examples/src/main/java/org/apache/spark/examples/ml/JavaDecisionTreeClassificationExample.java\n",
            "spark-3.2.1-bin-hadoop2.7/examples/src/main/java/org/apache/spark/examples/ml/JavaDecisionTreeRegressionExample.java\n",
            "spark-3.2.1-bin-hadoop2.7/examples/src/main/java/org/apache/spark/examples/ml/JavaDocument.java\n",
            "spark-3.2.1-bin-hadoop2.7/examples/src/main/java/org/apache/spark/examples/ml/JavaElementwiseProductExample.java\n",
            "spark-3.2.1-bin-hadoop2.7/examples/src/main/java/org/apache/spark/examples/ml/JavaEstimatorTransformerParamExample.java\n",
            "spark-3.2.1-bin-hadoop2.7/examples/src/main/java/org/apache/spark/examples/ml/JavaFMClassifierExample.java\n",
            "spark-3.2.1-bin-hadoop2.7/examples/src/main/java/org/apache/spark/examples/ml/JavaFMRegressorExample.java\n",
            "spark-3.2.1-bin-hadoop2.7/examples/src/main/java/org/apache/spark/examples/ml/JavaFPGrowthExample.java\n",
            "spark-3.2.1-bin-hadoop2.7/examples/src/main/java/org/apache/spark/examples/ml/JavaFeatureHasherExample.java\n",
            "spark-3.2.1-bin-hadoop2.7/examples/src/main/java/org/apache/spark/examples/ml/JavaGaussianMixtureExample.java\n",
            "spark-3.2.1-bin-hadoop2.7/examples/src/main/java/org/apache/spark/examples/ml/JavaGeneralizedLinearRegressionExample.java\n",
            "spark-3.2.1-bin-hadoop2.7/examples/src/main/java/org/apache/spark/examples/ml/JavaGradientBoostedTreeClassifierExample.java\n",
            "spark-3.2.1-bin-hadoop2.7/examples/src/main/java/org/apache/spark/examples/ml/JavaGradientBoostedTreeRegressorExample.java\n",
            "spark-3.2.1-bin-hadoop2.7/examples/src/main/java/org/apache/spark/examples/ml/JavaImputerExample.java\n",
            "spark-3.2.1-bin-hadoop2.7/examples/src/main/java/org/apache/spark/examples/ml/JavaIndexToStringExample.java\n",
            "spark-3.2.1-bin-hadoop2.7/examples/src/main/java/org/apache/spark/examples/ml/JavaInteractionExample.java\n",
            "spark-3.2.1-bin-hadoop2.7/examples/src/main/java/org/apache/spark/examples/ml/JavaIsotonicRegressionExample.java\n",
            "spark-3.2.1-bin-hadoop2.7/examples/src/main/java/org/apache/spark/examples/ml/JavaKMeansExample.java\n",
            "spark-3.2.1-bin-hadoop2.7/examples/src/main/java/org/apache/spark/examples/ml/JavaLDAExample.java\n",
            "spark-3.2.1-bin-hadoop2.7/examples/src/main/java/org/apache/spark/examples/ml/JavaLabeledDocument.java\n",
            "spark-3.2.1-bin-hadoop2.7/examples/src/main/java/org/apache/spark/examples/ml/JavaLinearRegressionWithElasticNetExample.java\n",
            "spark-3.2.1-bin-hadoop2.7/examples/src/main/java/org/apache/spark/examples/ml/JavaLinearSVCExample.java\n",
            "spark-3.2.1-bin-hadoop2.7/examples/src/main/java/org/apache/spark/examples/ml/JavaLogisticRegressionSummaryExample.java\n",
            "spark-3.2.1-bin-hadoop2.7/examples/src/main/java/org/apache/spark/examples/ml/JavaLogisticRegressionWithElasticNetExample.java\n",
            "spark-3.2.1-bin-hadoop2.7/examples/src/main/java/org/apache/spark/examples/ml/JavaMaxAbsScalerExample.java\n",
            "spark-3.2.1-bin-hadoop2.7/examples/src/main/java/org/apache/spark/examples/ml/JavaMinHashLSHExample.java\n",
            "spark-3.2.1-bin-hadoop2.7/examples/src/main/java/org/apache/spark/examples/ml/JavaMinMaxScalerExample.java\n",
            "spark-3.2.1-bin-hadoop2.7/examples/src/main/java/org/apache/spark/examples/ml/JavaModelSelectionViaCrossValidationExample.java\n",
            "spark-3.2.1-bin-hadoop2.7/examples/src/main/java/org/apache/spark/examples/ml/JavaModelSelectionViaTrainValidationSplitExample.java\n",
            "spark-3.2.1-bin-hadoop2.7/examples/src/main/java/org/apache/spark/examples/ml/JavaMulticlassLogisticRegressionWithElasticNetExample.java\n",
            "spark-3.2.1-bin-hadoop2.7/examples/src/main/java/org/apache/spark/examples/ml/JavaMultilayerPerceptronClassifierExample.java\n",
            "spark-3.2.1-bin-hadoop2.7/examples/src/main/java/org/apache/spark/examples/ml/JavaNGramExample.java\n",
            "spark-3.2.1-bin-hadoop2.7/examples/src/main/java/org/apache/spark/examples/ml/JavaNaiveBayesExample.java\n",
            "spark-3.2.1-bin-hadoop2.7/examples/src/main/java/org/apache/spark/examples/ml/JavaNormalizerExample.java\n",
            "spark-3.2.1-bin-hadoop2.7/examples/src/main/java/org/apache/spark/examples/ml/JavaOneHotEncoderExample.java\n",
            "spark-3.2.1-bin-hadoop2.7/examples/src/main/java/org/apache/spark/examples/ml/JavaOneVsRestExample.java\n",
            "spark-3.2.1-bin-hadoop2.7/examples/src/main/java/org/apache/spark/examples/ml/JavaPCAExample.java\n",
            "spark-3.2.1-bin-hadoop2.7/examples/src/main/java/org/apache/spark/examples/ml/JavaPipelineExample.java\n",
            "spark-3.2.1-bin-hadoop2.7/examples/src/main/java/org/apache/spark/examples/ml/JavaPolynomialExpansionExample.java\n",
            "spark-3.2.1-bin-hadoop2.7/examples/src/main/java/org/apache/spark/examples/ml/JavaPowerIterationClusteringExample.java\n",
            "spark-3.2.1-bin-hadoop2.7/examples/src/main/java/org/apache/spark/examples/ml/JavaPrefixSpanExample.java\n",
            "spark-3.2.1-bin-hadoop2.7/examples/src/main/java/org/apache/spark/examples/ml/JavaQuantileDiscretizerExample.java\n",
            "spark-3.2.1-bin-hadoop2.7/examples/src/main/java/org/apache/spark/examples/ml/JavaRFormulaExample.java\n",
            "spark-3.2.1-bin-hadoop2.7/examples/src/main/java/org/apache/spark/examples/ml/JavaRandomForestClassifierExample.java\n",
            "spark-3.2.1-bin-hadoop2.7/examples/src/main/java/org/apache/spark/examples/ml/JavaRandomForestRegressorExample.java\n",
            "spark-3.2.1-bin-hadoop2.7/examples/src/main/java/org/apache/spark/examples/ml/JavaRobustScalerExample.java\n",
            "spark-3.2.1-bin-hadoop2.7/examples/src/main/java/org/apache/spark/examples/ml/JavaSQLTransformerExample.java\n",
            "spark-3.2.1-bin-hadoop2.7/examples/src/main/java/org/apache/spark/examples/ml/JavaStandardScalerExample.java\n",
            "spark-3.2.1-bin-hadoop2.7/examples/src/main/java/org/apache/spark/examples/ml/JavaStopWordsRemoverExample.java\n",
            "spark-3.2.1-bin-hadoop2.7/examples/src/main/java/org/apache/spark/examples/ml/JavaStringIndexerExample.java\n",
            "spark-3.2.1-bin-hadoop2.7/examples/src/main/java/org/apache/spark/examples/ml/JavaSummarizerExample.java\n",
            "spark-3.2.1-bin-hadoop2.7/examples/src/main/java/org/apache/spark/examples/ml/JavaTfIdfExample.java\n",
            "spark-3.2.1-bin-hadoop2.7/examples/src/main/java/org/apache/spark/examples/ml/JavaTokenizerExample.java\n",
            "spark-3.2.1-bin-hadoop2.7/examples/src/main/java/org/apache/spark/examples/ml/JavaUnivariateFeatureSelectorExample.java\n",
            "spark-3.2.1-bin-hadoop2.7/examples/src/main/java/org/apache/spark/examples/ml/JavaVarianceThresholdSelectorExample.java\n",
            "spark-3.2.1-bin-hadoop2.7/examples/src/main/java/org/apache/spark/examples/ml/JavaVectorAssemblerExample.java\n",
            "spark-3.2.1-bin-hadoop2.7/examples/src/main/java/org/apache/spark/examples/ml/JavaVectorIndexerExample.java\n",
            "spark-3.2.1-bin-hadoop2.7/examples/src/main/java/org/apache/spark/examples/ml/JavaVectorSizeHintExample.java\n",
            "spark-3.2.1-bin-hadoop2.7/examples/src/main/java/org/apache/spark/examples/ml/JavaVectorSlicerExample.java\n",
            "spark-3.2.1-bin-hadoop2.7/examples/src/main/java/org/apache/spark/examples/ml/JavaWord2VecExample.java\n",
            "spark-3.2.1-bin-hadoop2.7/examples/src/main/java/org/apache/spark/examples/mllib/\n",
            "spark-3.2.1-bin-hadoop2.7/examples/src/main/java/org/apache/spark/examples/mllib/JavaALS.java\n",
            "spark-3.2.1-bin-hadoop2.7/examples/src/main/java/org/apache/spark/examples/mllib/JavaAssociationRulesExample.java\n",
            "spark-3.2.1-bin-hadoop2.7/examples/src/main/java/org/apache/spark/examples/mllib/JavaBinaryClassificationMetricsExample.java\n",
            "spark-3.2.1-bin-hadoop2.7/examples/src/main/java/org/apache/spark/examples/mllib/JavaBisectingKMeansExample.java\n",
            "spark-3.2.1-bin-hadoop2.7/examples/src/main/java/org/apache/spark/examples/mllib/JavaChiSqSelectorExample.java\n",
            "spark-3.2.1-bin-hadoop2.7/examples/src/main/java/org/apache/spark/examples/mllib/JavaCorrelationsExample.java\n",
            "spark-3.2.1-bin-hadoop2.7/examples/src/main/java/org/apache/spark/examples/mllib/JavaDecisionTreeClassificationExample.java\n",
            "spark-3.2.1-bin-hadoop2.7/examples/src/main/java/org/apache/spark/examples/mllib/JavaDecisionTreeRegressionExample.java\n",
            "spark-3.2.1-bin-hadoop2.7/examples/src/main/java/org/apache/spark/examples/mllib/JavaElementwiseProductExample.java\n",
            "spark-3.2.1-bin-hadoop2.7/examples/src/main/java/org/apache/spark/examples/mllib/JavaGaussianMixtureExample.java\n",
            "spark-3.2.1-bin-hadoop2.7/examples/src/main/java/org/apache/spark/examples/mllib/JavaGradientBoostingClassificationExample.java\n",
            "spark-3.2.1-bin-hadoop2.7/examples/src/main/java/org/apache/spark/examples/mllib/JavaGradientBoostingRegressionExample.java\n",
            "spark-3.2.1-bin-hadoop2.7/examples/src/main/java/org/apache/spark/examples/mllib/JavaHypothesisTestingExample.java\n",
            "spark-3.2.1-bin-hadoop2.7/examples/src/main/java/org/apache/spark/examples/mllib/JavaHypothesisTestingKolmogorovSmirnovTestExample.java\n",
            "spark-3.2.1-bin-hadoop2.7/examples/src/main/java/org/apache/spark/examples/mllib/JavaIsotonicRegressionExample.java\n",
            "spark-3.2.1-bin-hadoop2.7/examples/src/main/java/org/apache/spark/examples/mllib/JavaKMeansExample.java\n",
            "spark-3.2.1-bin-hadoop2.7/examples/src/main/java/org/apache/spark/examples/mllib/JavaKernelDensityEstimationExample.java\n",
            "spark-3.2.1-bin-hadoop2.7/examples/src/main/java/org/apache/spark/examples/mllib/JavaLBFGSExample.java\n",
            "spark-3.2.1-bin-hadoop2.7/examples/src/main/java/org/apache/spark/examples/mllib/JavaLatentDirichletAllocationExample.java\n",
            "spark-3.2.1-bin-hadoop2.7/examples/src/main/java/org/apache/spark/examples/mllib/JavaLogisticRegressionWithLBFGSExample.java\n",
            "spark-3.2.1-bin-hadoop2.7/examples/src/main/java/org/apache/spark/examples/mllib/JavaMultiLabelClassificationMetricsExample.java\n",
            "spark-3.2.1-bin-hadoop2.7/examples/src/main/java/org/apache/spark/examples/mllib/JavaMulticlassClassificationMetricsExample.java\n",
            "spark-3.2.1-bin-hadoop2.7/examples/src/main/java/org/apache/spark/examples/mllib/JavaNaiveBayesExample.java\n",
            "spark-3.2.1-bin-hadoop2.7/examples/src/main/java/org/apache/spark/examples/mllib/JavaPCAExample.java\n",
            "spark-3.2.1-bin-hadoop2.7/examples/src/main/java/org/apache/spark/examples/mllib/JavaPowerIterationClusteringExample.java\n",
            "spark-3.2.1-bin-hadoop2.7/examples/src/main/java/org/apache/spark/examples/mllib/JavaPrefixSpanExample.java\n",
            "spark-3.2.1-bin-hadoop2.7/examples/src/main/java/org/apache/spark/examples/mllib/JavaRandomForestClassificationExample.java\n",
            "spark-3.2.1-bin-hadoop2.7/examples/src/main/java/org/apache/spark/examples/mllib/JavaRandomForestRegressionExample.java\n",
            "spark-3.2.1-bin-hadoop2.7/examples/src/main/java/org/apache/spark/examples/mllib/JavaRankingMetricsExample.java\n",
            "spark-3.2.1-bin-hadoop2.7/examples/src/main/java/org/apache/spark/examples/mllib/JavaRecommendationExample.java\n",
            "spark-3.2.1-bin-hadoop2.7/examples/src/main/java/org/apache/spark/examples/mllib/JavaSVDExample.java\n",
            "spark-3.2.1-bin-hadoop2.7/examples/src/main/java/org/apache/spark/examples/mllib/JavaSVMWithSGDExample.java\n",
            "spark-3.2.1-bin-hadoop2.7/examples/src/main/java/org/apache/spark/examples/mllib/JavaSimpleFPGrowth.java\n",
            "spark-3.2.1-bin-hadoop2.7/examples/src/main/java/org/apache/spark/examples/mllib/JavaStratifiedSamplingExample.java\n",
            "spark-3.2.1-bin-hadoop2.7/examples/src/main/java/org/apache/spark/examples/mllib/JavaStreamingTestExample.java\n",
            "spark-3.2.1-bin-hadoop2.7/examples/src/main/java/org/apache/spark/examples/mllib/JavaSummaryStatisticsExample.java\n",
            "spark-3.2.1-bin-hadoop2.7/examples/src/main/java/org/apache/spark/examples/sql/\n",
            "spark-3.2.1-bin-hadoop2.7/examples/src/main/java/org/apache/spark/examples/sql/JavaSQLDataSourceExample.java\n",
            "spark-3.2.1-bin-hadoop2.7/examples/src/main/java/org/apache/spark/examples/sql/JavaSparkSQLExample.java\n",
            "spark-3.2.1-bin-hadoop2.7/examples/src/main/java/org/apache/spark/examples/sql/JavaUserDefinedScalar.java\n",
            "spark-3.2.1-bin-hadoop2.7/examples/src/main/java/org/apache/spark/examples/sql/JavaUserDefinedTypedAggregation.java\n",
            "spark-3.2.1-bin-hadoop2.7/examples/src/main/java/org/apache/spark/examples/sql/JavaUserDefinedUntypedAggregation.java\n",
            "spark-3.2.1-bin-hadoop2.7/examples/src/main/java/org/apache/spark/examples/sql/hive/\n",
            "spark-3.2.1-bin-hadoop2.7/examples/src/main/java/org/apache/spark/examples/sql/hive/JavaSparkHiveExample.java\n",
            "spark-3.2.1-bin-hadoop2.7/examples/src/main/java/org/apache/spark/examples/sql/streaming/\n",
            "spark-3.2.1-bin-hadoop2.7/examples/src/main/java/org/apache/spark/examples/sql/streaming/JavaStructuredComplexSessionization.java\n",
            "spark-3.2.1-bin-hadoop2.7/examples/src/main/java/org/apache/spark/examples/sql/streaming/JavaStructuredKafkaWordCount.java\n",
            "spark-3.2.1-bin-hadoop2.7/examples/src/main/java/org/apache/spark/examples/sql/streaming/JavaStructuredKerberizedKafkaWordCount.java\n",
            "spark-3.2.1-bin-hadoop2.7/examples/src/main/java/org/apache/spark/examples/sql/streaming/JavaStructuredNetworkWordCount.java\n",
            "spark-3.2.1-bin-hadoop2.7/examples/src/main/java/org/apache/spark/examples/sql/streaming/JavaStructuredNetworkWordCountWindowed.java\n",
            "spark-3.2.1-bin-hadoop2.7/examples/src/main/java/org/apache/spark/examples/sql/streaming/JavaStructuredSessionization.java\n",
            "spark-3.2.1-bin-hadoop2.7/examples/src/main/java/org/apache/spark/examples/streaming/\n",
            "spark-3.2.1-bin-hadoop2.7/examples/src/main/java/org/apache/spark/examples/streaming/JavaCustomReceiver.java\n",
            "spark-3.2.1-bin-hadoop2.7/examples/src/main/java/org/apache/spark/examples/streaming/JavaDirectKafkaWordCount.java\n",
            "spark-3.2.1-bin-hadoop2.7/examples/src/main/java/org/apache/spark/examples/streaming/JavaDirectKerberizedKafkaWordCount.java\n",
            "spark-3.2.1-bin-hadoop2.7/examples/src/main/java/org/apache/spark/examples/streaming/JavaNetworkWordCount.java\n",
            "spark-3.2.1-bin-hadoop2.7/examples/src/main/java/org/apache/spark/examples/streaming/JavaQueueStream.java\n",
            "spark-3.2.1-bin-hadoop2.7/examples/src/main/java/org/apache/spark/examples/streaming/JavaRecord.java\n",
            "spark-3.2.1-bin-hadoop2.7/examples/src/main/java/org/apache/spark/examples/streaming/JavaRecoverableNetworkWordCount.java\n",
            "spark-3.2.1-bin-hadoop2.7/examples/src/main/java/org/apache/spark/examples/streaming/JavaSqlNetworkWordCount.java\n",
            "spark-3.2.1-bin-hadoop2.7/examples/src/main/java/org/apache/spark/examples/streaming/JavaStatefulNetworkWordCount.java\n",
            "spark-3.2.1-bin-hadoop2.7/examples/src/main/python/\n",
            "spark-3.2.1-bin-hadoop2.7/examples/src/main/python/als.py\n",
            "spark-3.2.1-bin-hadoop2.7/examples/src/main/python/avro_inputformat.py\n",
            "spark-3.2.1-bin-hadoop2.7/examples/src/main/python/kmeans.py\n",
            "spark-3.2.1-bin-hadoop2.7/examples/src/main/python/logistic_regression.py\n",
            "spark-3.2.1-bin-hadoop2.7/examples/src/main/python/ml/\n",
            "spark-3.2.1-bin-hadoop2.7/examples/src/main/python/ml/aft_survival_regression.py\n",
            "spark-3.2.1-bin-hadoop2.7/examples/src/main/python/ml/als_example.py\n",
            "spark-3.2.1-bin-hadoop2.7/examples/src/main/python/ml/binarizer_example.py\n",
            "spark-3.2.1-bin-hadoop2.7/examples/src/main/python/ml/bisecting_k_means_example.py\n",
            "spark-3.2.1-bin-hadoop2.7/examples/src/main/python/ml/bucketed_random_projection_lsh_example.py\n",
            "spark-3.2.1-bin-hadoop2.7/examples/src/main/python/ml/bucketizer_example.py\n",
            "spark-3.2.1-bin-hadoop2.7/examples/src/main/python/ml/chi_square_test_example.py\n",
            "spark-3.2.1-bin-hadoop2.7/examples/src/main/python/ml/chisq_selector_example.py\n",
            "spark-3.2.1-bin-hadoop2.7/examples/src/main/python/ml/correlation_example.py\n",
            "spark-3.2.1-bin-hadoop2.7/examples/src/main/python/ml/count_vectorizer_example.py\n",
            "spark-3.2.1-bin-hadoop2.7/examples/src/main/python/ml/cross_validator.py\n",
            "spark-3.2.1-bin-hadoop2.7/examples/src/main/python/ml/dataframe_example.py\n",
            "spark-3.2.1-bin-hadoop2.7/examples/src/main/python/ml/dct_example.py\n",
            "spark-3.2.1-bin-hadoop2.7/examples/src/main/python/ml/decision_tree_classification_example.py\n",
            "spark-3.2.1-bin-hadoop2.7/examples/src/main/python/ml/decision_tree_regression_example.py\n",
            "spark-3.2.1-bin-hadoop2.7/examples/src/main/python/ml/elementwise_product_example.py\n",
            "spark-3.2.1-bin-hadoop2.7/examples/src/main/python/ml/estimator_transformer_param_example.py\n",
            "spark-3.2.1-bin-hadoop2.7/examples/src/main/python/ml/feature_hasher_example.py\n",
            "spark-3.2.1-bin-hadoop2.7/examples/src/main/python/ml/fm_classifier_example.py\n",
            "spark-3.2.1-bin-hadoop2.7/examples/src/main/python/ml/fm_regressor_example.py\n",
            "spark-3.2.1-bin-hadoop2.7/examples/src/main/python/ml/fpgrowth_example.py\n",
            "spark-3.2.1-bin-hadoop2.7/examples/src/main/python/ml/gaussian_mixture_example.py\n",
            "spark-3.2.1-bin-hadoop2.7/examples/src/main/python/ml/generalized_linear_regression_example.py\n",
            "spark-3.2.1-bin-hadoop2.7/examples/src/main/python/ml/gradient_boosted_tree_classifier_example.py\n",
            "spark-3.2.1-bin-hadoop2.7/examples/src/main/python/ml/gradient_boosted_tree_regressor_example.py\n",
            "spark-3.2.1-bin-hadoop2.7/examples/src/main/python/ml/imputer_example.py\n",
            "spark-3.2.1-bin-hadoop2.7/examples/src/main/python/ml/index_to_string_example.py\n",
            "spark-3.2.1-bin-hadoop2.7/examples/src/main/python/ml/interaction_example.py\n",
            "spark-3.2.1-bin-hadoop2.7/examples/src/main/python/ml/isotonic_regression_example.py\n",
            "spark-3.2.1-bin-hadoop2.7/examples/src/main/python/ml/kmeans_example.py\n",
            "spark-3.2.1-bin-hadoop2.7/examples/src/main/python/ml/lda_example.py\n",
            "spark-3.2.1-bin-hadoop2.7/examples/src/main/python/ml/linear_regression_with_elastic_net.py\n",
            "spark-3.2.1-bin-hadoop2.7/examples/src/main/python/ml/linearsvc.py\n",
            "spark-3.2.1-bin-hadoop2.7/examples/src/main/python/ml/logistic_regression_summary_example.py\n",
            "spark-3.2.1-bin-hadoop2.7/examples/src/main/python/ml/logistic_regression_with_elastic_net.py\n",
            "spark-3.2.1-bin-hadoop2.7/examples/src/main/python/ml/max_abs_scaler_example.py\n",
            "spark-3.2.1-bin-hadoop2.7/examples/src/main/python/ml/min_hash_lsh_example.py\n",
            "spark-3.2.1-bin-hadoop2.7/examples/src/main/python/ml/min_max_scaler_example.py\n",
            "spark-3.2.1-bin-hadoop2.7/examples/src/main/python/ml/multiclass_logistic_regression_with_elastic_net.py\n",
            "spark-3.2.1-bin-hadoop2.7/examples/src/main/python/ml/multilayer_perceptron_classification.py\n",
            "spark-3.2.1-bin-hadoop2.7/examples/src/main/python/ml/n_gram_example.py\n",
            "spark-3.2.1-bin-hadoop2.7/examples/src/main/python/ml/naive_bayes_example.py\n",
            "spark-3.2.1-bin-hadoop2.7/examples/src/main/python/ml/normalizer_example.py\n",
            "spark-3.2.1-bin-hadoop2.7/examples/src/main/python/ml/one_vs_rest_example.py\n",
            "spark-3.2.1-bin-hadoop2.7/examples/src/main/python/ml/onehot_encoder_example.py\n",
            "spark-3.2.1-bin-hadoop2.7/examples/src/main/python/ml/pca_example.py\n",
            "spark-3.2.1-bin-hadoop2.7/examples/src/main/python/ml/pipeline_example.py\n",
            "spark-3.2.1-bin-hadoop2.7/examples/src/main/python/ml/polynomial_expansion_example.py\n",
            "spark-3.2.1-bin-hadoop2.7/examples/src/main/python/ml/power_iteration_clustering_example.py\n",
            "spark-3.2.1-bin-hadoop2.7/examples/src/main/python/ml/prefixspan_example.py\n",
            "spark-3.2.1-bin-hadoop2.7/examples/src/main/python/ml/quantile_discretizer_example.py\n",
            "spark-3.2.1-bin-hadoop2.7/examples/src/main/python/ml/random_forest_classifier_example.py\n",
            "spark-3.2.1-bin-hadoop2.7/examples/src/main/python/ml/random_forest_regressor_example.py\n",
            "spark-3.2.1-bin-hadoop2.7/examples/src/main/python/ml/rformula_example.py\n",
            "spark-3.2.1-bin-hadoop2.7/examples/src/main/python/ml/robust_scaler_example.py\n",
            "spark-3.2.1-bin-hadoop2.7/examples/src/main/python/ml/sql_transformer.py\n",
            "spark-3.2.1-bin-hadoop2.7/examples/src/main/python/ml/standard_scaler_example.py\n",
            "spark-3.2.1-bin-hadoop2.7/examples/src/main/python/ml/stopwords_remover_example.py\n",
            "spark-3.2.1-bin-hadoop2.7/examples/src/main/python/ml/string_indexer_example.py\n",
            "spark-3.2.1-bin-hadoop2.7/examples/src/main/python/ml/summarizer_example.py\n",
            "spark-3.2.1-bin-hadoop2.7/examples/src/main/python/ml/tf_idf_example.py\n",
            "spark-3.2.1-bin-hadoop2.7/examples/src/main/python/ml/tokenizer_example.py\n",
            "spark-3.2.1-bin-hadoop2.7/examples/src/main/python/ml/train_validation_split.py\n",
            "spark-3.2.1-bin-hadoop2.7/examples/src/main/python/ml/univariate_feature_selector_example.py\n",
            "spark-3.2.1-bin-hadoop2.7/examples/src/main/python/ml/variance_threshold_selector_example.py\n",
            "spark-3.2.1-bin-hadoop2.7/examples/src/main/python/ml/vector_assembler_example.py\n",
            "spark-3.2.1-bin-hadoop2.7/examples/src/main/python/ml/vector_indexer_example.py\n",
            "spark-3.2.1-bin-hadoop2.7/examples/src/main/python/ml/vector_size_hint_example.py\n",
            "spark-3.2.1-bin-hadoop2.7/examples/src/main/python/ml/vector_slicer_example.py\n",
            "spark-3.2.1-bin-hadoop2.7/examples/src/main/python/ml/word2vec_example.py\n",
            "spark-3.2.1-bin-hadoop2.7/examples/src/main/python/mllib/\n",
            "spark-3.2.1-bin-hadoop2.7/examples/src/main/python/mllib/binary_classification_metrics_example.py\n",
            "spark-3.2.1-bin-hadoop2.7/examples/src/main/python/mllib/bisecting_k_means_example.py\n",
            "spark-3.2.1-bin-hadoop2.7/examples/src/main/python/mllib/correlations.py\n",
            "spark-3.2.1-bin-hadoop2.7/examples/src/main/python/mllib/correlations_example.py\n",
            "spark-3.2.1-bin-hadoop2.7/examples/src/main/python/mllib/decision_tree_classification_example.py\n",
            "spark-3.2.1-bin-hadoop2.7/examples/src/main/python/mllib/decision_tree_regression_example.py\n",
            "spark-3.2.1-bin-hadoop2.7/examples/src/main/python/mllib/elementwise_product_example.py\n",
            "spark-3.2.1-bin-hadoop2.7/examples/src/main/python/mllib/fpgrowth_example.py\n",
            "spark-3.2.1-bin-hadoop2.7/examples/src/main/python/mllib/gaussian_mixture_example.py\n",
            "spark-3.2.1-bin-hadoop2.7/examples/src/main/python/mllib/gaussian_mixture_model.py\n",
            "spark-3.2.1-bin-hadoop2.7/examples/src/main/python/mllib/gradient_boosting_classification_example.py\n",
            "spark-3.2.1-bin-hadoop2.7/examples/src/main/python/mllib/gradient_boosting_regression_example.py\n",
            "spark-3.2.1-bin-hadoop2.7/examples/src/main/python/mllib/hypothesis_testing_example.py\n",
            "spark-3.2.1-bin-hadoop2.7/examples/src/main/python/mllib/hypothesis_testing_kolmogorov_smirnov_test_example.py\n",
            "spark-3.2.1-bin-hadoop2.7/examples/src/main/python/mllib/isotonic_regression_example.py\n",
            "spark-3.2.1-bin-hadoop2.7/examples/src/main/python/mllib/k_means_example.py\n",
            "spark-3.2.1-bin-hadoop2.7/examples/src/main/python/mllib/kernel_density_estimation_example.py\n",
            "spark-3.2.1-bin-hadoop2.7/examples/src/main/python/mllib/kmeans.py\n",
            "spark-3.2.1-bin-hadoop2.7/examples/src/main/python/mllib/latent_dirichlet_allocation_example.py\n",
            "spark-3.2.1-bin-hadoop2.7/examples/src/main/python/mllib/linear_regression_with_sgd_example.py\n",
            "spark-3.2.1-bin-hadoop2.7/examples/src/main/python/mllib/logistic_regression.py\n",
            "spark-3.2.1-bin-hadoop2.7/examples/src/main/python/mllib/logistic_regression_with_lbfgs_example.py\n",
            "spark-3.2.1-bin-hadoop2.7/examples/src/main/python/mllib/multi_class_metrics_example.py\n",
            "spark-3.2.1-bin-hadoop2.7/examples/src/main/python/mllib/multi_label_metrics_example.py\n",
            "spark-3.2.1-bin-hadoop2.7/examples/src/main/python/mllib/naive_bayes_example.py\n",
            "spark-3.2.1-bin-hadoop2.7/examples/src/main/python/mllib/normalizer_example.py\n",
            "spark-3.2.1-bin-hadoop2.7/examples/src/main/python/mllib/pca_rowmatrix_example.py\n",
            "spark-3.2.1-bin-hadoop2.7/examples/src/main/python/mllib/power_iteration_clustering_example.py\n",
            "spark-3.2.1-bin-hadoop2.7/examples/src/main/python/mllib/random_forest_classification_example.py\n",
            "spark-3.2.1-bin-hadoop2.7/examples/src/main/python/mllib/random_forest_regression_example.py\n",
            "spark-3.2.1-bin-hadoop2.7/examples/src/main/python/mllib/random_rdd_generation.py\n",
            "spark-3.2.1-bin-hadoop2.7/examples/src/main/python/mllib/ranking_metrics_example.py\n",
            "spark-3.2.1-bin-hadoop2.7/examples/src/main/python/mllib/recommendation_example.py\n",
            "spark-3.2.1-bin-hadoop2.7/examples/src/main/python/mllib/regression_metrics_example.py\n",
            "spark-3.2.1-bin-hadoop2.7/examples/src/main/python/mllib/sampled_rdds.py\n",
            "spark-3.2.1-bin-hadoop2.7/examples/src/main/python/mllib/standard_scaler_example.py\n",
            "spark-3.2.1-bin-hadoop2.7/examples/src/main/python/mllib/stratified_sampling_example.py\n",
            "spark-3.2.1-bin-hadoop2.7/examples/src/main/python/mllib/streaming_k_means_example.py\n",
            "spark-3.2.1-bin-hadoop2.7/examples/src/main/python/mllib/streaming_linear_regression_example.py\n",
            "spark-3.2.1-bin-hadoop2.7/examples/src/main/python/mllib/summary_statistics_example.py\n",
            "spark-3.2.1-bin-hadoop2.7/examples/src/main/python/mllib/svd_example.py\n",
            "spark-3.2.1-bin-hadoop2.7/examples/src/main/python/mllib/svm_with_sgd_example.py\n",
            "spark-3.2.1-bin-hadoop2.7/examples/src/main/python/mllib/tf_idf_example.py\n",
            "spark-3.2.1-bin-hadoop2.7/examples/src/main/python/mllib/word2vec.py\n",
            "spark-3.2.1-bin-hadoop2.7/examples/src/main/python/mllib/word2vec_example.py\n",
            "spark-3.2.1-bin-hadoop2.7/examples/src/main/python/pagerank.py\n",
            "spark-3.2.1-bin-hadoop2.7/examples/src/main/python/parquet_inputformat.py\n",
            "spark-3.2.1-bin-hadoop2.7/examples/src/main/python/pi.py\n",
            "spark-3.2.1-bin-hadoop2.7/examples/src/main/python/sort.py\n",
            "spark-3.2.1-bin-hadoop2.7/examples/src/main/python/sql/\n",
            "spark-3.2.1-bin-hadoop2.7/examples/src/main/python/sql/arrow.py\n",
            "spark-3.2.1-bin-hadoop2.7/examples/src/main/python/sql/basic.py\n",
            "spark-3.2.1-bin-hadoop2.7/examples/src/main/python/sql/datasource.py\n",
            "spark-3.2.1-bin-hadoop2.7/examples/src/main/python/sql/hive.py\n",
            "spark-3.2.1-bin-hadoop2.7/examples/src/main/python/sql/streaming/\n",
            "spark-3.2.1-bin-hadoop2.7/examples/src/main/python/sql/streaming/structured_kafka_wordcount.py\n",
            "spark-3.2.1-bin-hadoop2.7/examples/src/main/python/sql/streaming/structured_network_wordcount.py\n",
            "spark-3.2.1-bin-hadoop2.7/examples/src/main/python/sql/streaming/structured_network_wordcount_windowed.py\n",
            "spark-3.2.1-bin-hadoop2.7/examples/src/main/python/sql/streaming/structured_sessionization.py\n",
            "spark-3.2.1-bin-hadoop2.7/examples/src/main/python/status_api_demo.py\n",
            "spark-3.2.1-bin-hadoop2.7/examples/src/main/python/streaming/\n",
            "spark-3.2.1-bin-hadoop2.7/examples/src/main/python/streaming/hdfs_wordcount.py\n",
            "spark-3.2.1-bin-hadoop2.7/examples/src/main/python/streaming/network_wordcount.py\n",
            "spark-3.2.1-bin-hadoop2.7/examples/src/main/python/streaming/network_wordjoinsentiments.py\n",
            "spark-3.2.1-bin-hadoop2.7/examples/src/main/python/streaming/queue_stream.py\n",
            "spark-3.2.1-bin-hadoop2.7/examples/src/main/python/streaming/recoverable_network_wordcount.py\n",
            "spark-3.2.1-bin-hadoop2.7/examples/src/main/python/streaming/sql_network_wordcount.py\n",
            "spark-3.2.1-bin-hadoop2.7/examples/src/main/python/streaming/stateful_network_wordcount.py\n",
            "spark-3.2.1-bin-hadoop2.7/examples/src/main/python/transitive_closure.py\n",
            "spark-3.2.1-bin-hadoop2.7/examples/src/main/python/wordcount.py\n",
            "spark-3.2.1-bin-hadoop2.7/examples/src/main/r/\n",
            "spark-3.2.1-bin-hadoop2.7/examples/src/main/r/RSparkSQLExample.R\n",
            "spark-3.2.1-bin-hadoop2.7/examples/src/main/r/data-manipulation.R\n",
            "spark-3.2.1-bin-hadoop2.7/examples/src/main/r/dataframe.R\n",
            "spark-3.2.1-bin-hadoop2.7/examples/src/main/r/ml/\n",
            "spark-3.2.1-bin-hadoop2.7/examples/src/main/r/ml/als.R\n",
            "spark-3.2.1-bin-hadoop2.7/examples/src/main/r/ml/bisectingKmeans.R\n",
            "spark-3.2.1-bin-hadoop2.7/examples/src/main/r/ml/decisionTree.R\n",
            "spark-3.2.1-bin-hadoop2.7/examples/src/main/r/ml/fmClassifier.R\n",
            "spark-3.2.1-bin-hadoop2.7/examples/src/main/r/ml/fmRegressor.R\n",
            "spark-3.2.1-bin-hadoop2.7/examples/src/main/r/ml/fpm.R\n",
            "spark-3.2.1-bin-hadoop2.7/examples/src/main/r/ml/gaussianMixture.R\n",
            "spark-3.2.1-bin-hadoop2.7/examples/src/main/r/ml/gbt.R\n",
            "spark-3.2.1-bin-hadoop2.7/examples/src/main/r/ml/glm.R\n",
            "spark-3.2.1-bin-hadoop2.7/examples/src/main/r/ml/isoreg.R\n",
            "spark-3.2.1-bin-hadoop2.7/examples/src/main/r/ml/kmeans.R\n",
            "spark-3.2.1-bin-hadoop2.7/examples/src/main/r/ml/kstest.R\n",
            "spark-3.2.1-bin-hadoop2.7/examples/src/main/r/ml/lda.R\n",
            "spark-3.2.1-bin-hadoop2.7/examples/src/main/r/ml/lm_with_elastic_net.R\n",
            "spark-3.2.1-bin-hadoop2.7/examples/src/main/r/ml/logit.R\n",
            "spark-3.2.1-bin-hadoop2.7/examples/src/main/r/ml/ml.R\n",
            "spark-3.2.1-bin-hadoop2.7/examples/src/main/r/ml/mlp.R\n",
            "spark-3.2.1-bin-hadoop2.7/examples/src/main/r/ml/naiveBayes.R\n",
            "spark-3.2.1-bin-hadoop2.7/examples/src/main/r/ml/powerIterationClustering.R\n",
            "spark-3.2.1-bin-hadoop2.7/examples/src/main/r/ml/prefixSpan.R\n",
            "spark-3.2.1-bin-hadoop2.7/examples/src/main/r/ml/randomForest.R\n",
            "spark-3.2.1-bin-hadoop2.7/examples/src/main/r/ml/survreg.R\n",
            "spark-3.2.1-bin-hadoop2.7/examples/src/main/r/ml/svmLinear.R\n",
            "spark-3.2.1-bin-hadoop2.7/examples/src/main/r/streaming/\n",
            "spark-3.2.1-bin-hadoop2.7/examples/src/main/r/streaming/structured_network_wordcount.R\n",
            "spark-3.2.1-bin-hadoop2.7/examples/src/main/resources/\n",
            "spark-3.2.1-bin-hadoop2.7/examples/src/main/resources/META-INF/\n",
            "spark-3.2.1-bin-hadoop2.7/examples/src/main/resources/META-INF/services/\n",
            "spark-3.2.1-bin-hadoop2.7/examples/src/main/resources/META-INF/services/org.apache.spark.sql.SparkSessionExtensionsProvider\n",
            "spark-3.2.1-bin-hadoop2.7/examples/src/main/resources/META-INF/services/org.apache.spark.sql.jdbc.JdbcConnectionProvider\n",
            "spark-3.2.1-bin-hadoop2.7/examples/src/main/resources/dir1/\n",
            "spark-3.2.1-bin-hadoop2.7/examples/src/main/resources/dir1/dir2/\n",
            "spark-3.2.1-bin-hadoop2.7/examples/src/main/resources/dir1/dir2/file2.parquet\n",
            "spark-3.2.1-bin-hadoop2.7/examples/src/main/resources/dir1/file1.parquet\n",
            "spark-3.2.1-bin-hadoop2.7/examples/src/main/resources/dir1/file3.json\n",
            "spark-3.2.1-bin-hadoop2.7/examples/src/main/resources/employees.json\n",
            "spark-3.2.1-bin-hadoop2.7/examples/src/main/resources/full_user.avsc\n",
            "spark-3.2.1-bin-hadoop2.7/examples/src/main/resources/kv1.txt\n",
            "spark-3.2.1-bin-hadoop2.7/examples/src/main/resources/people.csv\n",
            "spark-3.2.1-bin-hadoop2.7/examples/src/main/resources/people.json\n",
            "spark-3.2.1-bin-hadoop2.7/examples/src/main/resources/people.txt\n",
            "spark-3.2.1-bin-hadoop2.7/examples/src/main/resources/user.avsc\n",
            "spark-3.2.1-bin-hadoop2.7/examples/src/main/resources/users.avro\n",
            "spark-3.2.1-bin-hadoop2.7/examples/src/main/resources/users.orc\n",
            "spark-3.2.1-bin-hadoop2.7/examples/src/main/resources/users.parquet\n",
            "spark-3.2.1-bin-hadoop2.7/examples/src/main/scala/\n",
            "spark-3.2.1-bin-hadoop2.7/examples/src/main/scala/org/\n",
            "spark-3.2.1-bin-hadoop2.7/examples/src/main/scala/org/apache/\n",
            "spark-3.2.1-bin-hadoop2.7/examples/src/main/scala/org/apache/spark/\n",
            "spark-3.2.1-bin-hadoop2.7/examples/src/main/scala/org/apache/spark/examples/\n",
            "spark-3.2.1-bin-hadoop2.7/examples/src/main/scala/org/apache/spark/examples/AccumulatorMetricsTest.scala\n",
            "spark-3.2.1-bin-hadoop2.7/examples/src/main/scala/org/apache/spark/examples/BroadcastTest.scala\n",
            "spark-3.2.1-bin-hadoop2.7/examples/src/main/scala/org/apache/spark/examples/DFSReadWriteTest.scala\n",
            "spark-3.2.1-bin-hadoop2.7/examples/src/main/scala/org/apache/spark/examples/DriverSubmissionTest.scala\n",
            "spark-3.2.1-bin-hadoop2.7/examples/src/main/scala/org/apache/spark/examples/ExceptionHandlingTest.scala\n",
            "spark-3.2.1-bin-hadoop2.7/examples/src/main/scala/org/apache/spark/examples/GroupByTest.scala\n",
            "spark-3.2.1-bin-hadoop2.7/examples/src/main/scala/org/apache/spark/examples/HdfsTest.scala\n",
            "spark-3.2.1-bin-hadoop2.7/examples/src/main/scala/org/apache/spark/examples/LocalALS.scala\n",
            "spark-3.2.1-bin-hadoop2.7/examples/src/main/scala/org/apache/spark/examples/LocalFileLR.scala\n",
            "spark-3.2.1-bin-hadoop2.7/examples/src/main/scala/org/apache/spark/examples/LocalKMeans.scala\n",
            "spark-3.2.1-bin-hadoop2.7/examples/src/main/scala/org/apache/spark/examples/LocalLR.scala\n",
            "spark-3.2.1-bin-hadoop2.7/examples/src/main/scala/org/apache/spark/examples/LocalPi.scala\n",
            "spark-3.2.1-bin-hadoop2.7/examples/src/main/scala/org/apache/spark/examples/LogQuery.scala\n",
            "spark-3.2.1-bin-hadoop2.7/examples/src/main/scala/org/apache/spark/examples/MultiBroadcastTest.scala\n",
            "spark-3.2.1-bin-hadoop2.7/examples/src/main/scala/org/apache/spark/examples/SimpleSkewedGroupByTest.scala\n",
            "spark-3.2.1-bin-hadoop2.7/examples/src/main/scala/org/apache/spark/examples/SkewedGroupByTest.scala\n",
            "spark-3.2.1-bin-hadoop2.7/examples/src/main/scala/org/apache/spark/examples/SparkALS.scala\n",
            "spark-3.2.1-bin-hadoop2.7/examples/src/main/scala/org/apache/spark/examples/SparkHdfsLR.scala\n",
            "spark-3.2.1-bin-hadoop2.7/examples/src/main/scala/org/apache/spark/examples/SparkKMeans.scala\n",
            "spark-3.2.1-bin-hadoop2.7/examples/src/main/scala/org/apache/spark/examples/SparkLR.scala\n",
            "spark-3.2.1-bin-hadoop2.7/examples/src/main/scala/org/apache/spark/examples/SparkPageRank.scala\n",
            "spark-3.2.1-bin-hadoop2.7/examples/src/main/scala/org/apache/spark/examples/SparkPi.scala\n",
            "spark-3.2.1-bin-hadoop2.7/examples/src/main/scala/org/apache/spark/examples/SparkRemoteFileTest.scala\n",
            "spark-3.2.1-bin-hadoop2.7/examples/src/main/scala/org/apache/spark/examples/SparkTC.scala\n",
            "spark-3.2.1-bin-hadoop2.7/examples/src/main/scala/org/apache/spark/examples/extensions/\n",
            "spark-3.2.1-bin-hadoop2.7/examples/src/main/scala/org/apache/spark/examples/extensions/AgeExample.scala\n",
            "spark-3.2.1-bin-hadoop2.7/examples/src/main/scala/org/apache/spark/examples/extensions/SessionExtensionsWithLoader.scala\n",
            "spark-3.2.1-bin-hadoop2.7/examples/src/main/scala/org/apache/spark/examples/extensions/SessionExtensionsWithoutLoader.scala\n",
            "spark-3.2.1-bin-hadoop2.7/examples/src/main/scala/org/apache/spark/examples/extensions/SparkSessionExtensionsTest.scala\n",
            "spark-3.2.1-bin-hadoop2.7/examples/src/main/scala/org/apache/spark/examples/graphx/\n",
            "spark-3.2.1-bin-hadoop2.7/examples/src/main/scala/org/apache/spark/examples/graphx/AggregateMessagesExample.scala\n",
            "spark-3.2.1-bin-hadoop2.7/examples/src/main/scala/org/apache/spark/examples/graphx/Analytics.scala\n",
            "spark-3.2.1-bin-hadoop2.7/examples/src/main/scala/org/apache/spark/examples/graphx/ComprehensiveExample.scala\n",
            "spark-3.2.1-bin-hadoop2.7/examples/src/main/scala/org/apache/spark/examples/graphx/ConnectedComponentsExample.scala\n",
            "spark-3.2.1-bin-hadoop2.7/examples/src/main/scala/org/apache/spark/examples/graphx/LiveJournalPageRank.scala\n",
            "spark-3.2.1-bin-hadoop2.7/examples/src/main/scala/org/apache/spark/examples/graphx/PageRankExample.scala\n",
            "spark-3.2.1-bin-hadoop2.7/examples/src/main/scala/org/apache/spark/examples/graphx/SSSPExample.scala\n",
            "spark-3.2.1-bin-hadoop2.7/examples/src/main/scala/org/apache/spark/examples/graphx/SynthBenchmark.scala\n",
            "spark-3.2.1-bin-hadoop2.7/examples/src/main/scala/org/apache/spark/examples/graphx/TriangleCountingExample.scala\n",
            "spark-3.2.1-bin-hadoop2.7/examples/src/main/scala/org/apache/spark/examples/ml/\n",
            "spark-3.2.1-bin-hadoop2.7/examples/src/main/scala/org/apache/spark/examples/ml/AFTSurvivalRegressionExample.scala\n",
            "spark-3.2.1-bin-hadoop2.7/examples/src/main/scala/org/apache/spark/examples/ml/ALSExample.scala\n",
            "spark-3.2.1-bin-hadoop2.7/examples/src/main/scala/org/apache/spark/examples/ml/BinarizerExample.scala\n",
            "spark-3.2.1-bin-hadoop2.7/examples/src/main/scala/org/apache/spark/examples/ml/BisectingKMeansExample.scala\n",
            "spark-3.2.1-bin-hadoop2.7/examples/src/main/scala/org/apache/spark/examples/ml/BucketedRandomProjectionLSHExample.scala\n",
            "spark-3.2.1-bin-hadoop2.7/examples/src/main/scala/org/apache/spark/examples/ml/BucketizerExample.scala\n",
            "spark-3.2.1-bin-hadoop2.7/examples/src/main/scala/org/apache/spark/examples/ml/ChiSqSelectorExample.scala\n",
            "spark-3.2.1-bin-hadoop2.7/examples/src/main/scala/org/apache/spark/examples/ml/ChiSquareTestExample.scala\n",
            "spark-3.2.1-bin-hadoop2.7/examples/src/main/scala/org/apache/spark/examples/ml/CorrelationExample.scala\n",
            "spark-3.2.1-bin-hadoop2.7/examples/src/main/scala/org/apache/spark/examples/ml/CountVectorizerExample.scala\n",
            "spark-3.2.1-bin-hadoop2.7/examples/src/main/scala/org/apache/spark/examples/ml/DCTExample.scala\n",
            "spark-3.2.1-bin-hadoop2.7/examples/src/main/scala/org/apache/spark/examples/ml/DataFrameExample.scala\n",
            "spark-3.2.1-bin-hadoop2.7/examples/src/main/scala/org/apache/spark/examples/ml/DecisionTreeClassificationExample.scala\n",
            "spark-3.2.1-bin-hadoop2.7/examples/src/main/scala/org/apache/spark/examples/ml/DecisionTreeExample.scala\n",
            "spark-3.2.1-bin-hadoop2.7/examples/src/main/scala/org/apache/spark/examples/ml/DecisionTreeRegressionExample.scala\n",
            "spark-3.2.1-bin-hadoop2.7/examples/src/main/scala/org/apache/spark/examples/ml/DeveloperApiExample.scala\n",
            "spark-3.2.1-bin-hadoop2.7/examples/src/main/scala/org/apache/spark/examples/ml/ElementwiseProductExample.scala\n",
            "spark-3.2.1-bin-hadoop2.7/examples/src/main/scala/org/apache/spark/examples/ml/EstimatorTransformerParamExample.scala\n",
            "spark-3.2.1-bin-hadoop2.7/examples/src/main/scala/org/apache/spark/examples/ml/FMClassifierExample.scala\n",
            "spark-3.2.1-bin-hadoop2.7/examples/src/main/scala/org/apache/spark/examples/ml/FMRegressorExample.scala\n",
            "spark-3.2.1-bin-hadoop2.7/examples/src/main/scala/org/apache/spark/examples/ml/FPGrowthExample.scala\n",
            "spark-3.2.1-bin-hadoop2.7/examples/src/main/scala/org/apache/spark/examples/ml/FeatureHasherExample.scala\n",
            "spark-3.2.1-bin-hadoop2.7/examples/src/main/scala/org/apache/spark/examples/ml/GBTExample.scala\n",
            "spark-3.2.1-bin-hadoop2.7/examples/src/main/scala/org/apache/spark/examples/ml/GaussianMixtureExample.scala\n",
            "spark-3.2.1-bin-hadoop2.7/examples/src/main/scala/org/apache/spark/examples/ml/GeneralizedLinearRegressionExample.scala\n",
            "spark-3.2.1-bin-hadoop2.7/examples/src/main/scala/org/apache/spark/examples/ml/GradientBoostedTreeClassifierExample.scala\n",
            "spark-3.2.1-bin-hadoop2.7/examples/src/main/scala/org/apache/spark/examples/ml/GradientBoostedTreeRegressorExample.scala\n",
            "spark-3.2.1-bin-hadoop2.7/examples/src/main/scala/org/apache/spark/examples/ml/ImputerExample.scala\n",
            "spark-3.2.1-bin-hadoop2.7/examples/src/main/scala/org/apache/spark/examples/ml/IndexToStringExample.scala\n",
            "spark-3.2.1-bin-hadoop2.7/examples/src/main/scala/org/apache/spark/examples/ml/InteractionExample.scala\n",
            "spark-3.2.1-bin-hadoop2.7/examples/src/main/scala/org/apache/spark/examples/ml/IsotonicRegressionExample.scala\n",
            "spark-3.2.1-bin-hadoop2.7/examples/src/main/scala/org/apache/spark/examples/ml/KMeansExample.scala\n",
            "spark-3.2.1-bin-hadoop2.7/examples/src/main/scala/org/apache/spark/examples/ml/LDAExample.scala\n",
            "spark-3.2.1-bin-hadoop2.7/examples/src/main/scala/org/apache/spark/examples/ml/LinearRegressionExample.scala\n",
            "spark-3.2.1-bin-hadoop2.7/examples/src/main/scala/org/apache/spark/examples/ml/LinearRegressionWithElasticNetExample.scala\n",
            "spark-3.2.1-bin-hadoop2.7/examples/src/main/scala/org/apache/spark/examples/ml/LinearSVCExample.scala\n",
            "spark-3.2.1-bin-hadoop2.7/examples/src/main/scala/org/apache/spark/examples/ml/LogisticRegressionExample.scala\n",
            "spark-3.2.1-bin-hadoop2.7/examples/src/main/scala/org/apache/spark/examples/ml/LogisticRegressionSummaryExample.scala\n",
            "spark-3.2.1-bin-hadoop2.7/examples/src/main/scala/org/apache/spark/examples/ml/LogisticRegressionWithElasticNetExample.scala\n",
            "spark-3.2.1-bin-hadoop2.7/examples/src/main/scala/org/apache/spark/examples/ml/MaxAbsScalerExample.scala\n",
            "spark-3.2.1-bin-hadoop2.7/examples/src/main/scala/org/apache/spark/examples/ml/MinHashLSHExample.scala\n",
            "spark-3.2.1-bin-hadoop2.7/examples/src/main/scala/org/apache/spark/examples/ml/MinMaxScalerExample.scala\n",
            "spark-3.2.1-bin-hadoop2.7/examples/src/main/scala/org/apache/spark/examples/ml/ModelSelectionViaCrossValidationExample.scala\n",
            "spark-3.2.1-bin-hadoop2.7/examples/src/main/scala/org/apache/spark/examples/ml/ModelSelectionViaTrainValidationSplitExample.scala\n",
            "spark-3.2.1-bin-hadoop2.7/examples/src/main/scala/org/apache/spark/examples/ml/MulticlassLogisticRegressionWithElasticNetExample.scala\n",
            "spark-3.2.1-bin-hadoop2.7/examples/src/main/scala/org/apache/spark/examples/ml/MultilayerPerceptronClassifierExample.scala\n",
            "spark-3.2.1-bin-hadoop2.7/examples/src/main/scala/org/apache/spark/examples/ml/NGramExample.scala\n",
            "spark-3.2.1-bin-hadoop2.7/examples/src/main/scala/org/apache/spark/examples/ml/NaiveBayesExample.scala\n",
            "spark-3.2.1-bin-hadoop2.7/examples/src/main/scala/org/apache/spark/examples/ml/NormalizerExample.scala\n",
            "spark-3.2.1-bin-hadoop2.7/examples/src/main/scala/org/apache/spark/examples/ml/OneHotEncoderExample.scala\n",
            "spark-3.2.1-bin-hadoop2.7/examples/src/main/scala/org/apache/spark/examples/ml/OneVsRestExample.scala\n",
            "spark-3.2.1-bin-hadoop2.7/examples/src/main/scala/org/apache/spark/examples/ml/PCAExample.scala\n",
            "spark-3.2.1-bin-hadoop2.7/examples/src/main/scala/org/apache/spark/examples/ml/PipelineExample.scala\n",
            "spark-3.2.1-bin-hadoop2.7/examples/src/main/scala/org/apache/spark/examples/ml/PolynomialExpansionExample.scala\n",
            "spark-3.2.1-bin-hadoop2.7/examples/src/main/scala/org/apache/spark/examples/ml/PowerIterationClusteringExample.scala\n",
            "spark-3.2.1-bin-hadoop2.7/examples/src/main/scala/org/apache/spark/examples/ml/PrefixSpanExample.scala\n",
            "spark-3.2.1-bin-hadoop2.7/examples/src/main/scala/org/apache/spark/examples/ml/QuantileDiscretizerExample.scala\n",
            "spark-3.2.1-bin-hadoop2.7/examples/src/main/scala/org/apache/spark/examples/ml/RFormulaExample.scala\n",
            "spark-3.2.1-bin-hadoop2.7/examples/src/main/scala/org/apache/spark/examples/ml/RandomForestClassifierExample.scala\n",
            "spark-3.2.1-bin-hadoop2.7/examples/src/main/scala/org/apache/spark/examples/ml/RandomForestExample.scala\n",
            "spark-3.2.1-bin-hadoop2.7/examples/src/main/scala/org/apache/spark/examples/ml/RandomForestRegressorExample.scala\n",
            "spark-3.2.1-bin-hadoop2.7/examples/src/main/scala/org/apache/spark/examples/ml/RobustScalerExample.scala\n",
            "spark-3.2.1-bin-hadoop2.7/examples/src/main/scala/org/apache/spark/examples/ml/SQLTransformerExample.scala\n",
            "spark-3.2.1-bin-hadoop2.7/examples/src/main/scala/org/apache/spark/examples/ml/StandardScalerExample.scala\n",
            "spark-3.2.1-bin-hadoop2.7/examples/src/main/scala/org/apache/spark/examples/ml/StopWordsRemoverExample.scala\n",
            "spark-3.2.1-bin-hadoop2.7/examples/src/main/scala/org/apache/spark/examples/ml/StringIndexerExample.scala\n",
            "spark-3.2.1-bin-hadoop2.7/examples/src/main/scala/org/apache/spark/examples/ml/SummarizerExample.scala\n",
            "spark-3.2.1-bin-hadoop2.7/examples/src/main/scala/org/apache/spark/examples/ml/TfIdfExample.scala\n",
            "spark-3.2.1-bin-hadoop2.7/examples/src/main/scala/org/apache/spark/examples/ml/TokenizerExample.scala\n",
            "spark-3.2.1-bin-hadoop2.7/examples/src/main/scala/org/apache/spark/examples/ml/UnaryTransformerExample.scala\n",
            "spark-3.2.1-bin-hadoop2.7/examples/src/main/scala/org/apache/spark/examples/ml/UnivariateFeatureSelectorExample.scala\n",
            "spark-3.2.1-bin-hadoop2.7/examples/src/main/scala/org/apache/spark/examples/ml/VarianceThresholdSelectorExample.scala\n",
            "spark-3.2.1-bin-hadoop2.7/examples/src/main/scala/org/apache/spark/examples/ml/VectorAssemblerExample.scala\n",
            "spark-3.2.1-bin-hadoop2.7/examples/src/main/scala/org/apache/spark/examples/ml/VectorIndexerExample.scala\n",
            "spark-3.2.1-bin-hadoop2.7/examples/src/main/scala/org/apache/spark/examples/ml/VectorSizeHintExample.scala\n",
            "spark-3.2.1-bin-hadoop2.7/examples/src/main/scala/org/apache/spark/examples/ml/VectorSlicerExample.scala\n",
            "spark-3.2.1-bin-hadoop2.7/examples/src/main/scala/org/apache/spark/examples/ml/Word2VecExample.scala\n",
            "spark-3.2.1-bin-hadoop2.7/examples/src/main/scala/org/apache/spark/examples/mllib/\n",
            "spark-3.2.1-bin-hadoop2.7/examples/src/main/scala/org/apache/spark/examples/mllib/AbstractParams.scala\n",
            "spark-3.2.1-bin-hadoop2.7/examples/src/main/scala/org/apache/spark/examples/mllib/AssociationRulesExample.scala\n",
            "spark-3.2.1-bin-hadoop2.7/examples/src/main/scala/org/apache/spark/examples/mllib/BinaryClassification.scala\n",
            "spark-3.2.1-bin-hadoop2.7/examples/src/main/scala/org/apache/spark/examples/mllib/BinaryClassificationMetricsExample.scala\n",
            "spark-3.2.1-bin-hadoop2.7/examples/src/main/scala/org/apache/spark/examples/mllib/BisectingKMeansExample.scala\n",
            "spark-3.2.1-bin-hadoop2.7/examples/src/main/scala/org/apache/spark/examples/mllib/ChiSqSelectorExample.scala\n",
            "spark-3.2.1-bin-hadoop2.7/examples/src/main/scala/org/apache/spark/examples/mllib/Correlations.scala\n",
            "spark-3.2.1-bin-hadoop2.7/examples/src/main/scala/org/apache/spark/examples/mllib/CorrelationsExample.scala\n",
            "spark-3.2.1-bin-hadoop2.7/examples/src/main/scala/org/apache/spark/examples/mllib/CosineSimilarity.scala\n",
            "spark-3.2.1-bin-hadoop2.7/examples/src/main/scala/org/apache/spark/examples/mllib/DecisionTreeClassificationExample.scala\n",
            "spark-3.2.1-bin-hadoop2.7/examples/src/main/scala/org/apache/spark/examples/mllib/DecisionTreeRegressionExample.scala\n",
            "spark-3.2.1-bin-hadoop2.7/examples/src/main/scala/org/apache/spark/examples/mllib/DecisionTreeRunner.scala\n",
            "spark-3.2.1-bin-hadoop2.7/examples/src/main/scala/org/apache/spark/examples/mllib/DenseKMeans.scala\n",
            "spark-3.2.1-bin-hadoop2.7/examples/src/main/scala/org/apache/spark/examples/mllib/ElementwiseProductExample.scala\n",
            "spark-3.2.1-bin-hadoop2.7/examples/src/main/scala/org/apache/spark/examples/mllib/FPGrowthExample.scala\n",
            "spark-3.2.1-bin-hadoop2.7/examples/src/main/scala/org/apache/spark/examples/mllib/GaussianMixtureExample.scala\n",
            "spark-3.2.1-bin-hadoop2.7/examples/src/main/scala/org/apache/spark/examples/mllib/GradientBoostedTreesRunner.scala\n",
            "spark-3.2.1-bin-hadoop2.7/examples/src/main/scala/org/apache/spark/examples/mllib/GradientBoostingClassificationExample.scala\n",
            "spark-3.2.1-bin-hadoop2.7/examples/src/main/scala/org/apache/spark/examples/mllib/GradientBoostingRegressionExample.scala\n",
            "spark-3.2.1-bin-hadoop2.7/examples/src/main/scala/org/apache/spark/examples/mllib/HypothesisTestingExample.scala\n",
            "spark-3.2.1-bin-hadoop2.7/examples/src/main/scala/org/apache/spark/examples/mllib/HypothesisTestingKolmogorovSmirnovTestExample.scala\n",
            "spark-3.2.1-bin-hadoop2.7/examples/src/main/scala/org/apache/spark/examples/mllib/IsotonicRegressionExample.scala\n",
            "spark-3.2.1-bin-hadoop2.7/examples/src/main/scala/org/apache/spark/examples/mllib/KMeansExample.scala\n",
            "spark-3.2.1-bin-hadoop2.7/examples/src/main/scala/org/apache/spark/examples/mllib/KernelDensityEstimationExample.scala\n",
            "spark-3.2.1-bin-hadoop2.7/examples/src/main/scala/org/apache/spark/examples/mllib/LBFGSExample.scala\n",
            "spark-3.2.1-bin-hadoop2.7/examples/src/main/scala/org/apache/spark/examples/mllib/LDAExample.scala\n",
            "spark-3.2.1-bin-hadoop2.7/examples/src/main/scala/org/apache/spark/examples/mllib/LatentDirichletAllocationExample.scala\n",
            "spark-3.2.1-bin-hadoop2.7/examples/src/main/scala/org/apache/spark/examples/mllib/LogisticRegressionWithLBFGSExample.scala\n",
            "spark-3.2.1-bin-hadoop2.7/examples/src/main/scala/org/apache/spark/examples/mllib/MovieLensALS.scala\n",
            "spark-3.2.1-bin-hadoop2.7/examples/src/main/scala/org/apache/spark/examples/mllib/MultiLabelMetricsExample.scala\n",
            "spark-3.2.1-bin-hadoop2.7/examples/src/main/scala/org/apache/spark/examples/mllib/MulticlassMetricsExample.scala\n",
            "spark-3.2.1-bin-hadoop2.7/examples/src/main/scala/org/apache/spark/examples/mllib/MultivariateSummarizer.scala\n",
            "spark-3.2.1-bin-hadoop2.7/examples/src/main/scala/org/apache/spark/examples/mllib/NaiveBayesExample.scala\n",
            "spark-3.2.1-bin-hadoop2.7/examples/src/main/scala/org/apache/spark/examples/mllib/NormalizerExample.scala\n",
            "spark-3.2.1-bin-hadoop2.7/examples/src/main/scala/org/apache/spark/examples/mllib/PCAOnRowMatrixExample.scala\n",
            "spark-3.2.1-bin-hadoop2.7/examples/src/main/scala/org/apache/spark/examples/mllib/PCAOnSourceVectorExample.scala\n",
            "spark-3.2.1-bin-hadoop2.7/examples/src/main/scala/org/apache/spark/examples/mllib/PMMLModelExportExample.scala\n",
            "spark-3.2.1-bin-hadoop2.7/examples/src/main/scala/org/apache/spark/examples/mllib/PowerIterationClusteringExample.scala\n",
            "spark-3.2.1-bin-hadoop2.7/examples/src/main/scala/org/apache/spark/examples/mllib/PrefixSpanExample.scala\n",
            "spark-3.2.1-bin-hadoop2.7/examples/src/main/scala/org/apache/spark/examples/mllib/RandomForestClassificationExample.scala\n",
            "spark-3.2.1-bin-hadoop2.7/examples/src/main/scala/org/apache/spark/examples/mllib/RandomForestRegressionExample.scala\n",
            "spark-3.2.1-bin-hadoop2.7/examples/src/main/scala/org/apache/spark/examples/mllib/RandomRDDGeneration.scala\n",
            "spark-3.2.1-bin-hadoop2.7/examples/src/main/scala/org/apache/spark/examples/mllib/RankingMetricsExample.scala\n",
            "spark-3.2.1-bin-hadoop2.7/examples/src/main/scala/org/apache/spark/examples/mllib/RecommendationExample.scala\n",
            "spark-3.2.1-bin-hadoop2.7/examples/src/main/scala/org/apache/spark/examples/mllib/SVDExample.scala\n",
            "spark-3.2.1-bin-hadoop2.7/examples/src/main/scala/org/apache/spark/examples/mllib/SVMWithSGDExample.scala\n",
            "spark-3.2.1-bin-hadoop2.7/examples/src/main/scala/org/apache/spark/examples/mllib/SampledRDDs.scala\n",
            "spark-3.2.1-bin-hadoop2.7/examples/src/main/scala/org/apache/spark/examples/mllib/SimpleFPGrowth.scala\n",
            "spark-3.2.1-bin-hadoop2.7/examples/src/main/scala/org/apache/spark/examples/mllib/SparseNaiveBayes.scala\n",
            "spark-3.2.1-bin-hadoop2.7/examples/src/main/scala/org/apache/spark/examples/mllib/StandardScalerExample.scala\n",
            "spark-3.2.1-bin-hadoop2.7/examples/src/main/scala/org/apache/spark/examples/mllib/StratifiedSamplingExample.scala\n",
            "spark-3.2.1-bin-hadoop2.7/examples/src/main/scala/org/apache/spark/examples/mllib/StreamingKMeansExample.scala\n",
            "spark-3.2.1-bin-hadoop2.7/examples/src/main/scala/org/apache/spark/examples/mllib/StreamingLinearRegressionExample.scala\n",
            "spark-3.2.1-bin-hadoop2.7/examples/src/main/scala/org/apache/spark/examples/mllib/StreamingLogisticRegression.scala\n",
            "spark-3.2.1-bin-hadoop2.7/examples/src/main/scala/org/apache/spark/examples/mllib/StreamingTestExample.scala\n",
            "spark-3.2.1-bin-hadoop2.7/examples/src/main/scala/org/apache/spark/examples/mllib/SummaryStatisticsExample.scala\n",
            "spark-3.2.1-bin-hadoop2.7/examples/src/main/scala/org/apache/spark/examples/mllib/TFIDFExample.scala\n",
            "spark-3.2.1-bin-hadoop2.7/examples/src/main/scala/org/apache/spark/examples/mllib/TallSkinnyPCA.scala\n",
            "spark-3.2.1-bin-hadoop2.7/examples/src/main/scala/org/apache/spark/examples/mllib/TallSkinnySVD.scala\n",
            "spark-3.2.1-bin-hadoop2.7/examples/src/main/scala/org/apache/spark/examples/mllib/Word2VecExample.scala\n",
            "spark-3.2.1-bin-hadoop2.7/examples/src/main/scala/org/apache/spark/examples/pythonconverters/\n",
            "spark-3.2.1-bin-hadoop2.7/examples/src/main/scala/org/apache/spark/examples/pythonconverters/AvroConverters.scala\n",
            "spark-3.2.1-bin-hadoop2.7/examples/src/main/scala/org/apache/spark/examples/sql/\n",
            "spark-3.2.1-bin-hadoop2.7/examples/src/main/scala/org/apache/spark/examples/sql/RDDRelation.scala\n",
            "spark-3.2.1-bin-hadoop2.7/examples/src/main/scala/org/apache/spark/examples/sql/SQLDataSourceExample.scala\n",
            "spark-3.2.1-bin-hadoop2.7/examples/src/main/scala/org/apache/spark/examples/sql/SimpleTypedAggregator.scala\n",
            "spark-3.2.1-bin-hadoop2.7/examples/src/main/scala/org/apache/spark/examples/sql/SparkSQLExample.scala\n",
            "spark-3.2.1-bin-hadoop2.7/examples/src/main/scala/org/apache/spark/examples/sql/UserDefinedScalar.scala\n",
            "spark-3.2.1-bin-hadoop2.7/examples/src/main/scala/org/apache/spark/examples/sql/UserDefinedTypedAggregation.scala\n",
            "spark-3.2.1-bin-hadoop2.7/examples/src/main/scala/org/apache/spark/examples/sql/UserDefinedUntypedAggregation.scala\n",
            "spark-3.2.1-bin-hadoop2.7/examples/src/main/scala/org/apache/spark/examples/sql/hive/\n",
            "spark-3.2.1-bin-hadoop2.7/examples/src/main/scala/org/apache/spark/examples/sql/hive/SparkHiveExample.scala\n",
            "spark-3.2.1-bin-hadoop2.7/examples/src/main/scala/org/apache/spark/examples/sql/jdbc/\n",
            "spark-3.2.1-bin-hadoop2.7/examples/src/main/scala/org/apache/spark/examples/sql/jdbc/ExampleJdbcConnectionProvider.scala\n",
            "spark-3.2.1-bin-hadoop2.7/examples/src/main/scala/org/apache/spark/examples/sql/streaming/\n",
            "spark-3.2.1-bin-hadoop2.7/examples/src/main/scala/org/apache/spark/examples/sql/streaming/StructuredComplexSessionization.scala\n",
            "spark-3.2.1-bin-hadoop2.7/examples/src/main/scala/org/apache/spark/examples/sql/streaming/StructuredKafkaWordCount.scala\n",
            "spark-3.2.1-bin-hadoop2.7/examples/src/main/scala/org/apache/spark/examples/sql/streaming/StructuredKerberizedKafkaWordCount.scala\n",
            "spark-3.2.1-bin-hadoop2.7/examples/src/main/scala/org/apache/spark/examples/sql/streaming/StructuredNetworkWordCount.scala\n",
            "spark-3.2.1-bin-hadoop2.7/examples/src/main/scala/org/apache/spark/examples/sql/streaming/StructuredNetworkWordCountWindowed.scala\n",
            "spark-3.2.1-bin-hadoop2.7/examples/src/main/scala/org/apache/spark/examples/sql/streaming/StructuredSessionization.scala\n",
            "spark-3.2.1-bin-hadoop2.7/examples/src/main/scala/org/apache/spark/examples/streaming/\n",
            "spark-3.2.1-bin-hadoop2.7/examples/src/main/scala/org/apache/spark/examples/streaming/CustomReceiver.scala\n",
            "spark-3.2.1-bin-hadoop2.7/examples/src/main/scala/org/apache/spark/examples/streaming/DirectKafkaWordCount.scala\n",
            "spark-3.2.1-bin-hadoop2.7/examples/src/main/scala/org/apache/spark/examples/streaming/DirectKerberizedKafkaWordCount.scala\n",
            "spark-3.2.1-bin-hadoop2.7/examples/src/main/scala/org/apache/spark/examples/streaming/HdfsWordCount.scala\n",
            "spark-3.2.1-bin-hadoop2.7/examples/src/main/scala/org/apache/spark/examples/streaming/NetworkWordCount.scala\n",
            "spark-3.2.1-bin-hadoop2.7/examples/src/main/scala/org/apache/spark/examples/streaming/QueueStream.scala\n",
            "spark-3.2.1-bin-hadoop2.7/examples/src/main/scala/org/apache/spark/examples/streaming/RawNetworkGrep.scala\n",
            "spark-3.2.1-bin-hadoop2.7/examples/src/main/scala/org/apache/spark/examples/streaming/RecoverableNetworkWordCount.scala\n",
            "spark-3.2.1-bin-hadoop2.7/examples/src/main/scala/org/apache/spark/examples/streaming/SqlNetworkWordCount.scala\n",
            "spark-3.2.1-bin-hadoop2.7/examples/src/main/scala/org/apache/spark/examples/streaming/StatefulNetworkWordCount.scala\n",
            "spark-3.2.1-bin-hadoop2.7/examples/src/main/scala/org/apache/spark/examples/streaming/StreamingExamples.scala\n",
            "spark-3.2.1-bin-hadoop2.7/examples/src/main/scala/org/apache/spark/examples/streaming/clickstream/\n",
            "spark-3.2.1-bin-hadoop2.7/examples/src/main/scala/org/apache/spark/examples/streaming/clickstream/PageViewGenerator.scala\n",
            "spark-3.2.1-bin-hadoop2.7/examples/src/main/scala/org/apache/spark/examples/streaming/clickstream/PageViewStream.scala\n",
            "spark-3.2.1-bin-hadoop2.7/examples/src/main/scripts/\n",
            "spark-3.2.1-bin-hadoop2.7/examples/src/main/scripts/getGpusResources.sh\n",
            "spark-3.2.1-bin-hadoop2.7/jars/\n",
            "spark-3.2.1-bin-hadoop2.7/jars/HikariCP-2.5.1.jar\n",
            "spark-3.2.1-bin-hadoop2.7/jars/JLargeArrays-1.5.jar\n",
            "spark-3.2.1-bin-hadoop2.7/jars/JTransforms-3.1.jar\n",
            "spark-3.2.1-bin-hadoop2.7/jars/RoaringBitmap-0.9.0.jar\n",
            "spark-3.2.1-bin-hadoop2.7/jars/ST4-4.0.4.jar\n",
            "spark-3.2.1-bin-hadoop2.7/jars/activation-1.1.1.jar\n",
            "spark-3.2.1-bin-hadoop2.7/jars/aircompressor-0.21.jar\n",
            "spark-3.2.1-bin-hadoop2.7/jars/algebra_2.12-2.0.1.jar\n",
            "spark-3.2.1-bin-hadoop2.7/jars/annotations-17.0.0.jar\n",
            "spark-3.2.1-bin-hadoop2.7/jars/antlr-runtime-3.5.2.jar\n",
            "spark-3.2.1-bin-hadoop2.7/jars/antlr4-runtime-4.8.jar\n",
            "spark-3.2.1-bin-hadoop2.7/jars/aopalliance-1.0.jar\n",
            "spark-3.2.1-bin-hadoop2.7/jars/aopalliance-repackaged-2.6.1.jar\n",
            "spark-3.2.1-bin-hadoop2.7/jars/apacheds-i18n-2.0.0-M15.jar\n",
            "spark-3.2.1-bin-hadoop2.7/jars/apacheds-kerberos-codec-2.0.0-M15.jar\n",
            "spark-3.2.1-bin-hadoop2.7/jars/api-asn1-api-1.0.0-M20.jar\n",
            "spark-3.2.1-bin-hadoop2.7/jars/api-util-1.0.0-M20.jar\n",
            "spark-3.2.1-bin-hadoop2.7/jars/arpack-2.2.1.jar\n",
            "spark-3.2.1-bin-hadoop2.7/jars/arpack_combined_all-0.1.jar\n",
            "spark-3.2.1-bin-hadoop2.7/jars/arrow-format-2.0.0.jar\n",
            "spark-3.2.1-bin-hadoop2.7/jars/arrow-memory-core-2.0.0.jar\n",
            "spark-3.2.1-bin-hadoop2.7/jars/arrow-memory-netty-2.0.0.jar\n",
            "spark-3.2.1-bin-hadoop2.7/jars/arrow-vector-2.0.0.jar\n",
            "spark-3.2.1-bin-hadoop2.7/jars/audience-annotations-0.5.0.jar\n",
            "spark-3.2.1-bin-hadoop2.7/jars/automaton-1.11-8.jar\n",
            "spark-3.2.1-bin-hadoop2.7/jars/avro-1.10.2.jar\n",
            "spark-3.2.1-bin-hadoop2.7/jars/avro-ipc-1.10.2.jar\n",
            "spark-3.2.1-bin-hadoop2.7/jars/avro-mapred-1.10.2.jar\n",
            "spark-3.2.1-bin-hadoop2.7/jars/blas-2.2.1.jar\n",
            "spark-3.2.1-bin-hadoop2.7/jars/bonecp-0.8.0.RELEASE.jar\n",
            "spark-3.2.1-bin-hadoop2.7/jars/breeze-macros_2.12-1.2.jar\n",
            "spark-3.2.1-bin-hadoop2.7/jars/breeze_2.12-1.2.jar\n",
            "spark-3.2.1-bin-hadoop2.7/jars/cats-kernel_2.12-2.1.1.jar\n",
            "spark-3.2.1-bin-hadoop2.7/jars/chill-java-0.10.0.jar\n",
            "spark-3.2.1-bin-hadoop2.7/jars/chill_2.12-0.10.0.jar\n",
            "spark-3.2.1-bin-hadoop2.7/jars/commons-beanutils-1.9.4.jar\n",
            "spark-3.2.1-bin-hadoop2.7/jars/commons-cli-1.2.jar\n",
            "spark-3.2.1-bin-hadoop2.7/jars/commons-codec-1.15.jar\n",
            "spark-3.2.1-bin-hadoop2.7/jars/commons-collections-3.2.2.jar\n",
            "spark-3.2.1-bin-hadoop2.7/jars/commons-compiler-3.0.16.jar\n",
            "spark-3.2.1-bin-hadoop2.7/jars/commons-compress-1.21.jar\n",
            "spark-3.2.1-bin-hadoop2.7/jars/commons-configuration-1.6.jar\n",
            "spark-3.2.1-bin-hadoop2.7/jars/commons-crypto-1.1.0.jar\n",
            "spark-3.2.1-bin-hadoop2.7/jars/commons-dbcp-1.4.jar\n",
            "spark-3.2.1-bin-hadoop2.7/jars/commons-digester-1.8.jar\n",
            "spark-3.2.1-bin-hadoop2.7/jars/commons-httpclient-3.1.jar\n",
            "spark-3.2.1-bin-hadoop2.7/jars/commons-io-2.4.jar\n",
            "spark-3.2.1-bin-hadoop2.7/jars/commons-lang-2.6.jar\n",
            "spark-3.2.1-bin-hadoop2.7/jars/commons-lang3-3.12.0.jar\n",
            "spark-3.2.1-bin-hadoop2.7/jars/commons-logging-1.1.3.jar\n",
            "spark-3.2.1-bin-hadoop2.7/jars/commons-math3-3.4.1.jar\n",
            "spark-3.2.1-bin-hadoop2.7/jars/commons-net-3.1.jar\n",
            "spark-3.2.1-bin-hadoop2.7/jars/commons-pool-1.5.4.jar\n",
            "spark-3.2.1-bin-hadoop2.7/jars/commons-text-1.6.jar\n",
            "spark-3.2.1-bin-hadoop2.7/jars/compress-lzf-1.0.3.jar\n",
            "spark-3.2.1-bin-hadoop2.7/jars/core-1.1.2.jar\n",
            "spark-3.2.1-bin-hadoop2.7/jars/curator-client-2.7.1.jar\n",
            "spark-3.2.1-bin-hadoop2.7/jars/curator-framework-2.7.1.jar\n",
            "spark-3.2.1-bin-hadoop2.7/jars/curator-recipes-2.7.1.jar\n",
            "spark-3.2.1-bin-hadoop2.7/jars/datanucleus-api-jdo-4.2.4.jar\n",
            "spark-3.2.1-bin-hadoop2.7/jars/datanucleus-core-4.1.17.jar\n",
            "spark-3.2.1-bin-hadoop2.7/jars/datanucleus-rdbms-4.1.19.jar\n",
            "spark-3.2.1-bin-hadoop2.7/jars/derby-10.14.2.0.jar\n",
            "spark-3.2.1-bin-hadoop2.7/jars/dropwizard-metrics-hadoop-metrics2-reporter-0.1.2.jar\n",
            "spark-3.2.1-bin-hadoop2.7/jars/flatbuffers-java-1.9.0.jar\n",
            "spark-3.2.1-bin-hadoop2.7/jars/generex-1.0.2.jar\n",
            "spark-3.2.1-bin-hadoop2.7/jars/gson-2.2.4.jar\n",
            "spark-3.2.1-bin-hadoop2.7/jars/guava-14.0.1.jar\n",
            "spark-3.2.1-bin-hadoop2.7/jars/guice-3.0.jar\n",
            "spark-3.2.1-bin-hadoop2.7/jars/guice-servlet-3.0.jar\n",
            "spark-3.2.1-bin-hadoop2.7/jars/hadoop-annotations-2.7.4.jar\n",
            "spark-3.2.1-bin-hadoop2.7/jars/hadoop-auth-2.7.4.jar\n",
            "spark-3.2.1-bin-hadoop2.7/jars/hadoop-client-2.7.4.jar\n",
            "spark-3.2.1-bin-hadoop2.7/jars/hadoop-common-2.7.4.jar\n",
            "spark-3.2.1-bin-hadoop2.7/jars/hadoop-hdfs-2.7.4.jar\n",
            "spark-3.2.1-bin-hadoop2.7/jars/hadoop-mapreduce-client-app-2.7.4.jar\n",
            "spark-3.2.1-bin-hadoop2.7/jars/hadoop-mapreduce-client-common-2.7.4.jar\n",
            "spark-3.2.1-bin-hadoop2.7/jars/hadoop-mapreduce-client-core-2.7.4.jar\n",
            "spark-3.2.1-bin-hadoop2.7/jars/hadoop-mapreduce-client-jobclient-2.7.4.jar\n",
            "spark-3.2.1-bin-hadoop2.7/jars/hadoop-mapreduce-client-shuffle-2.7.4.jar\n",
            "spark-3.2.1-bin-hadoop2.7/jars/hadoop-yarn-api-2.7.4.jar\n",
            "spark-3.2.1-bin-hadoop2.7/jars/hadoop-yarn-client-2.7.4.jar\n",
            "spark-3.2.1-bin-hadoop2.7/jars/hadoop-yarn-common-2.7.4.jar\n",
            "spark-3.2.1-bin-hadoop2.7/jars/hadoop-yarn-server-common-2.7.4.jar\n",
            "spark-3.2.1-bin-hadoop2.7/jars/hadoop-yarn-server-web-proxy-2.7.4.jar\n",
            "spark-3.2.1-bin-hadoop2.7/jars/hive-beeline-2.3.9.jar\n",
            "spark-3.2.1-bin-hadoop2.7/jars/hive-cli-2.3.9.jar\n",
            "spark-3.2.1-bin-hadoop2.7/jars/hive-common-2.3.9.jar\n",
            "spark-3.2.1-bin-hadoop2.7/jars/hive-exec-2.3.9-core.jar\n",
            "spark-3.2.1-bin-hadoop2.7/jars/hive-jdbc-2.3.9.jar\n",
            "spark-3.2.1-bin-hadoop2.7/jars/hive-llap-common-2.3.9.jar\n",
            "spark-3.2.1-bin-hadoop2.7/jars/hive-metastore-2.3.9.jar\n",
            "spark-3.2.1-bin-hadoop2.7/jars/hive-serde-2.3.9.jar\n",
            "spark-3.2.1-bin-hadoop2.7/jars/hive-service-rpc-3.1.2.jar\n",
            "spark-3.2.1-bin-hadoop2.7/jars/hive-shims-0.23-2.3.9.jar\n",
            "spark-3.2.1-bin-hadoop2.7/jars/hive-shims-2.3.9.jar\n",
            "spark-3.2.1-bin-hadoop2.7/jars/hive-shims-common-2.3.9.jar\n",
            "spark-3.2.1-bin-hadoop2.7/jars/hive-shims-scheduler-2.3.9.jar\n",
            "spark-3.2.1-bin-hadoop2.7/jars/hive-storage-api-2.7.2.jar\n",
            "spark-3.2.1-bin-hadoop2.7/jars/hive-vector-code-gen-2.3.9.jar\n",
            "spark-3.2.1-bin-hadoop2.7/jars/hk2-api-2.6.1.jar\n",
            "spark-3.2.1-bin-hadoop2.7/jars/hk2-locator-2.6.1.jar\n",
            "spark-3.2.1-bin-hadoop2.7/jars/hk2-utils-2.6.1.jar\n",
            "spark-3.2.1-bin-hadoop2.7/jars/htrace-core-3.1.0-incubating.jar\n",
            "spark-3.2.1-bin-hadoop2.7/jars/httpclient-4.5.13.jar\n",
            "spark-3.2.1-bin-hadoop2.7/jars/httpcore-4.4.14.jar\n",
            "spark-3.2.1-bin-hadoop2.7/jars/istack-commons-runtime-3.0.8.jar\n",
            "spark-3.2.1-bin-hadoop2.7/jars/ivy-2.5.0.jar\n",
            "spark-3.2.1-bin-hadoop2.7/jars/jackson-annotations-2.12.3.jar\n",
            "spark-3.2.1-bin-hadoop2.7/jars/jackson-core-2.12.3.jar\n",
            "spark-3.2.1-bin-hadoop2.7/jars/jackson-core-asl-1.9.13.jar\n",
            "spark-3.2.1-bin-hadoop2.7/jars/jackson-databind-2.12.3.jar\n",
            "spark-3.2.1-bin-hadoop2.7/jars/jackson-dataformat-yaml-2.12.3.jar\n",
            "spark-3.2.1-bin-hadoop2.7/jars/jackson-datatype-jsr310-2.11.2.jar\n",
            "spark-3.2.1-bin-hadoop2.7/jars/jackson-jaxrs-1.9.13.jar\n",
            "spark-3.2.1-bin-hadoop2.7/jars/jackson-mapper-asl-1.9.13.jar\n",
            "spark-3.2.1-bin-hadoop2.7/jars/jackson-module-scala_2.12-2.12.3.jar\n",
            "spark-3.2.1-bin-hadoop2.7/jars/jackson-xc-1.9.13.jar\n",
            "spark-3.2.1-bin-hadoop2.7/jars/jakarta.annotation-api-1.3.5.jar\n",
            "spark-3.2.1-bin-hadoop2.7/jars/jakarta.inject-2.6.1.jar\n",
            "spark-3.2.1-bin-hadoop2.7/jars/jakarta.servlet-api-4.0.3.jar\n",
            "spark-3.2.1-bin-hadoop2.7/jars/jakarta.validation-api-2.0.2.jar\n",
            "spark-3.2.1-bin-hadoop2.7/jars/jakarta.ws.rs-api-2.1.6.jar\n",
            "spark-3.2.1-bin-hadoop2.7/jars/jakarta.xml.bind-api-2.3.2.jar\n",
            "spark-3.2.1-bin-hadoop2.7/jars/janino-3.0.16.jar\n",
            "spark-3.2.1-bin-hadoop2.7/jars/javassist-3.25.0-GA.jar\n",
            "spark-3.2.1-bin-hadoop2.7/jars/javax.inject-1.jar\n",
            "spark-3.2.1-bin-hadoop2.7/jars/javax.jdo-3.2.0-m3.jar\n",
            "spark-3.2.1-bin-hadoop2.7/jars/javolution-5.5.1.jar\n",
            "spark-3.2.1-bin-hadoop2.7/jars/jaxb-api-2.2.11.jar\n",
            "spark-3.2.1-bin-hadoop2.7/jars/jaxb-runtime-2.3.2.jar\n",
            "spark-3.2.1-bin-hadoop2.7/jars/jcl-over-slf4j-1.7.30.jar\n",
            "spark-3.2.1-bin-hadoop2.7/jars/jdo-api-3.0.1.jar\n",
            "spark-3.2.1-bin-hadoop2.7/jars/jersey-client-2.34.jar\n",
            "spark-3.2.1-bin-hadoop2.7/jars/jersey-common-2.34.jar\n",
            "spark-3.2.1-bin-hadoop2.7/jars/jersey-container-servlet-2.34.jar\n",
            "spark-3.2.1-bin-hadoop2.7/jars/jersey-container-servlet-core-2.34.jar\n",
            "spark-3.2.1-bin-hadoop2.7/jars/jersey-hk2-2.34.jar\n",
            "spark-3.2.1-bin-hadoop2.7/jars/jersey-server-2.34.jar\n",
            "spark-3.2.1-bin-hadoop2.7/jars/jetty-6.1.26.jar\n",
            "spark-3.2.1-bin-hadoop2.7/jars/jetty-sslengine-6.1.26.jar\n",
            "spark-3.2.1-bin-hadoop2.7/jars/jetty-util-6.1.26.jar\n",
            "spark-3.2.1-bin-hadoop2.7/jars/jline-2.14.6.jar\n",
            "spark-3.2.1-bin-hadoop2.7/jars/joda-time-2.10.10.jar\n",
            "spark-3.2.1-bin-hadoop2.7/jars/jodd-core-3.5.2.jar\n",
            "spark-3.2.1-bin-hadoop2.7/jars/jpam-1.1.jar\n",
            "spark-3.2.1-bin-hadoop2.7/jars/json-1.8.jar\n",
            "spark-3.2.1-bin-hadoop2.7/jars/json4s-ast_2.12-3.7.0-M11.jar\n",
            "spark-3.2.1-bin-hadoop2.7/jars/json4s-core_2.12-3.7.0-M11.jar\n",
            "spark-3.2.1-bin-hadoop2.7/jars/json4s-jackson_2.12-3.7.0-M11.jar\n",
            "spark-3.2.1-bin-hadoop2.7/jars/json4s-scalap_2.12-3.7.0-M11.jar\n",
            "spark-3.2.1-bin-hadoop2.7/jars/jsp-api-2.1.jar\n",
            "spark-3.2.1-bin-hadoop2.7/jars/jsr305-3.0.0.jar\n",
            "spark-3.2.1-bin-hadoop2.7/jars/jta-1.1.jar\n",
            "spark-3.2.1-bin-hadoop2.7/jars/jul-to-slf4j-1.7.30.jar\n",
            "spark-3.2.1-bin-hadoop2.7/jars/kryo-shaded-4.0.2.jar\n",
            "spark-3.2.1-bin-hadoop2.7/jars/kubernetes-client-5.4.1.jar\n",
            "spark-3.2.1-bin-hadoop2.7/jars/kubernetes-model-admissionregistration-5.4.1.jar\n",
            "spark-3.2.1-bin-hadoop2.7/jars/kubernetes-model-apiextensions-5.4.1.jar\n",
            "spark-3.2.1-bin-hadoop2.7/jars/kubernetes-model-apps-5.4.1.jar\n",
            "spark-3.2.1-bin-hadoop2.7/jars/kubernetes-model-autoscaling-5.4.1.jar\n",
            "spark-3.2.1-bin-hadoop2.7/jars/kubernetes-model-batch-5.4.1.jar\n",
            "spark-3.2.1-bin-hadoop2.7/jars/kubernetes-model-certificates-5.4.1.jar\n",
            "spark-3.2.1-bin-hadoop2.7/jars/kubernetes-model-common-5.4.1.jar\n",
            "spark-3.2.1-bin-hadoop2.7/jars/kubernetes-model-coordination-5.4.1.jar\n",
            "spark-3.2.1-bin-hadoop2.7/jars/kubernetes-model-core-5.4.1.jar\n",
            "spark-3.2.1-bin-hadoop2.7/jars/kubernetes-model-discovery-5.4.1.jar\n",
            "spark-3.2.1-bin-hadoop2.7/jars/kubernetes-model-events-5.4.1.jar\n",
            "spark-3.2.1-bin-hadoop2.7/jars/kubernetes-model-extensions-5.4.1.jar\n",
            "spark-3.2.1-bin-hadoop2.7/jars/kubernetes-model-flowcontrol-5.4.1.jar\n",
            "spark-3.2.1-bin-hadoop2.7/jars/kubernetes-model-metrics-5.4.1.jar\n",
            "spark-3.2.1-bin-hadoop2.7/jars/kubernetes-model-networking-5.4.1.jar\n",
            "spark-3.2.1-bin-hadoop2.7/jars/kubernetes-model-node-5.4.1.jar\n",
            "spark-3.2.1-bin-hadoop2.7/jars/kubernetes-model-policy-5.4.1.jar\n",
            "spark-3.2.1-bin-hadoop2.7/jars/kubernetes-model-rbac-5.4.1.jar\n",
            "spark-3.2.1-bin-hadoop2.7/jars/kubernetes-model-scheduling-5.4.1.jar\n",
            "spark-3.2.1-bin-hadoop2.7/jars/kubernetes-model-storageclass-5.4.1.jar\n",
            "spark-3.2.1-bin-hadoop2.7/jars/lapack-2.2.1.jar\n",
            "spark-3.2.1-bin-hadoop2.7/jars/leveldbjni-all-1.8.jar\n",
            "spark-3.2.1-bin-hadoop2.7/jars/libfb303-0.9.3.jar\n",
            "spark-3.2.1-bin-hadoop2.7/jars/libthrift-0.12.0.jar\n",
            "spark-3.2.1-bin-hadoop2.7/jars/log4j-1.2.17.jar\n",
            "spark-3.2.1-bin-hadoop2.7/jars/logging-interceptor-3.12.12.jar\n",
            "spark-3.2.1-bin-hadoop2.7/jars/lz4-java-1.7.1.jar\n",
            "spark-3.2.1-bin-hadoop2.7/jars/macro-compat_2.12-1.1.1.jar\n",
            "spark-3.2.1-bin-hadoop2.7/jars/mesos-1.4.0-shaded-protobuf.jar\n",
            "spark-3.2.1-bin-hadoop2.7/jars/metrics-core-4.2.0.jar\n",
            "spark-3.2.1-bin-hadoop2.7/jars/metrics-graphite-4.2.0.jar\n",
            "spark-3.2.1-bin-hadoop2.7/jars/metrics-jmx-4.2.0.jar\n",
            "spark-3.2.1-bin-hadoop2.7/jars/metrics-json-4.2.0.jar\n",
            "spark-3.2.1-bin-hadoop2.7/jars/metrics-jvm-4.2.0.jar\n",
            "spark-3.2.1-bin-hadoop2.7/jars/minlog-1.3.0.jar\n",
            "spark-3.2.1-bin-hadoop2.7/jars/netty-all-4.1.68.Final.jar\n",
            "spark-3.2.1-bin-hadoop2.7/jars/objenesis-2.6.jar\n",
            "spark-3.2.1-bin-hadoop2.7/jars/okhttp-3.12.12.jar\n",
            "spark-3.2.1-bin-hadoop2.7/jars/okio-1.14.0.jar\n",
            "spark-3.2.1-bin-hadoop2.7/jars/opencsv-2.3.jar\n",
            "spark-3.2.1-bin-hadoop2.7/jars/orc-core-1.6.12.jar\n",
            "spark-3.2.1-bin-hadoop2.7/jars/orc-mapreduce-1.6.12.jar\n",
            "spark-3.2.1-bin-hadoop2.7/jars/orc-shims-1.6.12.jar\n",
            "spark-3.2.1-bin-hadoop2.7/jars/oro-2.0.8.jar\n",
            "spark-3.2.1-bin-hadoop2.7/jars/osgi-resource-locator-1.0.3.jar\n",
            "spark-3.2.1-bin-hadoop2.7/jars/paranamer-2.8.jar\n",
            "spark-3.2.1-bin-hadoop2.7/jars/parquet-column-1.12.2.jar\n",
            "spark-3.2.1-bin-hadoop2.7/jars/parquet-common-1.12.2.jar\n",
            "spark-3.2.1-bin-hadoop2.7/jars/parquet-encoding-1.12.2.jar\n",
            "spark-3.2.1-bin-hadoop2.7/jars/parquet-format-structures-1.12.2.jar\n",
            "spark-3.2.1-bin-hadoop2.7/jars/parquet-hadoop-1.12.2.jar\n",
            "spark-3.2.1-bin-hadoop2.7/jars/parquet-jackson-1.12.2.jar\n",
            "spark-3.2.1-bin-hadoop2.7/jars/protobuf-java-2.5.0.jar\n",
            "spark-3.2.1-bin-hadoop2.7/jars/py4j-0.10.9.3.jar\n",
            "spark-3.2.1-bin-hadoop2.7/jars/pyrolite-4.30.jar\n",
            "spark-3.2.1-bin-hadoop2.7/jars/rocksdbjni-6.20.3.jar\n",
            "spark-3.2.1-bin-hadoop2.7/jars/scala-collection-compat_2.12-2.1.1.jar\n",
            "spark-3.2.1-bin-hadoop2.7/jars/scala-compiler-2.12.15.jar\n",
            "spark-3.2.1-bin-hadoop2.7/jars/scala-library-2.12.15.jar\n",
            "spark-3.2.1-bin-hadoop2.7/jars/scala-parser-combinators_2.12-1.1.2.jar\n",
            "spark-3.2.1-bin-hadoop2.7/jars/scala-reflect-2.12.15.jar\n",
            "spark-3.2.1-bin-hadoop2.7/jars/scala-xml_2.12-1.2.0.jar\n",
            "spark-3.2.1-bin-hadoop2.7/jars/shapeless_2.12-2.3.3.jar\n",
            "spark-3.2.1-bin-hadoop2.7/jars/shims-0.9.0.jar\n",
            "spark-3.2.1-bin-hadoop2.7/jars/slf4j-api-1.7.30.jar\n",
            "spark-3.2.1-bin-hadoop2.7/jars/slf4j-log4j12-1.7.30.jar\n",
            "spark-3.2.1-bin-hadoop2.7/jars/snakeyaml-1.27.jar\n",
            "spark-3.2.1-bin-hadoop2.7/jars/snappy-java-1.1.8.4.jar\n",
            "spark-3.2.1-bin-hadoop2.7/jars/spark-catalyst_2.12-3.2.1.jar\n",
            "spark-3.2.1-bin-hadoop2.7/jars/spark-core_2.12-3.2.1.jar\n",
            "spark-3.2.1-bin-hadoop2.7/jars/spark-graphx_2.12-3.2.1.jar\n",
            "spark-3.2.1-bin-hadoop2.7/jars/spark-hive-thriftserver_2.12-3.2.1.jar\n",
            "spark-3.2.1-bin-hadoop2.7/jars/spark-hive_2.12-3.2.1.jar\n",
            "spark-3.2.1-bin-hadoop2.7/jars/spark-kubernetes_2.12-3.2.1.jar\n",
            "spark-3.2.1-bin-hadoop2.7/jars/spark-kvstore_2.12-3.2.1.jar\n",
            "spark-3.2.1-bin-hadoop2.7/jars/spark-launcher_2.12-3.2.1.jar\n",
            "spark-3.2.1-bin-hadoop2.7/jars/spark-mesos_2.12-3.2.1.jar\n",
            "spark-3.2.1-bin-hadoop2.7/jars/spark-mllib-local_2.12-3.2.1.jar\n",
            "spark-3.2.1-bin-hadoop2.7/jars/spark-mllib_2.12-3.2.1.jar\n",
            "spark-3.2.1-bin-hadoop2.7/jars/spark-network-common_2.12-3.2.1.jar\n",
            "spark-3.2.1-bin-hadoop2.7/jars/spark-network-shuffle_2.12-3.2.1.jar\n",
            "spark-3.2.1-bin-hadoop2.7/jars/spark-repl_2.12-3.2.1.jar\n",
            "spark-3.2.1-bin-hadoop2.7/jars/spark-sketch_2.12-3.2.1.jar\n",
            "spark-3.2.1-bin-hadoop2.7/jars/spark-sql_2.12-3.2.1.jar\n",
            "spark-3.2.1-bin-hadoop2.7/jars/spark-streaming_2.12-3.2.1.jar\n",
            "spark-3.2.1-bin-hadoop2.7/jars/spark-tags_2.12-3.2.1-tests.jar\n",
            "spark-3.2.1-bin-hadoop2.7/jars/spark-tags_2.12-3.2.1.jar\n",
            "spark-3.2.1-bin-hadoop2.7/jars/spark-unsafe_2.12-3.2.1.jar\n",
            "spark-3.2.1-bin-hadoop2.7/jars/spark-yarn_2.12-3.2.1.jar\n",
            "spark-3.2.1-bin-hadoop2.7/jars/spire-macros_2.12-0.17.0.jar\n",
            "spark-3.2.1-bin-hadoop2.7/jars/spire-platform_2.12-0.17.0.jar\n",
            "spark-3.2.1-bin-hadoop2.7/jars/spire-util_2.12-0.17.0.jar\n",
            "spark-3.2.1-bin-hadoop2.7/jars/spire_2.12-0.17.0.jar\n",
            "spark-3.2.1-bin-hadoop2.7/jars/stax-api-1.0.1.jar\n",
            "spark-3.2.1-bin-hadoop2.7/jars/stream-2.9.6.jar\n",
            "spark-3.2.1-bin-hadoop2.7/jars/super-csv-2.2.0.jar\n",
            "spark-3.2.1-bin-hadoop2.7/jars/threeten-extra-1.5.0.jar\n",
            "spark-3.2.1-bin-hadoop2.7/jars/tink-1.6.0.jar\n",
            "spark-3.2.1-bin-hadoop2.7/jars/transaction-api-1.1.jar\n",
            "spark-3.2.1-bin-hadoop2.7/jars/univocity-parsers-2.9.1.jar\n",
            "spark-3.2.1-bin-hadoop2.7/jars/velocity-1.5.jar\n",
            "spark-3.2.1-bin-hadoop2.7/jars/xbean-asm9-shaded-4.20.jar\n",
            "spark-3.2.1-bin-hadoop2.7/jars/xercesImpl-2.12.0.jar\n",
            "spark-3.2.1-bin-hadoop2.7/jars/xml-apis-1.4.01.jar\n",
            "spark-3.2.1-bin-hadoop2.7/jars/xmlenc-0.52.jar\n",
            "spark-3.2.1-bin-hadoop2.7/jars/xz-1.8.jar\n",
            "spark-3.2.1-bin-hadoop2.7/jars/zjsonpatch-0.3.0.jar\n",
            "spark-3.2.1-bin-hadoop2.7/jars/zookeeper-3.6.2.jar\n",
            "spark-3.2.1-bin-hadoop2.7/jars/zookeeper-jute-3.6.2.jar\n",
            "spark-3.2.1-bin-hadoop2.7/jars/zstd-jni-1.5.0-4.jar\n",
            "spark-3.2.1-bin-hadoop2.7/kubernetes/\n",
            "spark-3.2.1-bin-hadoop2.7/kubernetes/dockerfiles/\n",
            "spark-3.2.1-bin-hadoop2.7/kubernetes/dockerfiles/spark/\n",
            "spark-3.2.1-bin-hadoop2.7/kubernetes/dockerfiles/spark/Dockerfile\n",
            "spark-3.2.1-bin-hadoop2.7/kubernetes/dockerfiles/spark/bindings/\n",
            "spark-3.2.1-bin-hadoop2.7/kubernetes/dockerfiles/spark/bindings/R/\n",
            "spark-3.2.1-bin-hadoop2.7/kubernetes/dockerfiles/spark/bindings/R/Dockerfile\n",
            "spark-3.2.1-bin-hadoop2.7/kubernetes/dockerfiles/spark/bindings/python/\n",
            "spark-3.2.1-bin-hadoop2.7/kubernetes/dockerfiles/spark/bindings/python/Dockerfile\n",
            "spark-3.2.1-bin-hadoop2.7/kubernetes/dockerfiles/spark/decom.sh\n",
            "spark-3.2.1-bin-hadoop2.7/kubernetes/dockerfiles/spark/entrypoint.sh\n",
            "spark-3.2.1-bin-hadoop2.7/kubernetes/tests/\n",
            "spark-3.2.1-bin-hadoop2.7/kubernetes/tests/autoscale.py\n",
            "spark-3.2.1-bin-hadoop2.7/kubernetes/tests/decommissioning.py\n",
            "spark-3.2.1-bin-hadoop2.7/kubernetes/tests/decommissioning_cleanup.py\n",
            "spark-3.2.1-bin-hadoop2.7/kubernetes/tests/py_container_checks.py\n",
            "spark-3.2.1-bin-hadoop2.7/kubernetes/tests/pyfiles.py\n",
            "spark-3.2.1-bin-hadoop2.7/kubernetes/tests/python_executable_check.py\n",
            "spark-3.2.1-bin-hadoop2.7/kubernetes/tests/worker_memory_check.py\n",
            "spark-3.2.1-bin-hadoop2.7/licenses/\n",
            "spark-3.2.1-bin-hadoop2.7/licenses/LICENSE-AnchorJS.txt\n",
            "spark-3.2.1-bin-hadoop2.7/licenses/LICENSE-CC0.txt\n",
            "spark-3.2.1-bin-hadoop2.7/licenses/LICENSE-JLargeArrays.txt\n",
            "spark-3.2.1-bin-hadoop2.7/licenses/LICENSE-JTransforms.txt\n",
            "spark-3.2.1-bin-hadoop2.7/licenses/LICENSE-antlr.txt\n",
            "spark-3.2.1-bin-hadoop2.7/licenses/LICENSE-arpack.txt\n",
            "spark-3.2.1-bin-hadoop2.7/licenses/LICENSE-automaton.txt\n",
            "spark-3.2.1-bin-hadoop2.7/licenses/LICENSE-blas.txt\n",
            "spark-3.2.1-bin-hadoop2.7/licenses/LICENSE-bootstrap.txt\n",
            "spark-3.2.1-bin-hadoop2.7/licenses/LICENSE-cloudpickle.txt\n",
            "spark-3.2.1-bin-hadoop2.7/licenses/LICENSE-d3.min.js.txt\n",
            "spark-3.2.1-bin-hadoop2.7/licenses/LICENSE-dagre-d3.txt\n",
            "spark-3.2.1-bin-hadoop2.7/licenses/LICENSE-datatables.txt\n",
            "spark-3.2.1-bin-hadoop2.7/licenses/LICENSE-dnsjava.txt\n",
            "spark-3.2.1-bin-hadoop2.7/licenses/LICENSE-f2j.txt\n",
            "spark-3.2.1-bin-hadoop2.7/licenses/LICENSE-graphlib-dot.txt\n",
            "spark-3.2.1-bin-hadoop2.7/licenses/LICENSE-istack-commons-runtime.txt\n",
            "spark-3.2.1-bin-hadoop2.7/licenses/LICENSE-jakarta-annotation-api\n",
            "spark-3.2.1-bin-hadoop2.7/licenses/LICENSE-jakarta-ws-rs-api\n",
            "spark-3.2.1-bin-hadoop2.7/licenses/LICENSE-jakarta.activation-api.txt\n",
            "spark-3.2.1-bin-hadoop2.7/licenses/LICENSE-jakarta.xml.bind-api.txt\n",
            "spark-3.2.1-bin-hadoop2.7/licenses/LICENSE-janino.txt\n",
            "spark-3.2.1-bin-hadoop2.7/licenses/LICENSE-javassist.html\n",
            "spark-3.2.1-bin-hadoop2.7/licenses/LICENSE-javax-transaction-transaction-api.txt\n",
            "spark-3.2.1-bin-hadoop2.7/licenses/LICENSE-javolution.txt\n",
            "spark-3.2.1-bin-hadoop2.7/licenses/LICENSE-jaxb-runtime.txt\n",
            "spark-3.2.1-bin-hadoop2.7/licenses/LICENSE-jline.txt\n",
            "spark-3.2.1-bin-hadoop2.7/licenses/LICENSE-jodd.txt\n",
            "spark-3.2.1-bin-hadoop2.7/licenses/LICENSE-join.txt\n",
            "spark-3.2.1-bin-hadoop2.7/licenses/LICENSE-jquery.txt\n",
            "spark-3.2.1-bin-hadoop2.7/licenses/LICENSE-json-formatter.txt\n",
            "spark-3.2.1-bin-hadoop2.7/licenses/LICENSE-jsp-api.txt\n",
            "spark-3.2.1-bin-hadoop2.7/licenses/LICENSE-kryo.txt\n",
            "spark-3.2.1-bin-hadoop2.7/licenses/LICENSE-leveldbjni.txt\n",
            "spark-3.2.1-bin-hadoop2.7/licenses/LICENSE-machinist.txt\n",
            "spark-3.2.1-bin-hadoop2.7/licenses/LICENSE-matchMedia-polyfill.txt\n",
            "spark-3.2.1-bin-hadoop2.7/licenses/LICENSE-minlog.txt\n",
            "spark-3.2.1-bin-hadoop2.7/licenses/LICENSE-modernizr.txt\n",
            "spark-3.2.1-bin-hadoop2.7/licenses/LICENSE-mustache.txt\n",
            "spark-3.2.1-bin-hadoop2.7/licenses/LICENSE-netlib.txt\n",
            "spark-3.2.1-bin-hadoop2.7/licenses/LICENSE-paranamer.txt\n",
            "spark-3.2.1-bin-hadoop2.7/licenses/LICENSE-pmml-model.txt\n",
            "spark-3.2.1-bin-hadoop2.7/licenses/LICENSE-protobuf.txt\n",
            "spark-3.2.1-bin-hadoop2.7/licenses/LICENSE-py4j.txt\n",
            "spark-3.2.1-bin-hadoop2.7/licenses/LICENSE-pyrolite.txt\n",
            "spark-3.2.1-bin-hadoop2.7/licenses/LICENSE-re2j.txt\n",
            "spark-3.2.1-bin-hadoop2.7/licenses/LICENSE-reflectasm.txt\n",
            "spark-3.2.1-bin-hadoop2.7/licenses/LICENSE-respond.txt\n",
            "spark-3.2.1-bin-hadoop2.7/licenses/LICENSE-sbt-launch-lib.txt\n",
            "spark-3.2.1-bin-hadoop2.7/licenses/LICENSE-scala.txt\n",
            "spark-3.2.1-bin-hadoop2.7/licenses/LICENSE-scopt.txt\n",
            "spark-3.2.1-bin-hadoop2.7/licenses/LICENSE-slf4j.txt\n",
            "spark-3.2.1-bin-hadoop2.7/licenses/LICENSE-sorttable.js.txt\n",
            "spark-3.2.1-bin-hadoop2.7/licenses/LICENSE-spire.txt\n",
            "spark-3.2.1-bin-hadoop2.7/licenses/LICENSE-vis-timeline.txt\n",
            "spark-3.2.1-bin-hadoop2.7/licenses/LICENSE-xmlenc.txt\n",
            "spark-3.2.1-bin-hadoop2.7/licenses/LICENSE-zstd-jni.txt\n",
            "spark-3.2.1-bin-hadoop2.7/licenses/LICENSE-zstd.txt\n",
            "spark-3.2.1-bin-hadoop2.7/python/\n",
            "spark-3.2.1-bin-hadoop2.7/python/.coveragerc\n",
            "spark-3.2.1-bin-hadoop2.7/python/.gitignore\n",
            "spark-3.2.1-bin-hadoop2.7/python/MANIFEST.in\n",
            "spark-3.2.1-bin-hadoop2.7/python/README.md\n",
            "spark-3.2.1-bin-hadoop2.7/python/docs/\n",
            "spark-3.2.1-bin-hadoop2.7/python/docs/Makefile\n",
            "spark-3.2.1-bin-hadoop2.7/python/docs/make.bat\n",
            "spark-3.2.1-bin-hadoop2.7/python/docs/make2.bat\n",
            "spark-3.2.1-bin-hadoop2.7/python/docs/source/\n",
            "spark-3.2.1-bin-hadoop2.7/python/docs/source/_static/\n",
            "spark-3.2.1-bin-hadoop2.7/python/docs/source/_static/copybutton.js\n",
            "spark-3.2.1-bin-hadoop2.7/python/docs/source/_static/css/\n",
            "spark-3.2.1-bin-hadoop2.7/python/docs/source/_static/css/pyspark.css\n",
            "spark-3.2.1-bin-hadoop2.7/python/docs/source/_templates/\n",
            "spark-3.2.1-bin-hadoop2.7/python/docs/source/_templates/autosummary/\n",
            "spark-3.2.1-bin-hadoop2.7/python/docs/source/_templates/autosummary/class.rst\n",
            "spark-3.2.1-bin-hadoop2.7/python/docs/source/_templates/autosummary/class_with_docs.rst\n",
            "spark-3.2.1-bin-hadoop2.7/python/docs/source/conf.py\n",
            "spark-3.2.1-bin-hadoop2.7/python/docs/source/development/\n",
            "spark-3.2.1-bin-hadoop2.7/python/docs/source/development/contributing.rst\n",
            "spark-3.2.1-bin-hadoop2.7/python/docs/source/development/debugging.rst\n",
            "spark-3.2.1-bin-hadoop2.7/python/docs/source/development/index.rst\n",
            "spark-3.2.1-bin-hadoop2.7/python/docs/source/development/setting_ide.rst\n",
            "spark-3.2.1-bin-hadoop2.7/python/docs/source/development/testing.rst\n",
            "spark-3.2.1-bin-hadoop2.7/python/docs/source/getting_started/\n",
            "spark-3.2.1-bin-hadoop2.7/python/docs/source/getting_started/index.rst\n",
            "spark-3.2.1-bin-hadoop2.7/python/docs/source/getting_started/install.rst\n",
            "spark-3.2.1-bin-hadoop2.7/python/docs/source/getting_started/quickstart_df.ipynb\n",
            "spark-3.2.1-bin-hadoop2.7/python/docs/source/getting_started/quickstart_ps.ipynb\n",
            "spark-3.2.1-bin-hadoop2.7/python/docs/source/index.rst\n",
            "spark-3.2.1-bin-hadoop2.7/python/docs/source/migration_guide/\n",
            "spark-3.2.1-bin-hadoop2.7/python/docs/source/migration_guide/index.rst\n",
            "spark-3.2.1-bin-hadoop2.7/python/docs/source/migration_guide/koalas_to_pyspark.rst\n",
            "spark-3.2.1-bin-hadoop2.7/python/docs/source/migration_guide/pyspark_1.0_1.2_to_1.3.rst\n",
            "spark-3.2.1-bin-hadoop2.7/python/docs/source/migration_guide/pyspark_1.4_to_1.5.rst\n",
            "spark-3.2.1-bin-hadoop2.7/python/docs/source/migration_guide/pyspark_2.2_to_2.3.rst\n",
            "spark-3.2.1-bin-hadoop2.7/python/docs/source/migration_guide/pyspark_2.3.0_to_2.3.1_above.rst\n",
            "spark-3.2.1-bin-hadoop2.7/python/docs/source/migration_guide/pyspark_2.3_to_2.4.rst\n",
            "spark-3.2.1-bin-hadoop2.7/python/docs/source/migration_guide/pyspark_2.4_to_3.0.rst\n",
            "spark-3.2.1-bin-hadoop2.7/python/docs/source/migration_guide/pyspark_3.1_to_3.2.rst\n",
            "spark-3.2.1-bin-hadoop2.7/python/docs/source/reference/\n",
            "spark-3.2.1-bin-hadoop2.7/python/docs/source/reference/index.rst\n",
            "spark-3.2.1-bin-hadoop2.7/python/docs/source/reference/pyspark.ml.rst\n",
            "spark-3.2.1-bin-hadoop2.7/python/docs/source/reference/pyspark.mllib.rst\n",
            "spark-3.2.1-bin-hadoop2.7/python/docs/source/reference/pyspark.pandas/\n",
            "spark-3.2.1-bin-hadoop2.7/python/docs/source/reference/pyspark.pandas/extensions.rst\n",
            "spark-3.2.1-bin-hadoop2.7/python/docs/source/reference/pyspark.pandas/frame.rst\n",
            "spark-3.2.1-bin-hadoop2.7/python/docs/source/reference/pyspark.pandas/general_functions.rst\n",
            "spark-3.2.1-bin-hadoop2.7/python/docs/source/reference/pyspark.pandas/groupby.rst\n",
            "spark-3.2.1-bin-hadoop2.7/python/docs/source/reference/pyspark.pandas/index.rst\n",
            "spark-3.2.1-bin-hadoop2.7/python/docs/source/reference/pyspark.pandas/indexing.rst\n",
            "spark-3.2.1-bin-hadoop2.7/python/docs/source/reference/pyspark.pandas/io.rst\n",
            "spark-3.2.1-bin-hadoop2.7/python/docs/source/reference/pyspark.pandas/ml.rst\n",
            "spark-3.2.1-bin-hadoop2.7/python/docs/source/reference/pyspark.pandas/series.rst\n",
            "spark-3.2.1-bin-hadoop2.7/python/docs/source/reference/pyspark.pandas/window.rst\n",
            "spark-3.2.1-bin-hadoop2.7/python/docs/source/reference/pyspark.resource.rst\n",
            "spark-3.2.1-bin-hadoop2.7/python/docs/source/reference/pyspark.rst\n",
            "spark-3.2.1-bin-hadoop2.7/python/docs/source/reference/pyspark.sql.rst\n",
            "spark-3.2.1-bin-hadoop2.7/python/docs/source/reference/pyspark.ss.rst\n",
            "spark-3.2.1-bin-hadoop2.7/python/docs/source/reference/pyspark.streaming.rst\n",
            "spark-3.2.1-bin-hadoop2.7/python/docs/source/user_guide/\n",
            "spark-3.2.1-bin-hadoop2.7/python/docs/source/user_guide/arrow_pandas.rst\n",
            "spark-3.2.1-bin-hadoop2.7/python/docs/source/user_guide/index.rst\n",
            "spark-3.2.1-bin-hadoop2.7/python/docs/source/user_guide/pandas_on_spark/\n",
            "spark-3.2.1-bin-hadoop2.7/python/docs/source/user_guide/pandas_on_spark/best_practices.rst\n",
            "spark-3.2.1-bin-hadoop2.7/python/docs/source/user_guide/pandas_on_spark/faq.rst\n",
            "spark-3.2.1-bin-hadoop2.7/python/docs/source/user_guide/pandas_on_spark/from_to_dbms.rst\n",
            "spark-3.2.1-bin-hadoop2.7/python/docs/source/user_guide/pandas_on_spark/index.rst\n",
            "spark-3.2.1-bin-hadoop2.7/python/docs/source/user_guide/pandas_on_spark/options.rst\n",
            "spark-3.2.1-bin-hadoop2.7/python/docs/source/user_guide/pandas_on_spark/pandas_pyspark.rst\n",
            "spark-3.2.1-bin-hadoop2.7/python/docs/source/user_guide/pandas_on_spark/transform_apply.rst\n",
            "spark-3.2.1-bin-hadoop2.7/python/docs/source/user_guide/pandas_on_spark/typehints.rst\n",
            "spark-3.2.1-bin-hadoop2.7/python/docs/source/user_guide/pandas_on_spark/types.rst\n",
            "spark-3.2.1-bin-hadoop2.7/python/docs/source/user_guide/python_packaging.rst\n",
            "spark-3.2.1-bin-hadoop2.7/python/docs/source/user_guide/sql/\n",
            "spark-3.2.1-bin-hadoop2.7/python/docs/source/user_guide/sql/arrow_pandas.rst\n",
            "spark-3.2.1-bin-hadoop2.7/python/docs/source/user_guide/sql/index.rst\n",
            "spark-3.2.1-bin-hadoop2.7/python/lib/\n",
            "spark-3.2.1-bin-hadoop2.7/python/lib/PY4J_LICENSE.txt\n",
            "spark-3.2.1-bin-hadoop2.7/python/lib/py4j-0.10.9.3-src.zip\n",
            "spark-3.2.1-bin-hadoop2.7/python/lib/pyspark.zip\n",
            "spark-3.2.1-bin-hadoop2.7/python/mypy.ini\n",
            "spark-3.2.1-bin-hadoop2.7/python/pylintrc\n",
            "spark-3.2.1-bin-hadoop2.7/python/pyspark/\n",
            "spark-3.2.1-bin-hadoop2.7/python/pyspark/__init__.py\n",
            "spark-3.2.1-bin-hadoop2.7/python/pyspark/__init__.pyi\n",
            "spark-3.2.1-bin-hadoop2.7/python/pyspark/_globals.py\n",
            "spark-3.2.1-bin-hadoop2.7/python/pyspark/_typing.pyi\n",
            "spark-3.2.1-bin-hadoop2.7/python/pyspark/accumulators.py\n",
            "spark-3.2.1-bin-hadoop2.7/python/pyspark/accumulators.pyi\n",
            "spark-3.2.1-bin-hadoop2.7/python/pyspark/broadcast.py\n",
            "spark-3.2.1-bin-hadoop2.7/python/pyspark/broadcast.pyi\n",
            "spark-3.2.1-bin-hadoop2.7/python/pyspark/cloudpickle/\n",
            "spark-3.2.1-bin-hadoop2.7/python/pyspark/cloudpickle/__init__.py\n",
            "spark-3.2.1-bin-hadoop2.7/python/pyspark/cloudpickle/cloudpickle.py\n",
            "spark-3.2.1-bin-hadoop2.7/python/pyspark/cloudpickle/cloudpickle_fast.py\n",
            "spark-3.2.1-bin-hadoop2.7/python/pyspark/cloudpickle/compat.py\n",
            "spark-3.2.1-bin-hadoop2.7/python/pyspark/conf.py\n",
            "spark-3.2.1-bin-hadoop2.7/python/pyspark/conf.pyi\n",
            "spark-3.2.1-bin-hadoop2.7/python/pyspark/context.py\n",
            "spark-3.2.1-bin-hadoop2.7/python/pyspark/context.pyi\n",
            "spark-3.2.1-bin-hadoop2.7/python/pyspark/daemon.py\n",
            "spark-3.2.1-bin-hadoop2.7/python/pyspark/files.py\n",
            "spark-3.2.1-bin-hadoop2.7/python/pyspark/files.pyi\n",
            "spark-3.2.1-bin-hadoop2.7/python/pyspark/find_spark_home.py\n",
            "spark-3.2.1-bin-hadoop2.7/python/pyspark/install.py\n",
            "spark-3.2.1-bin-hadoop2.7/python/pyspark/java_gateway.py\n",
            "spark-3.2.1-bin-hadoop2.7/python/pyspark/join.py\n",
            "spark-3.2.1-bin-hadoop2.7/python/pyspark/ml/\n",
            "spark-3.2.1-bin-hadoop2.7/python/pyspark/ml/__init__.py\n",
            "spark-3.2.1-bin-hadoop2.7/python/pyspark/ml/_typing.pyi\n",
            "spark-3.2.1-bin-hadoop2.7/python/pyspark/ml/base.py\n",
            "spark-3.2.1-bin-hadoop2.7/python/pyspark/ml/base.pyi\n",
            "spark-3.2.1-bin-hadoop2.7/python/pyspark/ml/classification.py\n",
            "spark-3.2.1-bin-hadoop2.7/python/pyspark/ml/classification.pyi\n",
            "spark-3.2.1-bin-hadoop2.7/python/pyspark/ml/clustering.py\n",
            "spark-3.2.1-bin-hadoop2.7/python/pyspark/ml/clustering.pyi\n",
            "spark-3.2.1-bin-hadoop2.7/python/pyspark/ml/common.py\n",
            "spark-3.2.1-bin-hadoop2.7/python/pyspark/ml/common.pyi\n",
            "spark-3.2.1-bin-hadoop2.7/python/pyspark/ml/evaluation.py\n",
            "spark-3.2.1-bin-hadoop2.7/python/pyspark/ml/evaluation.pyi\n",
            "spark-3.2.1-bin-hadoop2.7/python/pyspark/ml/feature.py\n",
            "spark-3.2.1-bin-hadoop2.7/python/pyspark/ml/feature.pyi\n",
            "spark-3.2.1-bin-hadoop2.7/python/pyspark/ml/fpm.py\n",
            "spark-3.2.1-bin-hadoop2.7/python/pyspark/ml/fpm.pyi\n",
            "spark-3.2.1-bin-hadoop2.7/python/pyspark/ml/functions.py\n",
            "spark-3.2.1-bin-hadoop2.7/python/pyspark/ml/functions.pyi\n",
            "spark-3.2.1-bin-hadoop2.7/python/pyspark/ml/image.py\n",
            "spark-3.2.1-bin-hadoop2.7/python/pyspark/ml/image.pyi\n",
            "spark-3.2.1-bin-hadoop2.7/python/pyspark/ml/linalg/\n",
            "spark-3.2.1-bin-hadoop2.7/python/pyspark/ml/linalg/__init__.py\n",
            "spark-3.2.1-bin-hadoop2.7/python/pyspark/ml/linalg/__init__.pyi\n",
            "spark-3.2.1-bin-hadoop2.7/python/pyspark/ml/param/\n",
            "spark-3.2.1-bin-hadoop2.7/python/pyspark/ml/param/__init__.py\n",
            "spark-3.2.1-bin-hadoop2.7/python/pyspark/ml/param/__init__.pyi\n",
            "spark-3.2.1-bin-hadoop2.7/python/pyspark/ml/param/_shared_params_code_gen.py\n",
            "spark-3.2.1-bin-hadoop2.7/python/pyspark/ml/param/_shared_params_code_gen.pyi\n",
            "spark-3.2.1-bin-hadoop2.7/python/pyspark/ml/param/shared.py\n",
            "spark-3.2.1-bin-hadoop2.7/python/pyspark/ml/param/shared.pyi\n",
            "spark-3.2.1-bin-hadoop2.7/python/pyspark/ml/pipeline.py\n",
            "spark-3.2.1-bin-hadoop2.7/python/pyspark/ml/pipeline.pyi\n",
            "spark-3.2.1-bin-hadoop2.7/python/pyspark/ml/recommendation.py\n",
            "spark-3.2.1-bin-hadoop2.7/python/pyspark/ml/recommendation.pyi\n",
            "spark-3.2.1-bin-hadoop2.7/python/pyspark/ml/regression.py\n",
            "spark-3.2.1-bin-hadoop2.7/python/pyspark/ml/regression.pyi\n",
            "spark-3.2.1-bin-hadoop2.7/python/pyspark/ml/stat.py\n",
            "spark-3.2.1-bin-hadoop2.7/python/pyspark/ml/stat.pyi\n",
            "spark-3.2.1-bin-hadoop2.7/python/pyspark/ml/tests/\n",
            "spark-3.2.1-bin-hadoop2.7/python/pyspark/ml/tests/__init__.py\n",
            "spark-3.2.1-bin-hadoop2.7/python/pyspark/ml/tests/test_algorithms.py\n",
            "spark-3.2.1-bin-hadoop2.7/python/pyspark/ml/tests/test_base.py\n",
            "spark-3.2.1-bin-hadoop2.7/python/pyspark/ml/tests/test_evaluation.py\n",
            "spark-3.2.1-bin-hadoop2.7/python/pyspark/ml/tests/test_feature.py\n",
            "spark-3.2.1-bin-hadoop2.7/python/pyspark/ml/tests/test_image.py\n",
            "spark-3.2.1-bin-hadoop2.7/python/pyspark/ml/tests/test_linalg.py\n",
            "spark-3.2.1-bin-hadoop2.7/python/pyspark/ml/tests/test_param.py\n",
            "spark-3.2.1-bin-hadoop2.7/python/pyspark/ml/tests/test_persistence.py\n",
            "spark-3.2.1-bin-hadoop2.7/python/pyspark/ml/tests/test_pipeline.py\n",
            "spark-3.2.1-bin-hadoop2.7/python/pyspark/ml/tests/test_stat.py\n",
            "spark-3.2.1-bin-hadoop2.7/python/pyspark/ml/tests/test_training_summary.py\n",
            "spark-3.2.1-bin-hadoop2.7/python/pyspark/ml/tests/test_tuning.py\n",
            "spark-3.2.1-bin-hadoop2.7/python/pyspark/ml/tests/test_util.py\n",
            "spark-3.2.1-bin-hadoop2.7/python/pyspark/ml/tests/test_wrapper.py\n",
            "spark-3.2.1-bin-hadoop2.7/python/pyspark/ml/tree.py\n",
            "spark-3.2.1-bin-hadoop2.7/python/pyspark/ml/tree.pyi\n",
            "spark-3.2.1-bin-hadoop2.7/python/pyspark/ml/tuning.py\n",
            "spark-3.2.1-bin-hadoop2.7/python/pyspark/ml/tuning.pyi\n",
            "spark-3.2.1-bin-hadoop2.7/python/pyspark/ml/util.py\n",
            "spark-3.2.1-bin-hadoop2.7/python/pyspark/ml/util.pyi\n",
            "spark-3.2.1-bin-hadoop2.7/python/pyspark/ml/wrapper.py\n",
            "spark-3.2.1-bin-hadoop2.7/python/pyspark/ml/wrapper.pyi\n",
            "spark-3.2.1-bin-hadoop2.7/python/pyspark/mllib/\n",
            "spark-3.2.1-bin-hadoop2.7/python/pyspark/mllib/__init__.py\n",
            "spark-3.2.1-bin-hadoop2.7/python/pyspark/mllib/_typing.pyi\n",
            "spark-3.2.1-bin-hadoop2.7/python/pyspark/mllib/classification.py\n",
            "spark-3.2.1-bin-hadoop2.7/python/pyspark/mllib/classification.pyi\n",
            "spark-3.2.1-bin-hadoop2.7/python/pyspark/mllib/clustering.py\n",
            "spark-3.2.1-bin-hadoop2.7/python/pyspark/mllib/clustering.pyi\n",
            "spark-3.2.1-bin-hadoop2.7/python/pyspark/mllib/common.py\n",
            "spark-3.2.1-bin-hadoop2.7/python/pyspark/mllib/common.pyi\n",
            "spark-3.2.1-bin-hadoop2.7/python/pyspark/mllib/evaluation.py\n",
            "spark-3.2.1-bin-hadoop2.7/python/pyspark/mllib/evaluation.pyi\n",
            "spark-3.2.1-bin-hadoop2.7/python/pyspark/mllib/feature.py\n",
            "spark-3.2.1-bin-hadoop2.7/python/pyspark/mllib/feature.pyi\n",
            "spark-3.2.1-bin-hadoop2.7/python/pyspark/mllib/fpm.py\n",
            "spark-3.2.1-bin-hadoop2.7/python/pyspark/mllib/fpm.pyi\n",
            "spark-3.2.1-bin-hadoop2.7/python/pyspark/mllib/linalg/\n",
            "spark-3.2.1-bin-hadoop2.7/python/pyspark/mllib/linalg/__init__.py\n",
            "spark-3.2.1-bin-hadoop2.7/python/pyspark/mllib/linalg/__init__.pyi\n",
            "spark-3.2.1-bin-hadoop2.7/python/pyspark/mllib/linalg/distributed.py\n",
            "spark-3.2.1-bin-hadoop2.7/python/pyspark/mllib/linalg/distributed.pyi\n",
            "spark-3.2.1-bin-hadoop2.7/python/pyspark/mllib/random.py\n",
            "spark-3.2.1-bin-hadoop2.7/python/pyspark/mllib/random.pyi\n",
            "spark-3.2.1-bin-hadoop2.7/python/pyspark/mllib/recommendation.py\n",
            "spark-3.2.1-bin-hadoop2.7/python/pyspark/mllib/recommendation.pyi\n",
            "spark-3.2.1-bin-hadoop2.7/python/pyspark/mllib/regression.py\n",
            "spark-3.2.1-bin-hadoop2.7/python/pyspark/mllib/regression.pyi\n",
            "spark-3.2.1-bin-hadoop2.7/python/pyspark/mllib/stat/\n",
            "spark-3.2.1-bin-hadoop2.7/python/pyspark/mllib/stat/KernelDensity.py\n",
            "spark-3.2.1-bin-hadoop2.7/python/pyspark/mllib/stat/KernelDensity.pyi\n",
            "spark-3.2.1-bin-hadoop2.7/python/pyspark/mllib/stat/__init__.py\n",
            "spark-3.2.1-bin-hadoop2.7/python/pyspark/mllib/stat/__init__.pyi\n",
            "spark-3.2.1-bin-hadoop2.7/python/pyspark/mllib/stat/_statistics.py\n",
            "spark-3.2.1-bin-hadoop2.7/python/pyspark/mllib/stat/_statistics.pyi\n",
            "spark-3.2.1-bin-hadoop2.7/python/pyspark/mllib/stat/distribution.py\n",
            "spark-3.2.1-bin-hadoop2.7/python/pyspark/mllib/stat/distribution.pyi\n",
            "spark-3.2.1-bin-hadoop2.7/python/pyspark/mllib/stat/test.py\n",
            "spark-3.2.1-bin-hadoop2.7/python/pyspark/mllib/stat/test.pyi\n",
            "spark-3.2.1-bin-hadoop2.7/python/pyspark/mllib/tests/\n",
            "spark-3.2.1-bin-hadoop2.7/python/pyspark/mllib/tests/__init__.py\n",
            "spark-3.2.1-bin-hadoop2.7/python/pyspark/mllib/tests/test_algorithms.py\n",
            "spark-3.2.1-bin-hadoop2.7/python/pyspark/mllib/tests/test_feature.py\n",
            "spark-3.2.1-bin-hadoop2.7/python/pyspark/mllib/tests/test_linalg.py\n",
            "spark-3.2.1-bin-hadoop2.7/python/pyspark/mllib/tests/test_stat.py\n",
            "spark-3.2.1-bin-hadoop2.7/python/pyspark/mllib/tests/test_streaming_algorithms.py\n",
            "spark-3.2.1-bin-hadoop2.7/python/pyspark/mllib/tests/test_util.py\n",
            "spark-3.2.1-bin-hadoop2.7/python/pyspark/mllib/tree.py\n",
            "spark-3.2.1-bin-hadoop2.7/python/pyspark/mllib/tree.pyi\n",
            "spark-3.2.1-bin-hadoop2.7/python/pyspark/mllib/util.py\n",
            "spark-3.2.1-bin-hadoop2.7/python/pyspark/mllib/util.pyi\n",
            "spark-3.2.1-bin-hadoop2.7/python/pyspark/pandas/\n",
            "spark-3.2.1-bin-hadoop2.7/python/pyspark/pandas/__init__.py\n",
            "spark-3.2.1-bin-hadoop2.7/python/pyspark/pandas/_typing.py\n",
            "spark-3.2.1-bin-hadoop2.7/python/pyspark/pandas/accessors.py\n",
            "spark-3.2.1-bin-hadoop2.7/python/pyspark/pandas/base.py\n",
            "spark-3.2.1-bin-hadoop2.7/python/pyspark/pandas/categorical.py\n",
            "spark-3.2.1-bin-hadoop2.7/python/pyspark/pandas/config.py\n",
            "spark-3.2.1-bin-hadoop2.7/python/pyspark/pandas/data_type_ops/\n",
            "spark-3.2.1-bin-hadoop2.7/python/pyspark/pandas/data_type_ops/__init__.py\n",
            "spark-3.2.1-bin-hadoop2.7/python/pyspark/pandas/data_type_ops/base.py\n",
            "spark-3.2.1-bin-hadoop2.7/python/pyspark/pandas/data_type_ops/binary_ops.py\n",
            "spark-3.2.1-bin-hadoop2.7/python/pyspark/pandas/data_type_ops/boolean_ops.py\n",
            "spark-3.2.1-bin-hadoop2.7/python/pyspark/pandas/data_type_ops/categorical_ops.py\n",
            "spark-3.2.1-bin-hadoop2.7/python/pyspark/pandas/data_type_ops/complex_ops.py\n",
            "spark-3.2.1-bin-hadoop2.7/python/pyspark/pandas/data_type_ops/date_ops.py\n",
            "spark-3.2.1-bin-hadoop2.7/python/pyspark/pandas/data_type_ops/datetime_ops.py\n",
            "spark-3.2.1-bin-hadoop2.7/python/pyspark/pandas/data_type_ops/null_ops.py\n",
            "spark-3.2.1-bin-hadoop2.7/python/pyspark/pandas/data_type_ops/num_ops.py\n",
            "spark-3.2.1-bin-hadoop2.7/python/pyspark/pandas/data_type_ops/string_ops.py\n",
            "spark-3.2.1-bin-hadoop2.7/python/pyspark/pandas/data_type_ops/udt_ops.py\n",
            "spark-3.2.1-bin-hadoop2.7/python/pyspark/pandas/datetimes.py\n",
            "spark-3.2.1-bin-hadoop2.7/python/pyspark/pandas/exceptions.py\n",
            "spark-3.2.1-bin-hadoop2.7/python/pyspark/pandas/extensions.py\n",
            "spark-3.2.1-bin-hadoop2.7/python/pyspark/pandas/frame.py\n",
            "spark-3.2.1-bin-hadoop2.7/python/pyspark/pandas/generic.py\n",
            "spark-3.2.1-bin-hadoop2.7/python/pyspark/pandas/groupby.py\n",
            "spark-3.2.1-bin-hadoop2.7/python/pyspark/pandas/indexes/\n",
            "spark-3.2.1-bin-hadoop2.7/python/pyspark/pandas/indexes/__init__.py\n",
            "spark-3.2.1-bin-hadoop2.7/python/pyspark/pandas/indexes/base.py\n",
            "spark-3.2.1-bin-hadoop2.7/python/pyspark/pandas/indexes/category.py\n",
            "spark-3.2.1-bin-hadoop2.7/python/pyspark/pandas/indexes/datetimes.py\n",
            "spark-3.2.1-bin-hadoop2.7/python/pyspark/pandas/indexes/multi.py\n",
            "spark-3.2.1-bin-hadoop2.7/python/pyspark/pandas/indexes/numeric.py\n",
            "spark-3.2.1-bin-hadoop2.7/python/pyspark/pandas/indexing.py\n",
            "spark-3.2.1-bin-hadoop2.7/python/pyspark/pandas/internal.py\n",
            "spark-3.2.1-bin-hadoop2.7/python/pyspark/pandas/missing/\n",
            "spark-3.2.1-bin-hadoop2.7/python/pyspark/pandas/missing/__init__.py\n",
            "spark-3.2.1-bin-hadoop2.7/python/pyspark/pandas/missing/common.py\n",
            "spark-3.2.1-bin-hadoop2.7/python/pyspark/pandas/missing/frame.py\n",
            "spark-3.2.1-bin-hadoop2.7/python/pyspark/pandas/missing/groupby.py\n",
            "spark-3.2.1-bin-hadoop2.7/python/pyspark/pandas/missing/indexes.py\n",
            "spark-3.2.1-bin-hadoop2.7/python/pyspark/pandas/missing/series.py\n",
            "spark-3.2.1-bin-hadoop2.7/python/pyspark/pandas/missing/window.py\n",
            "spark-3.2.1-bin-hadoop2.7/python/pyspark/pandas/ml.py\n",
            "spark-3.2.1-bin-hadoop2.7/python/pyspark/pandas/mlflow.py\n",
            "spark-3.2.1-bin-hadoop2.7/python/pyspark/pandas/namespace.py\n",
            "spark-3.2.1-bin-hadoop2.7/python/pyspark/pandas/numpy_compat.py\n",
            "spark-3.2.1-bin-hadoop2.7/python/pyspark/pandas/plot/\n",
            "spark-3.2.1-bin-hadoop2.7/python/pyspark/pandas/plot/__init__.py\n",
            "spark-3.2.1-bin-hadoop2.7/python/pyspark/pandas/plot/core.py\n",
            "spark-3.2.1-bin-hadoop2.7/python/pyspark/pandas/plot/matplotlib.py\n",
            "spark-3.2.1-bin-hadoop2.7/python/pyspark/pandas/plot/plotly.py\n",
            "spark-3.2.1-bin-hadoop2.7/python/pyspark/pandas/series.py\n",
            "spark-3.2.1-bin-hadoop2.7/python/pyspark/pandas/spark/\n",
            "spark-3.2.1-bin-hadoop2.7/python/pyspark/pandas/spark/__init__.py\n",
            "spark-3.2.1-bin-hadoop2.7/python/pyspark/pandas/spark/accessors.py\n",
            "spark-3.2.1-bin-hadoop2.7/python/pyspark/pandas/spark/functions.py\n",
            "spark-3.2.1-bin-hadoop2.7/python/pyspark/pandas/spark/utils.py\n",
            "spark-3.2.1-bin-hadoop2.7/python/pyspark/pandas/sql_processor.py\n",
            "spark-3.2.1-bin-hadoop2.7/python/pyspark/pandas/strings.py\n",
            "spark-3.2.1-bin-hadoop2.7/python/pyspark/pandas/tests/\n",
            "spark-3.2.1-bin-hadoop2.7/python/pyspark/pandas/tests/__init__.py\n",
            "spark-3.2.1-bin-hadoop2.7/python/pyspark/pandas/tests/data_type_ops/\n",
            "spark-3.2.1-bin-hadoop2.7/python/pyspark/pandas/tests/data_type_ops/__init__.py\n",
            "spark-3.2.1-bin-hadoop2.7/python/pyspark/pandas/tests/data_type_ops/test_base.py\n",
            "spark-3.2.1-bin-hadoop2.7/python/pyspark/pandas/tests/data_type_ops/test_binary_ops.py\n",
            "spark-3.2.1-bin-hadoop2.7/python/pyspark/pandas/tests/data_type_ops/test_boolean_ops.py\n",
            "spark-3.2.1-bin-hadoop2.7/python/pyspark/pandas/tests/data_type_ops/test_categorical_ops.py\n",
            "spark-3.2.1-bin-hadoop2.7/python/pyspark/pandas/tests/data_type_ops/test_complex_ops.py\n",
            "spark-3.2.1-bin-hadoop2.7/python/pyspark/pandas/tests/data_type_ops/test_date_ops.py\n",
            "spark-3.2.1-bin-hadoop2.7/python/pyspark/pandas/tests/data_type_ops/test_datetime_ops.py\n",
            "spark-3.2.1-bin-hadoop2.7/python/pyspark/pandas/tests/data_type_ops/test_null_ops.py\n",
            "spark-3.2.1-bin-hadoop2.7/python/pyspark/pandas/tests/data_type_ops/test_num_ops.py\n",
            "spark-3.2.1-bin-hadoop2.7/python/pyspark/pandas/tests/data_type_ops/test_string_ops.py\n",
            "spark-3.2.1-bin-hadoop2.7/python/pyspark/pandas/tests/data_type_ops/test_udt_ops.py\n",
            "spark-3.2.1-bin-hadoop2.7/python/pyspark/pandas/tests/data_type_ops/testing_utils.py\n",
            "spark-3.2.1-bin-hadoop2.7/python/pyspark/pandas/tests/indexes/\n",
            "spark-3.2.1-bin-hadoop2.7/python/pyspark/pandas/tests/indexes/__init__.py\n",
            "spark-3.2.1-bin-hadoop2.7/python/pyspark/pandas/tests/indexes/test_base.py\n",
            "spark-3.2.1-bin-hadoop2.7/python/pyspark/pandas/tests/indexes/test_category.py\n",
            "spark-3.2.1-bin-hadoop2.7/python/pyspark/pandas/tests/indexes/test_datetime.py\n",
            "spark-3.2.1-bin-hadoop2.7/python/pyspark/pandas/tests/plot/\n",
            "spark-3.2.1-bin-hadoop2.7/python/pyspark/pandas/tests/plot/__init__.py\n",
            "spark-3.2.1-bin-hadoop2.7/python/pyspark/pandas/tests/plot/test_frame_plot.py\n",
            "spark-3.2.1-bin-hadoop2.7/python/pyspark/pandas/tests/plot/test_frame_plot_matplotlib.py\n",
            "spark-3.2.1-bin-hadoop2.7/python/pyspark/pandas/tests/plot/test_frame_plot_plotly.py\n",
            "spark-3.2.1-bin-hadoop2.7/python/pyspark/pandas/tests/plot/test_series_plot.py\n",
            "spark-3.2.1-bin-hadoop2.7/python/pyspark/pandas/tests/plot/test_series_plot_matplotlib.py\n",
            "spark-3.2.1-bin-hadoop2.7/python/pyspark/pandas/tests/plot/test_series_plot_plotly.py\n",
            "spark-3.2.1-bin-hadoop2.7/python/pyspark/pandas/tests/test_categorical.py\n",
            "spark-3.2.1-bin-hadoop2.7/python/pyspark/pandas/tests/test_config.py\n",
            "spark-3.2.1-bin-hadoop2.7/python/pyspark/pandas/tests/test_csv.py\n",
            "spark-3.2.1-bin-hadoop2.7/python/pyspark/pandas/tests/test_dataframe.py\n",
            "spark-3.2.1-bin-hadoop2.7/python/pyspark/pandas/tests/test_dataframe_conversion.py\n",
            "spark-3.2.1-bin-hadoop2.7/python/pyspark/pandas/tests/test_dataframe_spark_io.py\n",
            "spark-3.2.1-bin-hadoop2.7/python/pyspark/pandas/tests/test_default_index.py\n",
            "spark-3.2.1-bin-hadoop2.7/python/pyspark/pandas/tests/test_expanding.py\n",
            "spark-3.2.1-bin-hadoop2.7/python/pyspark/pandas/tests/test_extension.py\n",
            "spark-3.2.1-bin-hadoop2.7/python/pyspark/pandas/tests/test_frame_spark.py\n",
            "spark-3.2.1-bin-hadoop2.7/python/pyspark/pandas/tests/test_groupby.py\n",
            "spark-3.2.1-bin-hadoop2.7/python/pyspark/pandas/tests/test_indexing.py\n",
            "spark-3.2.1-bin-hadoop2.7/python/pyspark/pandas/tests/test_indexops_spark.py\n",
            "spark-3.2.1-bin-hadoop2.7/python/pyspark/pandas/tests/test_internal.py\n",
            "spark-3.2.1-bin-hadoop2.7/python/pyspark/pandas/tests/test_namespace.py\n",
            "spark-3.2.1-bin-hadoop2.7/python/pyspark/pandas/tests/test_numpy_compat.py\n",
            "spark-3.2.1-bin-hadoop2.7/python/pyspark/pandas/tests/test_ops_on_diff_frames.py\n",
            "spark-3.2.1-bin-hadoop2.7/python/pyspark/pandas/tests/test_ops_on_diff_frames_groupby.py\n",
            "spark-3.2.1-bin-hadoop2.7/python/pyspark/pandas/tests/test_ops_on_diff_frames_groupby_expanding.py\n",
            "spark-3.2.1-bin-hadoop2.7/python/pyspark/pandas/tests/test_ops_on_diff_frames_groupby_rolling.py\n",
            "spark-3.2.1-bin-hadoop2.7/python/pyspark/pandas/tests/test_repr.py\n",
            "spark-3.2.1-bin-hadoop2.7/python/pyspark/pandas/tests/test_reshape.py\n",
            "spark-3.2.1-bin-hadoop2.7/python/pyspark/pandas/tests/test_rolling.py\n",
            "spark-3.2.1-bin-hadoop2.7/python/pyspark/pandas/tests/test_series.py\n",
            "spark-3.2.1-bin-hadoop2.7/python/pyspark/pandas/tests/test_series_conversion.py\n",
            "spark-3.2.1-bin-hadoop2.7/python/pyspark/pandas/tests/test_series_datetime.py\n",
            "spark-3.2.1-bin-hadoop2.7/python/pyspark/pandas/tests/test_series_string.py\n",
            "spark-3.2.1-bin-hadoop2.7/python/pyspark/pandas/tests/test_spark_functions.py\n",
            "spark-3.2.1-bin-hadoop2.7/python/pyspark/pandas/tests/test_sql.py\n",
            "spark-3.2.1-bin-hadoop2.7/python/pyspark/pandas/tests/test_stats.py\n",
            "spark-3.2.1-bin-hadoop2.7/python/pyspark/pandas/tests/test_typedef.py\n",
            "spark-3.2.1-bin-hadoop2.7/python/pyspark/pandas/tests/test_utils.py\n",
            "spark-3.2.1-bin-hadoop2.7/python/pyspark/pandas/tests/test_window.py\n",
            "spark-3.2.1-bin-hadoop2.7/python/pyspark/pandas/typedef/\n",
            "spark-3.2.1-bin-hadoop2.7/python/pyspark/pandas/typedef/__init__.py\n",
            "spark-3.2.1-bin-hadoop2.7/python/pyspark/pandas/typedef/string_typehints.py\n",
            "spark-3.2.1-bin-hadoop2.7/python/pyspark/pandas/typedef/typehints.py\n",
            "spark-3.2.1-bin-hadoop2.7/python/pyspark/pandas/usage_logging/\n",
            "spark-3.2.1-bin-hadoop2.7/python/pyspark/pandas/usage_logging/__init__.py\n",
            "spark-3.2.1-bin-hadoop2.7/python/pyspark/pandas/usage_logging/usage_logger.py\n",
            "spark-3.2.1-bin-hadoop2.7/python/pyspark/pandas/utils.py\n",
            "spark-3.2.1-bin-hadoop2.7/python/pyspark/pandas/window.py\n",
            "spark-3.2.1-bin-hadoop2.7/python/pyspark/profiler.py\n",
            "spark-3.2.1-bin-hadoop2.7/python/pyspark/profiler.pyi\n",
            "spark-3.2.1-bin-hadoop2.7/python/pyspark/py.typed\n",
            "spark-3.2.1-bin-hadoop2.7/python/pyspark/rdd.py\n",
            "spark-3.2.1-bin-hadoop2.7/python/pyspark/rdd.pyi\n",
            "spark-3.2.1-bin-hadoop2.7/python/pyspark/rddsampler.py\n",
            "spark-3.2.1-bin-hadoop2.7/python/pyspark/resource/\n",
            "spark-3.2.1-bin-hadoop2.7/python/pyspark/resource/__init__.py\n",
            "spark-3.2.1-bin-hadoop2.7/python/pyspark/resource/information.py\n",
            "spark-3.2.1-bin-hadoop2.7/python/pyspark/resource/information.pyi\n",
            "spark-3.2.1-bin-hadoop2.7/python/pyspark/resource/profile.py\n",
            "spark-3.2.1-bin-hadoop2.7/python/pyspark/resource/profile.pyi\n",
            "spark-3.2.1-bin-hadoop2.7/python/pyspark/resource/requests.py\n",
            "spark-3.2.1-bin-hadoop2.7/python/pyspark/resource/requests.pyi\n",
            "spark-3.2.1-bin-hadoop2.7/python/pyspark/resource/tests/\n",
            "spark-3.2.1-bin-hadoop2.7/python/pyspark/resource/tests/__init__.py\n",
            "spark-3.2.1-bin-hadoop2.7/python/pyspark/resource/tests/test_resources.py\n",
            "spark-3.2.1-bin-hadoop2.7/python/pyspark/resultiterable.py\n",
            "spark-3.2.1-bin-hadoop2.7/python/pyspark/resultiterable.pyi\n",
            "spark-3.2.1-bin-hadoop2.7/python/pyspark/serializers.py\n",
            "spark-3.2.1-bin-hadoop2.7/python/pyspark/shell.py\n",
            "spark-3.2.1-bin-hadoop2.7/python/pyspark/shuffle.py\n",
            "spark-3.2.1-bin-hadoop2.7/python/pyspark/sql/\n",
            "spark-3.2.1-bin-hadoop2.7/python/pyspark/sql/__init__.py\n",
            "spark-3.2.1-bin-hadoop2.7/python/pyspark/sql/__init__.pyi\n",
            "spark-3.2.1-bin-hadoop2.7/python/pyspark/sql/_typing.pyi\n",
            "spark-3.2.1-bin-hadoop2.7/python/pyspark/sql/avro/\n",
            "spark-3.2.1-bin-hadoop2.7/python/pyspark/sql/avro/__init__.py\n",
            "spark-3.2.1-bin-hadoop2.7/python/pyspark/sql/avro/functions.py\n",
            "spark-3.2.1-bin-hadoop2.7/python/pyspark/sql/avro/functions.pyi\n",
            "spark-3.2.1-bin-hadoop2.7/python/pyspark/sql/catalog.py\n",
            "spark-3.2.1-bin-hadoop2.7/python/pyspark/sql/catalog.pyi\n",
            "spark-3.2.1-bin-hadoop2.7/python/pyspark/sql/column.py\n",
            "spark-3.2.1-bin-hadoop2.7/python/pyspark/sql/column.pyi\n",
            "spark-3.2.1-bin-hadoop2.7/python/pyspark/sql/conf.py\n",
            "spark-3.2.1-bin-hadoop2.7/python/pyspark/sql/conf.pyi\n",
            "spark-3.2.1-bin-hadoop2.7/python/pyspark/sql/context.py\n",
            "spark-3.2.1-bin-hadoop2.7/python/pyspark/sql/context.pyi\n",
            "spark-3.2.1-bin-hadoop2.7/python/pyspark/sql/dataframe.py\n",
            "spark-3.2.1-bin-hadoop2.7/python/pyspark/sql/dataframe.pyi\n",
            "spark-3.2.1-bin-hadoop2.7/python/pyspark/sql/functions.py\n",
            "spark-3.2.1-bin-hadoop2.7/python/pyspark/sql/functions.pyi\n",
            "spark-3.2.1-bin-hadoop2.7/python/pyspark/sql/group.py\n",
            "spark-3.2.1-bin-hadoop2.7/python/pyspark/sql/group.pyi\n",
            "spark-3.2.1-bin-hadoop2.7/python/pyspark/sql/pandas/\n",
            "spark-3.2.1-bin-hadoop2.7/python/pyspark/sql/pandas/__init__.py\n",
            "spark-3.2.1-bin-hadoop2.7/python/pyspark/sql/pandas/_typing/\n",
            "spark-3.2.1-bin-hadoop2.7/python/pyspark/sql/pandas/_typing/__init__.pyi\n",
            "spark-3.2.1-bin-hadoop2.7/python/pyspark/sql/pandas/_typing/protocols/\n",
            "spark-3.2.1-bin-hadoop2.7/python/pyspark/sql/pandas/_typing/protocols/__init__.pyi\n",
            "spark-3.2.1-bin-hadoop2.7/python/pyspark/sql/pandas/_typing/protocols/frame.pyi\n",
            "spark-3.2.1-bin-hadoop2.7/python/pyspark/sql/pandas/_typing/protocols/series.pyi\n",
            "spark-3.2.1-bin-hadoop2.7/python/pyspark/sql/pandas/conversion.py\n",
            "spark-3.2.1-bin-hadoop2.7/python/pyspark/sql/pandas/conversion.pyi\n",
            "spark-3.2.1-bin-hadoop2.7/python/pyspark/sql/pandas/functions.py\n",
            "spark-3.2.1-bin-hadoop2.7/python/pyspark/sql/pandas/functions.pyi\n",
            "spark-3.2.1-bin-hadoop2.7/python/pyspark/sql/pandas/group_ops.py\n",
            "spark-3.2.1-bin-hadoop2.7/python/pyspark/sql/pandas/group_ops.pyi\n",
            "spark-3.2.1-bin-hadoop2.7/python/pyspark/sql/pandas/map_ops.py\n",
            "spark-3.2.1-bin-hadoop2.7/python/pyspark/sql/pandas/map_ops.pyi\n",
            "spark-3.2.1-bin-hadoop2.7/python/pyspark/sql/pandas/serializers.py\n",
            "spark-3.2.1-bin-hadoop2.7/python/pyspark/sql/pandas/typehints.py\n",
            "spark-3.2.1-bin-hadoop2.7/python/pyspark/sql/pandas/types.py\n",
            "spark-3.2.1-bin-hadoop2.7/python/pyspark/sql/pandas/utils.py\n",
            "spark-3.2.1-bin-hadoop2.7/python/pyspark/sql/readwriter.py\n",
            "spark-3.2.1-bin-hadoop2.7/python/pyspark/sql/readwriter.pyi\n",
            "spark-3.2.1-bin-hadoop2.7/python/pyspark/sql/session.py\n",
            "spark-3.2.1-bin-hadoop2.7/python/pyspark/sql/session.pyi\n",
            "spark-3.2.1-bin-hadoop2.7/python/pyspark/sql/streaming.py\n",
            "spark-3.2.1-bin-hadoop2.7/python/pyspark/sql/streaming.pyi\n",
            "spark-3.2.1-bin-hadoop2.7/python/pyspark/sql/tests/\n",
            "spark-3.2.1-bin-hadoop2.7/python/pyspark/sql/tests/__init__.py\n",
            "spark-3.2.1-bin-hadoop2.7/python/pyspark/sql/tests/test_arrow.py\n",
            "spark-3.2.1-bin-hadoop2.7/python/pyspark/sql/tests/test_catalog.py\n",
            "spark-3.2.1-bin-hadoop2.7/python/pyspark/sql/tests/test_column.py\n",
            "spark-3.2.1-bin-hadoop2.7/python/pyspark/sql/tests/test_conf.py\n",
            "spark-3.2.1-bin-hadoop2.7/python/pyspark/sql/tests/test_context.py\n",
            "spark-3.2.1-bin-hadoop2.7/python/pyspark/sql/tests/test_dataframe.py\n",
            "spark-3.2.1-bin-hadoop2.7/python/pyspark/sql/tests/test_datasources.py\n",
            "spark-3.2.1-bin-hadoop2.7/python/pyspark/sql/tests/test_functions.py\n",
            "spark-3.2.1-bin-hadoop2.7/python/pyspark/sql/tests/test_group.py\n",
            "spark-3.2.1-bin-hadoop2.7/python/pyspark/sql/tests/test_pandas_cogrouped_map.py\n",
            "spark-3.2.1-bin-hadoop2.7/python/pyspark/sql/tests/test_pandas_grouped_map.py\n",
            "spark-3.2.1-bin-hadoop2.7/python/pyspark/sql/tests/test_pandas_map.py\n",
            "spark-3.2.1-bin-hadoop2.7/python/pyspark/sql/tests/test_pandas_udf.py\n",
            "spark-3.2.1-bin-hadoop2.7/python/pyspark/sql/tests/test_pandas_udf_grouped_agg.py\n",
            "spark-3.2.1-bin-hadoop2.7/python/pyspark/sql/tests/test_pandas_udf_scalar.py\n",
            "spark-3.2.1-bin-hadoop2.7/python/pyspark/sql/tests/test_pandas_udf_typehints.py\n",
            "spark-3.2.1-bin-hadoop2.7/python/pyspark/sql/tests/test_pandas_udf_window.py\n",
            "spark-3.2.1-bin-hadoop2.7/python/pyspark/sql/tests/test_readwriter.py\n",
            "spark-3.2.1-bin-hadoop2.7/python/pyspark/sql/tests/test_serde.py\n",
            "spark-3.2.1-bin-hadoop2.7/python/pyspark/sql/tests/test_session.py\n",
            "spark-3.2.1-bin-hadoop2.7/python/pyspark/sql/tests/test_streaming.py\n",
            "spark-3.2.1-bin-hadoop2.7/python/pyspark/sql/tests/test_types.py\n",
            "spark-3.2.1-bin-hadoop2.7/python/pyspark/sql/tests/test_udf.py\n",
            "spark-3.2.1-bin-hadoop2.7/python/pyspark/sql/tests/test_utils.py\n",
            "spark-3.2.1-bin-hadoop2.7/python/pyspark/sql/types.py\n",
            "spark-3.2.1-bin-hadoop2.7/python/pyspark/sql/types.pyi\n",
            "spark-3.2.1-bin-hadoop2.7/python/pyspark/sql/udf.py\n",
            "spark-3.2.1-bin-hadoop2.7/python/pyspark/sql/udf.pyi\n",
            "spark-3.2.1-bin-hadoop2.7/python/pyspark/sql/utils.py\n",
            "spark-3.2.1-bin-hadoop2.7/python/pyspark/sql/window.py\n",
            "spark-3.2.1-bin-hadoop2.7/python/pyspark/sql/window.pyi\n",
            "spark-3.2.1-bin-hadoop2.7/python/pyspark/statcounter.py\n",
            "spark-3.2.1-bin-hadoop2.7/python/pyspark/statcounter.pyi\n",
            "spark-3.2.1-bin-hadoop2.7/python/pyspark/status.py\n",
            "spark-3.2.1-bin-hadoop2.7/python/pyspark/status.pyi\n",
            "spark-3.2.1-bin-hadoop2.7/python/pyspark/storagelevel.py\n",
            "spark-3.2.1-bin-hadoop2.7/python/pyspark/storagelevel.pyi\n",
            "spark-3.2.1-bin-hadoop2.7/python/pyspark/streaming/\n",
            "spark-3.2.1-bin-hadoop2.7/python/pyspark/streaming/__init__.py\n",
            "spark-3.2.1-bin-hadoop2.7/python/pyspark/streaming/context.py\n",
            "spark-3.2.1-bin-hadoop2.7/python/pyspark/streaming/context.pyi\n",
            "spark-3.2.1-bin-hadoop2.7/python/pyspark/streaming/dstream.py\n",
            "spark-3.2.1-bin-hadoop2.7/python/pyspark/streaming/dstream.pyi\n",
            "spark-3.2.1-bin-hadoop2.7/python/pyspark/streaming/kinesis.py\n",
            "spark-3.2.1-bin-hadoop2.7/python/pyspark/streaming/kinesis.pyi\n",
            "spark-3.2.1-bin-hadoop2.7/python/pyspark/streaming/listener.py\n",
            "spark-3.2.1-bin-hadoop2.7/python/pyspark/streaming/listener.pyi\n",
            "spark-3.2.1-bin-hadoop2.7/python/pyspark/streaming/tests/\n",
            "spark-3.2.1-bin-hadoop2.7/python/pyspark/streaming/tests/__init__.py\n",
            "spark-3.2.1-bin-hadoop2.7/python/pyspark/streaming/tests/test_context.py\n",
            "spark-3.2.1-bin-hadoop2.7/python/pyspark/streaming/tests/test_dstream.py\n",
            "spark-3.2.1-bin-hadoop2.7/python/pyspark/streaming/tests/test_kinesis.py\n",
            "spark-3.2.1-bin-hadoop2.7/python/pyspark/streaming/tests/test_listener.py\n",
            "spark-3.2.1-bin-hadoop2.7/python/pyspark/streaming/util.py\n",
            "spark-3.2.1-bin-hadoop2.7/python/pyspark/taskcontext.py\n",
            "spark-3.2.1-bin-hadoop2.7/python/pyspark/taskcontext.pyi\n",
            "spark-3.2.1-bin-hadoop2.7/python/pyspark/testing/\n",
            "spark-3.2.1-bin-hadoop2.7/python/pyspark/testing/__init__.py\n",
            "spark-3.2.1-bin-hadoop2.7/python/pyspark/testing/mllibutils.py\n",
            "spark-3.2.1-bin-hadoop2.7/python/pyspark/testing/mlutils.py\n",
            "spark-3.2.1-bin-hadoop2.7/python/pyspark/testing/pandasutils.py\n",
            "spark-3.2.1-bin-hadoop2.7/python/pyspark/testing/sqlutils.py\n",
            "spark-3.2.1-bin-hadoop2.7/python/pyspark/testing/streamingutils.py\n",
            "spark-3.2.1-bin-hadoop2.7/python/pyspark/testing/utils.py\n",
            "spark-3.2.1-bin-hadoop2.7/python/pyspark/tests/\n",
            "spark-3.2.1-bin-hadoop2.7/python/pyspark/tests/__init__.py\n",
            "spark-3.2.1-bin-hadoop2.7/python/pyspark/tests/test_appsubmit.py\n",
            "spark-3.2.1-bin-hadoop2.7/python/pyspark/tests/test_broadcast.py\n",
            "spark-3.2.1-bin-hadoop2.7/python/pyspark/tests/test_conf.py\n",
            "spark-3.2.1-bin-hadoop2.7/python/pyspark/tests/test_context.py\n",
            "spark-3.2.1-bin-hadoop2.7/python/pyspark/tests/test_daemon.py\n",
            "spark-3.2.1-bin-hadoop2.7/python/pyspark/tests/test_install_spark.py\n",
            "spark-3.2.1-bin-hadoop2.7/python/pyspark/tests/test_join.py\n",
            "spark-3.2.1-bin-hadoop2.7/python/pyspark/tests/test_pin_thread.py\n",
            "spark-3.2.1-bin-hadoop2.7/python/pyspark/tests/test_profiler.py\n",
            "spark-3.2.1-bin-hadoop2.7/python/pyspark/tests/test_rdd.py\n",
            "spark-3.2.1-bin-hadoop2.7/python/pyspark/tests/test_rddbarrier.py\n",
            "spark-3.2.1-bin-hadoop2.7/python/pyspark/tests/test_readwrite.py\n",
            "spark-3.2.1-bin-hadoop2.7/python/pyspark/tests/test_serializers.py\n",
            "spark-3.2.1-bin-hadoop2.7/python/pyspark/tests/test_shuffle.py\n",
            "spark-3.2.1-bin-hadoop2.7/python/pyspark/tests/test_taskcontext.py\n",
            "spark-3.2.1-bin-hadoop2.7/python/pyspark/tests/test_util.py\n",
            "spark-3.2.1-bin-hadoop2.7/python/pyspark/tests/test_worker.py\n",
            "spark-3.2.1-bin-hadoop2.7/python/pyspark/traceback_utils.py\n",
            "spark-3.2.1-bin-hadoop2.7/python/pyspark/util.py\n",
            "spark-3.2.1-bin-hadoop2.7/python/pyspark/util.pyi\n",
            "spark-3.2.1-bin-hadoop2.7/python/pyspark/version.py\n",
            "spark-3.2.1-bin-hadoop2.7/python/pyspark/version.pyi\n",
            "spark-3.2.1-bin-hadoop2.7/python/pyspark/worker.py\n",
            "spark-3.2.1-bin-hadoop2.7/python/run-tests\n",
            "spark-3.2.1-bin-hadoop2.7/python/run-tests-with-coverage\n",
            "spark-3.2.1-bin-hadoop2.7/python/run-tests.py\n",
            "spark-3.2.1-bin-hadoop2.7/python/setup.cfg\n",
            "spark-3.2.1-bin-hadoop2.7/python/setup.py\n",
            "spark-3.2.1-bin-hadoop2.7/python/test_coverage/\n",
            "spark-3.2.1-bin-hadoop2.7/python/test_coverage/conf/\n",
            "spark-3.2.1-bin-hadoop2.7/python/test_coverage/conf/spark-defaults.conf\n",
            "spark-3.2.1-bin-hadoop2.7/python/test_coverage/coverage_daemon.py\n",
            "spark-3.2.1-bin-hadoop2.7/python/test_coverage/sitecustomize.py\n",
            "spark-3.2.1-bin-hadoop2.7/python/test_support/\n",
            "spark-3.2.1-bin-hadoop2.7/python/test_support/SimpleHTTPServer.py\n",
            "spark-3.2.1-bin-hadoop2.7/python/test_support/hello/\n",
            "spark-3.2.1-bin-hadoop2.7/python/test_support/hello/hello.txt\n",
            "spark-3.2.1-bin-hadoop2.7/python/test_support/hello/sub_hello/\n",
            "spark-3.2.1-bin-hadoop2.7/python/test_support/hello/sub_hello/sub_hello.txt\n",
            "spark-3.2.1-bin-hadoop2.7/python/test_support/sql/\n",
            "spark-3.2.1-bin-hadoop2.7/python/test_support/sql/ages.csv\n",
            "spark-3.2.1-bin-hadoop2.7/python/test_support/sql/ages_newlines.csv\n",
            "spark-3.2.1-bin-hadoop2.7/python/test_support/sql/orc_partitioned/\n",
            "spark-3.2.1-bin-hadoop2.7/python/test_support/sql/orc_partitioned/_SUCCESS\n",
            "spark-3.2.1-bin-hadoop2.7/python/test_support/sql/orc_partitioned/b=0/\n",
            "spark-3.2.1-bin-hadoop2.7/python/test_support/sql/orc_partitioned/b=0/c=0/\n",
            "spark-3.2.1-bin-hadoop2.7/python/test_support/sql/orc_partitioned/b=0/c=0/.part-r-00000-829af031-b970-49d6-ad39-30460a0be2c8.orc.crc\n",
            "spark-3.2.1-bin-hadoop2.7/python/test_support/sql/orc_partitioned/b=0/c=0/part-r-00000-829af031-b970-49d6-ad39-30460a0be2c8.orc\n",
            "spark-3.2.1-bin-hadoop2.7/python/test_support/sql/orc_partitioned/b=1/\n",
            "spark-3.2.1-bin-hadoop2.7/python/test_support/sql/orc_partitioned/b=1/c=1/\n",
            "spark-3.2.1-bin-hadoop2.7/python/test_support/sql/orc_partitioned/b=1/c=1/.part-r-00000-829af031-b970-49d6-ad39-30460a0be2c8.orc.crc\n",
            "spark-3.2.1-bin-hadoop2.7/python/test_support/sql/orc_partitioned/b=1/c=1/part-r-00000-829af031-b970-49d6-ad39-30460a0be2c8.orc\n",
            "spark-3.2.1-bin-hadoop2.7/python/test_support/sql/parquet_partitioned/\n",
            "spark-3.2.1-bin-hadoop2.7/python/test_support/sql/parquet_partitioned/_SUCCESS\n",
            "spark-3.2.1-bin-hadoop2.7/python/test_support/sql/parquet_partitioned/_common_metadata\n",
            "spark-3.2.1-bin-hadoop2.7/python/test_support/sql/parquet_partitioned/_metadata\n",
            "spark-3.2.1-bin-hadoop2.7/python/test_support/sql/parquet_partitioned/year=2014/\n",
            "spark-3.2.1-bin-hadoop2.7/python/test_support/sql/parquet_partitioned/year=2014/month=9/\n",
            "spark-3.2.1-bin-hadoop2.7/python/test_support/sql/parquet_partitioned/year=2014/month=9/day=1/\n",
            "spark-3.2.1-bin-hadoop2.7/python/test_support/sql/parquet_partitioned/year=2014/month=9/day=1/.part-r-00008.gz.parquet.crc\n",
            "spark-3.2.1-bin-hadoop2.7/python/test_support/sql/parquet_partitioned/year=2014/month=9/day=1/part-r-00008.gz.parquet\n",
            "spark-3.2.1-bin-hadoop2.7/python/test_support/sql/parquet_partitioned/year=2015/\n",
            "spark-3.2.1-bin-hadoop2.7/python/test_support/sql/parquet_partitioned/year=2015/month=10/\n",
            "spark-3.2.1-bin-hadoop2.7/python/test_support/sql/parquet_partitioned/year=2015/month=10/day=25/\n",
            "spark-3.2.1-bin-hadoop2.7/python/test_support/sql/parquet_partitioned/year=2015/month=10/day=25/.part-r-00002.gz.parquet.crc\n",
            "spark-3.2.1-bin-hadoop2.7/python/test_support/sql/parquet_partitioned/year=2015/month=10/day=25/.part-r-00004.gz.parquet.crc\n",
            "spark-3.2.1-bin-hadoop2.7/python/test_support/sql/parquet_partitioned/year=2015/month=10/day=25/part-r-00002.gz.parquet\n",
            "spark-3.2.1-bin-hadoop2.7/python/test_support/sql/parquet_partitioned/year=2015/month=10/day=25/part-r-00004.gz.parquet\n",
            "spark-3.2.1-bin-hadoop2.7/python/test_support/sql/parquet_partitioned/year=2015/month=10/day=26/\n",
            "spark-3.2.1-bin-hadoop2.7/python/test_support/sql/parquet_partitioned/year=2015/month=10/day=26/.part-r-00005.gz.parquet.crc\n",
            "spark-3.2.1-bin-hadoop2.7/python/test_support/sql/parquet_partitioned/year=2015/month=10/day=26/part-r-00005.gz.parquet\n",
            "spark-3.2.1-bin-hadoop2.7/python/test_support/sql/parquet_partitioned/year=2015/month=9/\n",
            "spark-3.2.1-bin-hadoop2.7/python/test_support/sql/parquet_partitioned/year=2015/month=9/day=1/\n",
            "spark-3.2.1-bin-hadoop2.7/python/test_support/sql/parquet_partitioned/year=2015/month=9/day=1/.part-r-00007.gz.parquet.crc\n",
            "spark-3.2.1-bin-hadoop2.7/python/test_support/sql/parquet_partitioned/year=2015/month=9/day=1/part-r-00007.gz.parquet\n",
            "spark-3.2.1-bin-hadoop2.7/python/test_support/sql/people.json\n",
            "spark-3.2.1-bin-hadoop2.7/python/test_support/sql/people1.json\n",
            "spark-3.2.1-bin-hadoop2.7/python/test_support/sql/people_array.json\n",
            "spark-3.2.1-bin-hadoop2.7/python/test_support/sql/people_array_utf16le.json\n",
            "spark-3.2.1-bin-hadoop2.7/python/test_support/sql/streaming/\n",
            "spark-3.2.1-bin-hadoop2.7/python/test_support/sql/streaming/text-test.txt\n",
            "spark-3.2.1-bin-hadoop2.7/python/test_support/sql/text-test.txt\n",
            "spark-3.2.1-bin-hadoop2.7/python/test_support/userlib-0.1.zip\n",
            "spark-3.2.1-bin-hadoop2.7/python/test_support/userlibrary.py\n",
            "spark-3.2.1-bin-hadoop2.7/sbin/\n",
            "spark-3.2.1-bin-hadoop2.7/sbin/decommission-slave.sh\n",
            "spark-3.2.1-bin-hadoop2.7/sbin/decommission-worker.sh\n",
            "spark-3.2.1-bin-hadoop2.7/sbin/slaves.sh\n",
            "spark-3.2.1-bin-hadoop2.7/sbin/spark-config.sh\n",
            "spark-3.2.1-bin-hadoop2.7/sbin/spark-daemon.sh\n",
            "spark-3.2.1-bin-hadoop2.7/sbin/spark-daemons.sh\n",
            "spark-3.2.1-bin-hadoop2.7/sbin/start-all.sh\n",
            "spark-3.2.1-bin-hadoop2.7/sbin/start-history-server.sh\n",
            "spark-3.2.1-bin-hadoop2.7/sbin/start-master.sh\n",
            "spark-3.2.1-bin-hadoop2.7/sbin/start-mesos-dispatcher.sh\n",
            "spark-3.2.1-bin-hadoop2.7/sbin/start-mesos-shuffle-service.sh\n",
            "spark-3.2.1-bin-hadoop2.7/sbin/start-slave.sh\n",
            "spark-3.2.1-bin-hadoop2.7/sbin/start-slaves.sh\n",
            "spark-3.2.1-bin-hadoop2.7/sbin/start-thriftserver.sh\n",
            "spark-3.2.1-bin-hadoop2.7/sbin/start-worker.sh\n",
            "spark-3.2.1-bin-hadoop2.7/sbin/start-workers.sh\n",
            "spark-3.2.1-bin-hadoop2.7/sbin/stop-all.sh\n",
            "spark-3.2.1-bin-hadoop2.7/sbin/stop-history-server.sh\n",
            "spark-3.2.1-bin-hadoop2.7/sbin/stop-master.sh\n",
            "spark-3.2.1-bin-hadoop2.7/sbin/stop-mesos-dispatcher.sh\n",
            "spark-3.2.1-bin-hadoop2.7/sbin/stop-mesos-shuffle-service.sh\n",
            "spark-3.2.1-bin-hadoop2.7/sbin/stop-slave.sh\n",
            "spark-3.2.1-bin-hadoop2.7/sbin/stop-slaves.sh\n",
            "spark-3.2.1-bin-hadoop2.7/sbin/stop-thriftserver.sh\n",
            "spark-3.2.1-bin-hadoop2.7/sbin/stop-worker.sh\n",
            "spark-3.2.1-bin-hadoop2.7/sbin/stop-workers.sh\n",
            "spark-3.2.1-bin-hadoop2.7/sbin/workers.sh\n",
            "spark-3.2.1-bin-hadoop2.7/yarn/\n",
            "spark-3.2.1-bin-hadoop2.7/yarn/spark-3.2.1-yarn-shuffle.jar\n",
            "Collecting findspark\n",
            "  Downloading findspark-2.0.1-py2.py3-none-any.whl (4.4 kB)\n",
            "Installing collected packages: findspark\n",
            "Successfully installed findspark-2.0.1\n"
          ]
        }
      ]
    },
    {
      "cell_type": "code",
      "source": [
        "# Set enviroment variable ให้ Python รู้จัก Spark\n",
        "import os\n",
        "os.environ[\"JAVA_HOME\"] = \"/usr/lib/jvm/java-8-openjdk-amd64\"\n",
        "os.environ[\"SPARK_HOME\"] = \"/content/spark-3.2.1-bin-hadoop2.7\""
      ],
      "metadata": {
        "id": "Z0MgqecxCaK-"
      },
      "execution_count": 3,
      "outputs": []
    },
    {
      "cell_type": "code",
      "source": [
        "# ติดตั้ง PySpark ลงใน Python\n",
        "!pip install pyspark==3.2.1"
      ],
      "metadata": {
        "id": "HLBP8WExDPCt",
        "colab": {
          "base_uri": "https://localhost:8080/"
        },
        "outputId": "b3dcceac-5b77-4d4a-a08f-87da4ec03475"
      },
      "execution_count": 4,
      "outputs": [
        {
          "output_type": "stream",
          "name": "stdout",
          "text": [
            "Collecting pyspark==3.2.1\n",
            "  Downloading pyspark-3.2.1.tar.gz (281.4 MB)\n",
            "\u001b[K     |████████████████████████████████| 281.4 MB 35 kB/s \n",
            "\u001b[?25hCollecting py4j==0.10.9.3\n",
            "  Downloading py4j-0.10.9.3-py2.py3-none-any.whl (198 kB)\n",
            "\u001b[K     |████████████████████████████████| 198 kB 66.2 MB/s \n",
            "\u001b[?25hBuilding wheels for collected packages: pyspark\n",
            "  Building wheel for pyspark (setup.py) ... \u001b[?25l\u001b[?25hdone\n",
            "  Created wheel for pyspark: filename=pyspark-3.2.1-py2.py3-none-any.whl size=281853642 sha256=3b7a1f03f16eeb630383d9dd3607d3e628b80a12f43660480aee13c2c0f771ba\n",
            "  Stored in directory: /root/.cache/pip/wheels/9f/f5/07/7cd8017084dce4e93e84e92efd1e1d5334db05f2e83bcef74f\n",
            "Successfully built pyspark\n",
            "Installing collected packages: py4j, pyspark\n",
            "Successfully installed py4j-0.10.9.3 pyspark-3.2.1\n"
          ]
        }
      ]
    },
    {
      "cell_type": "markdown",
      "source": [
        "### 2. ทำการสร้าง Session สำหรับการทำงานของ Spark บน Colab"
      ],
      "metadata": {
        "id": "cF7h5yobG3tO"
      }
    },
    {
      "cell_type": "code",
      "source": [
        "# ตรวจสอบว่า Server ของ Google Colab มีกี่ Core\n",
        "!cat /proc/cpuinfo"
      ],
      "metadata": {
        "id": "EGSXI97-DSQk",
        "colab": {
          "base_uri": "https://localhost:8080/"
        },
        "outputId": "d3fee0c1-737c-474a-fa67-5433b70575b7"
      },
      "execution_count": 5,
      "outputs": [
        {
          "output_type": "stream",
          "name": "stdout",
          "text": [
            "processor\t: 0\n",
            "vendor_id\t: GenuineIntel\n",
            "cpu family\t: 6\n",
            "model\t\t: 63\n",
            "model name\t: Intel(R) Xeon(R) CPU @ 2.30GHz\n",
            "stepping\t: 0\n",
            "microcode\t: 0x1\n",
            "cpu MHz\t\t: 2299.998\n",
            "cache size\t: 46080 KB\n",
            "physical id\t: 0\n",
            "siblings\t: 2\n",
            "core id\t\t: 0\n",
            "cpu cores\t: 1\n",
            "apicid\t\t: 0\n",
            "initial apicid\t: 0\n",
            "fpu\t\t: yes\n",
            "fpu_exception\t: yes\n",
            "cpuid level\t: 13\n",
            "wp\t\t: yes\n",
            "flags\t\t: fpu vme de pse tsc msr pae mce cx8 apic sep mtrr pge mca cmov pat pse36 clflush mmx fxsr sse sse2 ss ht syscall nx pdpe1gb rdtscp lm constant_tsc rep_good nopl xtopology nonstop_tsc cpuid tsc_known_freq pni pclmulqdq ssse3 fma cx16 pcid sse4_1 sse4_2 x2apic movbe popcnt aes xsave avx f16c rdrand hypervisor lahf_lm abm invpcid_single ssbd ibrs ibpb stibp fsgsbase tsc_adjust bmi1 avx2 smep bmi2 erms invpcid xsaveopt arat md_clear arch_capabilities\n",
            "bugs\t\t: cpu_meltdown spectre_v1 spectre_v2 spec_store_bypass l1tf mds swapgs\n",
            "bogomips\t: 4599.99\n",
            "clflush size\t: 64\n",
            "cache_alignment\t: 64\n",
            "address sizes\t: 46 bits physical, 48 bits virtual\n",
            "power management:\n",
            "\n",
            "processor\t: 1\n",
            "vendor_id\t: GenuineIntel\n",
            "cpu family\t: 6\n",
            "model\t\t: 63\n",
            "model name\t: Intel(R) Xeon(R) CPU @ 2.30GHz\n",
            "stepping\t: 0\n",
            "microcode\t: 0x1\n",
            "cpu MHz\t\t: 2299.998\n",
            "cache size\t: 46080 KB\n",
            "physical id\t: 0\n",
            "siblings\t: 2\n",
            "core id\t\t: 0\n",
            "cpu cores\t: 1\n",
            "apicid\t\t: 1\n",
            "initial apicid\t: 1\n",
            "fpu\t\t: yes\n",
            "fpu_exception\t: yes\n",
            "cpuid level\t: 13\n",
            "wp\t\t: yes\n",
            "flags\t\t: fpu vme de pse tsc msr pae mce cx8 apic sep mtrr pge mca cmov pat pse36 clflush mmx fxsr sse sse2 ss ht syscall nx pdpe1gb rdtscp lm constant_tsc rep_good nopl xtopology nonstop_tsc cpuid tsc_known_freq pni pclmulqdq ssse3 fma cx16 pcid sse4_1 sse4_2 x2apic movbe popcnt aes xsave avx f16c rdrand hypervisor lahf_lm abm invpcid_single ssbd ibrs ibpb stibp fsgsbase tsc_adjust bmi1 avx2 smep bmi2 erms invpcid xsaveopt arat md_clear arch_capabilities\n",
            "bugs\t\t: cpu_meltdown spectre_v1 spectre_v2 spec_store_bypass l1tf mds swapgs\n",
            "bogomips\t: 4599.99\n",
            "clflush size\t: 64\n",
            "cache_alignment\t: 64\n",
            "address sizes\t: 46 bits physical, 48 bits virtual\n",
            "power management:\n",
            "\n"
          ]
        }
      ]
    },
    {
      "cell_type": "code",
      "source": [
        "# สร้าง Spark Session เพิ้อใช้งาน Spark\n",
        "from pyspark.sql import SparkSession\n",
        "spark = SparkSession.builder.master(\"local[*]\").getOrCreate()"
      ],
      "metadata": {
        "id": "ZXftlrqlFzy_"
      },
      "execution_count": 6,
      "outputs": []
    },
    {
      "cell_type": "code",
      "source": [
        "# ดูเวอร์ชั่น Python\n",
        "import sys\n",
        "sys.version_info"
      ],
      "metadata": {
        "id": "UA2cRCWUGJch",
        "colab": {
          "base_uri": "https://localhost:8080/"
        },
        "outputId": "af9fcb4c-f1aa-409a-93c1-d870c31d4d52"
      },
      "execution_count": 7,
      "outputs": [
        {
          "output_type": "execute_result",
          "data": {
            "text/plain": [
              "sys.version_info(major=3, minor=7, micro=13, releaselevel='final', serial=0)"
            ]
          },
          "metadata": {},
          "execution_count": 7
        }
      ]
    },
    {
      "cell_type": "code",
      "source": [
        "# ดูเวอร์ชั่น Spark\n",
        "spark.version"
      ],
      "metadata": {
        "id": "ZetZ-VChGNnO",
        "colab": {
          "base_uri": "https://localhost:8080/",
          "height": 35
        },
        "outputId": "4f1d69bf-1c75-4d4e-e981-691cb9ce34db"
      },
      "execution_count": 8,
      "outputs": [
        {
          "output_type": "execute_result",
          "data": {
            "text/plain": [
              "'3.2.1'"
            ],
            "application/vnd.google.colaboratory.intrinsic+json": {
              "type": "string"
            }
          },
          "metadata": {},
          "execution_count": 8
        }
      ]
    },
    {
      "cell_type": "markdown",
      "source": [
        "## ปฏิบัติการที่ 3.2 (5 คะแนน) นักศึกษาสามารถสร้าง Data Profile ได้"
      ],
      "metadata": {
        "id": "38akXUA3Q9LD"
      }
    },
    {
      "cell_type": "markdown",
      "source": [
        "### 3. อ่านไฟล์ CSV ด้วย Spark \n"
      ],
      "metadata": {
        "id": "LcdtapH_QFwa"
      }
    },
    {
      "cell_type": "markdown",
      "source": [
        "- ให้นำไฟล์ CSV เข้า Colab โดยใช้คำสั่ง spark.read.csv\n",
        "\n",
        "สามารถอ่านเพิ่มเติมได้ [ที่นี่](https://spark.apache.org/docs/latest/sql-data-sources-csv.html)\n",
        "\n",
        "**Note**\n",
        "\n",
        "* Header = True หมายความว่า บรรทัดแรกในไฟล์ CSV เป็น Header\n",
        "* Inferschema = True หมายความว่า Spark จะกำหนด Data type \n",
        "ของแต่ละ column ให้ (ถ้ากำหนดเป็น False คือการกำหนดให้ทุก Column มี Data Type เป็น String ทั้งหมด)\n",
        "* sep คือ Delimit Separator"
      ],
      "metadata": {
        "id": "ZqbgO7giYT2A"
      }
    },
    {
      "cell_type": "code",
      "source": [
        "car_dt = spark.read.csv('/content/cars.csv', header = True, inferSchema = True )\n",
        "car_dt.show(5)"
      ],
      "metadata": {
        "colab": {
          "base_uri": "https://localhost:8080/"
        },
        "id": "pp9S79rQGOEM",
        "outputId": "bdd75020-46ac-4672-ef05-bef3a27eff8b"
      },
      "execution_count": 10,
      "outputs": [
        {
          "output_type": "stream",
          "name": "stdout",
          "text": [
            "+--------------------+----+---------+------------+----------+------+------------+-----+------+\n",
            "|                 Car| MPG|Cylinders|Displacement|Horsepower|Weight|Acceleration|Model|Origin|\n",
            "+--------------------+----+---------+------------+----------+------+------------+-----+------+\n",
            "|Chevrolet Chevell...|18.0|        8|       307.0|       130|  3504|        12.0|   70|    US|\n",
            "|   Buick Skylark 320|15.0|        8|       350.0|       165|  3693|        11.5|   70|    US|\n",
            "|  Plymouth Satellite|18.0|        8|       318.0|       150|  3436|        11.0|   70|    US|\n",
            "|       AMC Rebel SST|16.0|        8|       304.0|       150|  3433|        12.0|   70|    US|\n",
            "|         Ford Torino|17.0|        8|       302.0|       140|  3449|        10.5|   70|    US|\n",
            "+--------------------+----+---------+------------+----------+------+------------+-----+------+\n",
            "only showing top 5 rows\n",
            "\n"
          ]
        }
      ]
    },
    {
      "cell_type": "markdown",
      "source": [
        "- ให้อ่าน CSV จาก URL "
      ],
      "metadata": {
        "id": "uUpqzgzxQb0A"
      }
    },
    {
      "cell_type": "code",
      "source": [
        "url = \"https://perso.telecom-paristech.fr/eagan/class/igr204/data/cars.csv\"\n",
        "from pyspark import SparkFiles\n",
        "spark.sparkContext.addFile(url)\n",
        "car_dt = spark.read.csv(\"file://\"+SparkFiles.get(\"cars.csv\"), header=True, inferSchema= True, sep =';',)"
      ],
      "metadata": {
        "id": "-7QaemtpMUJ-"
      },
      "execution_count": null,
      "outputs": []
    },
    {
      "cell_type": "markdown",
      "source": [
        ""
      ],
      "metadata": {
        "id": "2tGhVHVgc3fv"
      }
    },
    {
      "cell_type": "code",
      "source": [
        "car_dt.select(\"Car\",\"MPG\").show()"
      ],
      "metadata": {
        "id": "nEnltN6zNKuC"
      },
      "execution_count": null,
      "outputs": []
    },
    {
      "cell_type": "markdown",
      "source": [
        "### 4. ดู Schema ของ car_dt โดยใช้คำสั่ง printSchema"
      ],
      "metadata": {
        "id": "uKwGRsjSJq1h"
      }
    },
    {
      "cell_type": "code",
      "source": [
        "car_dt.printSchema()"
      ],
      "metadata": {
        "id": "avDYKQX-T3bB"
      },
      "execution_count": null,
      "outputs": []
    },
    {
      "cell_type": "markdown",
      "source": [
        "### 5. แสดงจำนวน Row และ Column รวมทั้งแสดงรายละเอียดของ Column โดยใช้คำสั่ง count() และ columns\n"
      ],
      "metadata": {
        "id": "fE2uzAL4ZnCg"
      }
    },
    {
      "cell_type": "code",
      "source": [
        "#จำนวน Column\n",
        "print(\"The number of rows: \", car_dt.count())\n",
        "print(\"The number of column: \", len(car_dt.columns), \" and list of columns are \", car_dt.columns)"
      ],
      "metadata": {
        "id": "vqcWr84NY9be"
      },
      "execution_count": null,
      "outputs": []
    },
    {
      "cell_type": "markdown",
      "source": [
        "### 6. แสดงข้อมูลสรุปสถิติของแต่ละ Column โดยใช้คำสั่ง describe() หรือ summary()"
      ],
      "metadata": {
        "id": "qaej_IQCbh9z"
      }
    },
    {
      "cell_type": "code",
      "source": [
        "car_dt.describe().show()"
      ],
      "metadata": {
        "id": "XzU3jJ7xZMY7"
      },
      "execution_count": null,
      "outputs": []
    },
    {
      "cell_type": "code",
      "source": [
        "car_dt.summary().show()"
      ],
      "metadata": {
        "id": "BzwXe_MQacNo"
      },
      "execution_count": null,
      "outputs": []
    },
    {
      "cell_type": "markdown",
      "source": [
        "### 7.  ให้นักศึกษาที่การอ่าน CSV จาก url เข้ามาเก็บไว้ที่ตัวแปร country_dt "
      ],
      "metadata": {
        "id": "9NwoWrEIc7u5"
      }
    },
    {
      "cell_type": "markdown",
      "source": [
        "ให้แสดงผลเชิงสรุปโดยใช้คำสั่ง summary() (เลือกเฉพาะ count มาแสดง) โดยเลือกเฉพาะ Column (ใช้คำสั่ง select()) ที่ชื่อว่า \n",
        "•\tCountry\n",
        "•\tBirth rate(births/1000 population)\n",
        "•\tExports\n"
      ],
      "metadata": {
        "id": "5-fxZK2bgTQ9"
      }
    },
    {
      "cell_type": "code",
      "source": [
        "url = \"https://perso.telecom-paristech.fr/eagan/class/igr204/data/factbook.csv\"\n",
        "from pyspark import SparkFiles\n",
        "spark.sparkContext.addFile(url)\n",
        "country_dt = spark.read.csv(\"file://\"+SparkFiles.get(\"factbook.csv\"), header=True, inferSchema= True, sep =';',)"
      ],
      "metadata": {
        "id": "p0vHabWUbTuU"
      },
      "execution_count": null,
      "outputs": []
    },
    {
      "cell_type": "code",
      "source": [
        "country_dt = country_dt.where(country_dt.Country != \"String\")\n",
        "country_dt.show(10)"
      ],
      "metadata": {
        "id": "4B4MGXaWanEk"
      },
      "execution_count": null,
      "outputs": []
    },
    {
      "cell_type": "code",
      "source": [
        "print(\"The number of rows: \", country_dt.count())\n",
        "country_dt.select(\"Country\",\"Birth rate(births/1000 population)\", \"Exports\").summary(\"count\").show()"
      ],
      "metadata": {
        "id": "vbUsV4SjcXDQ"
      },
      "execution_count": null,
      "outputs": []
    },
    {
      "cell_type": "markdown",
      "source": [
        "### 8. (1 คะแนน) ให้แสดงแถวข้อมูลที่มี Missing Value หรือ Null ที่เกิดใน Column ชื่อ Exports โดยใช้คำสั่ง where หรือ filter แสดงรายละเอียดของ Column ชื่อ Country และ Exports และแสดงเฉพาะ 10 แถวแรก "
      ],
      "metadata": {
        "id": "zZhe1A4FjALa"
      }
    },
    {
      "cell_type": "markdown",
      "source": [
        "การใช้ Filter และ Where อ่านเพิ่มเติมได้ [ที่นี่](https://sparkbyexamples.com/spark/spark-filter-rows-with-null-values/) หรือ [ที่นี่](https://sparkbyexamples.com/pyspark/pyspark-where-filter/)"
      ],
      "metadata": {
        "id": "AtwzP3NVkxNu"
      }
    },
    {
      "cell_type": "code",
      "source": [
        "country_dt.printSchema()"
      ],
      "metadata": {
        "id": "XtGQ4dPHlvre"
      },
      "execution_count": null,
      "outputs": []
    },
    {
      "cell_type": "code",
      "source": [
        "country_dt.where(country_dt.Exports.isNull()).select(\"Country\",\"Exports\").show(10)"
      ],
      "metadata": {
        "id": "hP3Ml7POgX52"
      },
      "execution_count": null,
      "outputs": []
    },
    {
      "cell_type": "code",
      "source": [
        "country_dt.filter(\"Exports is NULL\").select(\"Country\", \"Exports\").show(10)"
      ],
      "metadata": {
        "id": "Dy08xeu1g_J4"
      },
      "execution_count": null,
      "outputs": []
    },
    {
      "cell_type": "markdown",
      "source": [
        "## ปฏิบัติการที่ 3.3 (5 คะแนน) นักศึกษาสามารถใช้งาน EDA ได้"
      ],
      "metadata": {
        "id": "jw5AI6KfPs-T"
      }
    },
    {
      "cell_type": "markdown",
      "source": [
        "### 9. ให้ทำการนำเข้าไฟล์ CSV ชื่อ cereal.csv เข้า Colab และดู Schema"
      ],
      "metadata": {
        "id": "gF4MLOvjj8Mp"
      }
    },
    {
      "cell_type": "code",
      "source": [
        "cereal_dt = spark.read.csv('/content/cereal.csv', header = True, inferSchema = True )\n",
        "cereal_dt.show(5)"
      ],
      "metadata": {
        "colab": {
          "base_uri": "https://localhost:8080/"
        },
        "id": "REUYpKkYTQG6",
        "outputId": "4156bcb8-1350-4b5c-cf06-d86d2acd4302"
      },
      "execution_count": 7,
      "outputs": [
        {
          "output_type": "stream",
          "name": "stdout",
          "text": [
            "+--------------------+---+----+-----------+-------+----+------+-----+-----+------+------+--------+-----+------+----+---------+-------------------+\n",
            "|                name|mfr|type|   calories|protein| fat|sodium|fiber|carbo|sugars|potass|vitamins|shelf|weight|cups|   rating|    record_datetime|\n",
            "+--------------------+---+----+-----------+-------+----+------+-----+-----+------+------+--------+-----+------+----+---------+-------------------+\n",
            "|           100% Bran|  N|   C|70.44442454|   null|   1|   130| 10.0|  5.0|     6|   280|    null|    3|   1.0|0.33|68.402973|2022-06-11 14:04:45|\n",
            "|   100% Natural Bran|  Q|   C|120.9993938|      3|   5|    15|  2.0|  8.0|  null|   135|       0|    3|   1.0| 1.0|33.983679|2021-09-20 14:35:58|\n",
            "|            All-Bran|  K|   C|70.56453146|      4|null|  null|  9.0|  7.0|     5|   320|      25|    3|   1.0|0.33|59.425505|2022-04-02 03:43:03|\n",
            "|All-Bran with Ext...|  K|   C|50.62726767|      4|   0|   140| 14.0|  8.0|     0|   330|      25|    3|   1.0| 0.5|93.704912|2021-11-20 03:42:19|\n",
            "|      Almond Delight|  R|   C|110.2892453|      2|   2|   200|  1.0| 14.0|     8|    -1|      25|    3|   1.0|0.75|34.384843|2019-12-26 03:44:02|\n",
            "+--------------------+---+----+-----------+-------+----+------+-----+-----+------+------+--------+-----+------+----+---------+-------------------+\n",
            "only showing top 5 rows\n",
            "\n"
          ]
        }
      ]
    },
    {
      "cell_type": "code",
      "source": [
        "cereal_dt.printSchema()"
      ],
      "metadata": {
        "id": "VWeZUVKDeeRR"
      },
      "execution_count": null,
      "outputs": []
    },
    {
      "cell_type": "markdown",
      "source": [
        "### 10. (1 คะแนน) ทำการกรองข้อมูลโดยใช้ filter โดยมีเงื่อนไขคือ เลือกแถวที่ fat และ sodium เป็นค่าว่าง (สัญลักษณ์ & คือ “และ” )\n",
        "ศึกษาเพิ่มได้ [ที่นี่](https://sparkbyexamples.com/pyspark/pyspark-filter-rows-with-null-values/)"
      ],
      "metadata": {
        "id": "vhgb748AnE6T"
      }
    },
    {
      "cell_type": "code",
      "source": [
        "cereal_dt.filter(cereal_dt.fat.isNull() & cereal_dt.sodium.isNull()).show()"
      ],
      "metadata": {
        "id": "TsNdEXy4h08m"
      },
      "execution_count": null,
      "outputs": []
    },
    {
      "cell_type": "markdown",
      "source": [
        "### 11. (1 คะแนน) จงหาว่าชื่อ (name) ของ cereal ใดบ้างที่มีปริมาณ sugars อยู่ระหว่าง 7-10 (ไม่รวม 7 และ 10) "
      ],
      "metadata": {
        "id": "cF_yEC-cs38i"
      }
    },
    {
      "cell_type": "markdown",
      "source": [
        "•\tคำสั่งเขียนอย่างไร ถ้าใช้ filter"
      ],
      "metadata": {
        "id": "t9iZnGpBs6ma"
      }
    },
    {
      "cell_type": "code",
      "source": [
        "cereal_dt.filter(cereal_dt.sugars > 7).filter(cereal_dt.sugars < 10).select(\"name\", \"sugars\").show()"
      ],
      "metadata": {
        "id": "RX2HkvUtkyXt"
      },
      "execution_count": null,
      "outputs": []
    },
    {
      "cell_type": "markdown",
      "source": [
        "•\tคำสั่งเขียนอย่างไร ถ้าใช้ where"
      ],
      "metadata": {
        "id": "PP5Xo4Ays6IS"
      }
    },
    {
      "cell_type": "code",
      "source": [
        "cereal_dt.where(\"sugars > 7 AND sugars < 10\").select(\"name\", \"sugars\").show()"
      ],
      "metadata": {
        "id": "Z7qhhQCxrj0b"
      },
      "execution_count": null,
      "outputs": []
    },
    {
      "cell_type": "markdown",
      "source": [
        "### 12. (1 คะแนน) จงหาจำนวนข้อมูล โดยมีเงื่อนไขคือ mfr มีค่า P หรือ Q ให้ใช้คำสั่ง count ในการนับ"
      ],
      "metadata": {
        "id": "CXcd1Pgcuqqr"
      }
    },
    {
      "cell_type": "markdown",
      "source": [
        "ศึกษาเพิ่มเติมได้ [ที่นี่](https://spark.apache.org/docs/latest/api/python/reference/api/pyspark.sql.DataFrame.count.html)"
      ],
      "metadata": {
        "id": "R989XOOnu2lY"
      }
    },
    {
      "cell_type": "code",
      "source": [
        "numpq = cereal_dt.where(\"mfr in ('P','Q')\").count()\n",
        "print(\"The number of rows containing P or Q in mfr is \", numpq)"
      ],
      "metadata": {
        "id": "iBSSxxrgsWLv"
      },
      "execution_count": null,
      "outputs": []
    },
    {
      "cell_type": "markdown",
      "source": [
        ""
      ],
      "metadata": {
        "id": "PgkkTyVrOSpD"
      }
    },
    {
      "cell_type": "code",
      "source": [
        "import matplotlib.pyplot as plt\n",
        "import pandas as pd"
      ],
      "metadata": {
        "id": "VPjF2ugFuNR1"
      },
      "execution_count": null,
      "outputs": []
    },
    {
      "cell_type": "code",
      "source": [
        "cereal_pd = cereal_dt.toPandas()\n",
        "cereal_pd.set_index('name')\n",
        "cereal_pd.head()"
      ],
      "metadata": {
        "id": "0WeQJhW1Pa_Z"
      },
      "execution_count": null,
      "outputs": []
    },
    {
      "cell_type": "markdown",
      "source": [
        "### 15. (1 คะแนน) จงสร้าง Bar chart จากการใช้ matplotlib โดยเลือกเฉพาะคอลัม protein และ fat และเลือกเฉพาะ name = ['Clusters', 'Froot Loops', 'Grape-Nuts'] มาแสดง\n",
        "\n",
        "ศึกษาเพิ่มเติมได้ [ที่นี่](https://www.shanelynn.ie/bar-plots-in-python-using-pandas-dataframes/)\n"
      ],
      "metadata": {
        "id": "Uifn7MtlkMFv"
      }
    },
    {
      "cell_type": "code",
      "source": [
        "select_cereal = ['Clusters', 'Froot Loops', 'Grape-Nuts']\n",
        "\n",
        "select_name = list(cereal_pd.loc[cereal_pd['name'].isin(select_cereal)].iloc[:, 0])\n",
        "select_row_protein = list(cereal_pd.loc[cereal_pd['name'].isin(select_cereal)].iloc[:, 4])\n",
        "select_row_fat = list(cereal_pd.loc[cereal_pd['name'].isin(select_cereal)].iloc[:, 5])\n",
        "\n",
        "\n",
        "plotdata = pd.DataFrame({\n",
        "    \"protein\":select_row_protein,\n",
        "    \"fat\":select_row_fat\n",
        "    }, \n",
        "    index=select_name\n",
        ")\n",
        "\n",
        "plotdata.plot(kind=\"bar\")\n",
        "plt.title(\"Cereal's fat and protein\")\n",
        "plt.xlabel(\"Cereal name\")\n",
        "plt.ylabel(\"nutrients (mg)\")\n",
        "\n"
      ],
      "metadata": {
        "id": "SfUFXVV7Qg-2"
      },
      "execution_count": null,
      "outputs": []
    },
    {
      "cell_type": "markdown",
      "source": [
        "### 16. (1 คะแนน) จงสร้าง scatter plot โดยเลือกคอลัม rating เป็นแกน x และ calories เป็นแกน y "
      ],
      "metadata": {
        "id": "Dg3lC1q1qkO8"
      }
    },
    {
      "cell_type": "code",
      "source": [
        "rating = list(cereal_pd.iloc[:, 15])\n",
        "calories = list(cereal_pd.iloc[:, 3])\n",
        "\n",
        "plotdata = pd.DataFrame({\n",
        "    \"rating\":rating,\n",
        "    \"calories\":calories\n",
        "    }\n",
        ")\n",
        "\n",
        "plotdata.plot(kind='scatter', x='calories', y='rating', c=\"red\")\n",
        "plt.title(\"Cereal's calories\")\n",
        "plt.xlabel(\"Rating\")\n",
        "plt.ylabel(\"Calories\")"
      ],
      "metadata": {
        "id": "Rv6ePQPldVBn"
      },
      "execution_count": null,
      "outputs": []
    },
    {
      "cell_type": "markdown",
      "source": [
        "17.(1 คะแนน) จาก cereal_dt ให้ทำการแปลง Data type จากคอลัม record_datetime ซึ่งมี Data Type เป็น String ให้เป็น Data Type ที่ถูกต้อง (แปลงเป็น timestamp)\n",
        "\n",
        "ศึกษาเพิ่มเติมได้ [ที่นี่](https://sparkbyexamples.com/spark/spark-convert-string-to-timestamp-format/)"
      ],
      "metadata": {
        "id": "5W0ButT821y5"
      }
    },
    {
      "cell_type": "code",
      "source": [
        "cereal_dt.printSchema()"
      ],
      "metadata": {
        "id": "VODPs5jO3iug"
      },
      "execution_count": null,
      "outputs": []
    },
    {
      "cell_type": "code",
      "source": [
        "from pyspark.sql import functions as f\n",
        "\n",
        "cereal_clean_dt = cereal_dt.withColumn(\"record_datetime\",  f.to_timestamp(cereal_dt.record_datetime, 'yyyy-MM-dd HH:mm:ss'))\n",
        "cereal_clean_dt.printSchema()"
      ],
      "metadata": {
        "colab": {
          "base_uri": "https://localhost:8080/"
        },
        "id": "lVBLSUZRm5bO",
        "outputId": "db511a7c-1d79-4c3d-cb04-6a675ae93887"
      },
      "execution_count": 8,
      "outputs": [
        {
          "output_type": "stream",
          "name": "stdout",
          "text": [
            "root\n",
            " |-- name: string (nullable = true)\n",
            " |-- mfr: string (nullable = true)\n",
            " |-- type: string (nullable = true)\n",
            " |-- calories: double (nullable = true)\n",
            " |-- protein: integer (nullable = true)\n",
            " |-- fat: integer (nullable = true)\n",
            " |-- sodium: integer (nullable = true)\n",
            " |-- fiber: double (nullable = true)\n",
            " |-- carbo: double (nullable = true)\n",
            " |-- sugars: integer (nullable = true)\n",
            " |-- potass: integer (nullable = true)\n",
            " |-- vitamins: integer (nullable = true)\n",
            " |-- shelf: integer (nullable = true)\n",
            " |-- weight: double (nullable = true)\n",
            " |-- cups: double (nullable = true)\n",
            " |-- rating: double (nullable = true)\n",
            " |-- record_datetime: timestamp (nullable = true)\n",
            "\n"
          ]
        }
      ]
    },
    {
      "cell_type": "markdown",
      "source": [
        "### 18.(1 คะแนน) จาก cereal_dt ให้ทำการแปลง Data type จากคอลัม calories ซึ่งมี Data Type เป็น double ให้เป็น int ด้วยคำสั่ง withColumn และ cast จากนั้นทำการแสดง Schema"
      ],
      "metadata": {
        "id": "6MgdDoM3ZhNU"
      }
    },
    {
      "cell_type": "code",
      "source": [
        "cereal_clean_dt = cereal_clean_dt.withColumn(\"calories\",  cereal_clean_dt.calories.cast(\"Integer\"))\n",
        "cereal_clean_dt.printSchema()"
      ],
      "metadata": {
        "colab": {
          "base_uri": "https://localhost:8080/"
        },
        "id": "ynthguWj1KI9",
        "outputId": "aadec27f-542a-485b-bf11-a01188cd956b"
      },
      "execution_count": 9,
      "outputs": [
        {
          "output_type": "stream",
          "name": "stdout",
          "text": [
            "root\n",
            " |-- name: string (nullable = true)\n",
            " |-- mfr: string (nullable = true)\n",
            " |-- type: string (nullable = true)\n",
            " |-- calories: integer (nullable = true)\n",
            " |-- protein: integer (nullable = true)\n",
            " |-- fat: integer (nullable = true)\n",
            " |-- sodium: integer (nullable = true)\n",
            " |-- fiber: double (nullable = true)\n",
            " |-- carbo: double (nullable = true)\n",
            " |-- sugars: integer (nullable = true)\n",
            " |-- potass: integer (nullable = true)\n",
            " |-- vitamins: integer (nullable = true)\n",
            " |-- shelf: integer (nullable = true)\n",
            " |-- weight: double (nullable = true)\n",
            " |-- cups: double (nullable = true)\n",
            " |-- rating: double (nullable = true)\n",
            " |-- record_datetime: timestamp (nullable = true)\n",
            "\n"
          ]
        }
      ]
    },
    {
      "cell_type": "markdown",
      "source": [
        "### 19. (1 คะแนน) ให้ทำการแทนที่ค่าที่สะกดผิดในคอลัม name จากชื่อ Just Right Fruit & Nut ให้เป็น Just Right Fruit and Nut (DataFrame ใหม่ที่ได้ชื่อ cereal_clean_dt) ให้ใช้ Function ของ Spark ชื่อ withColumn, when และ otherwise จากนั้นให้ทำการแสดงผลลัพธ์\n",
        "\n",
        "ศึกษาเพิ่มเติมได้ [ที่นี่](https://sparkbyexamples.com/pyspark/pyspark-update-a-column-with-value/)"
      ],
      "metadata": {
        "id": "Mlz2e5cpZjRi"
      }
    },
    {
      "cell_type": "code",
      "source": [
        "from pyspark.sql.functions import when\n",
        "\n",
        "cereal_clean_dt = cereal_clean_dt.withColumn(\"name\", when(cereal_clean_dt['name'] == 'Just Right Fruit & Nut', 'Just Right Fruit and Nut').otherwise(cereal_clean_dt['name']))\n"
      ],
      "metadata": {
        "id": "WoxgLx3dGpCw"
      },
      "execution_count": 14,
      "outputs": []
    },
    {
      "cell_type": "code",
      "source": [
        "cereal_clean_dt.where('name = \"Just Right Fruit and Nut\"').select('name').show(1,False)"
      ],
      "metadata": {
        "id": "PlBluRbdGzDd",
        "colab": {
          "base_uri": "https://localhost:8080/"
        },
        "outputId": "70cfde7e-168a-4e24-cc74-102542dac1cb"
      },
      "execution_count": 18,
      "outputs": [
        {
          "output_type": "stream",
          "name": "stdout",
          "text": [
            "+------------------------+\n",
            "|name                    |\n",
            "+------------------------+\n",
            "|Just Right Fruit and Nut|\n",
            "+------------------------+\n",
            "\n"
          ]
        }
      ]
    },
    {
      "cell_type": "markdown",
      "source": [
        "### 20. (1 คะแนน) จงใช้คำสั่ง filter และ rlike ในการหาค่าในคอลัม name โดยให้หาเฉพาะค่าที่ประกอบด้วยตัวอักษระ (A-Z และ a-z) อักขระประเภท whitespace (ช่องว่าง ใช้สัญลักษณ์ \\\\s) และเครื่องหมาย – เท่านั้น และแสดงผลออกมา"
      ],
      "metadata": {
        "id": "2-JozkzGE1hJ"
      }
    },
    {
      "cell_type": "code",
      "source": [
        "cereal_correct = cereal_clean_dt.filter(~cereal_clean_dt[\"name\"].rlike(\"^[A-Za-z\\s-]+$\"))\n",
        "#cereal_incorrect = cereal_clean_dt.subtract(cereal_correct)\n",
        "\n",
        "print(\"The number of incorrect data:\", cereal_correct.count())\n",
        "cereal_correct.select('name').show(100,False)"
      ],
      "metadata": {
        "colab": {
          "base_uri": "https://localhost:8080/"
        },
        "id": "0nbqPOkbgGvz",
        "outputId": "7d8c5e4e-0276-4165-b920-8c384bb06985"
      },
      "execution_count": 10,
      "outputs": [
        {
          "output_type": "stream",
          "name": "stdout",
          "text": [
            "The number of incorrect data: 12\n",
            "+----------------------+\n",
            "|name                  |\n",
            "+----------------------+\n",
            "|100% Bran             |\n",
            "|100% Natural Bran     |\n",
            "|Basic 4               |\n",
            "|Cap'n'Crunch          |\n",
            "|Cracklin' Oat Bran    |\n",
            "|Cream of Wheat (Quick)|\n",
            "|Crispy Wheat & Raisins|\n",
            "|Just Right Fruit & Nut|\n",
            "|Nut&Honey Crunch      |\n",
            "|Post Nat. Raisin Bran |\n",
            "|Product 19            |\n",
            "|Shredded Wheat 'n'Bran|\n",
            "+----------------------+\n",
            "\n"
          ]
        }
      ]
    },
    {
      "cell_type": "code",
      "source": [
        "cereal_correct = cereal_clean_dt.filter(cereal_clean_dt[\"name\"].rlike(\"^[A-Za-z\\s-]+$\"))\n",
        "cereal_incorrect = cereal_clean_dt.subtract(cereal_correct)\n",
        "\n",
        "print(\"The number of incorrect data:\", cereal_incorrect.count())\n",
        "cereal_incorrect.select('name').show(100,False)"
      ],
      "metadata": {
        "colab": {
          "base_uri": "https://localhost:8080/"
        },
        "id": "hQknLaP-gwyI",
        "outputId": "fbe69b66-ba25-41f7-fcd2-6215525b57b5"
      },
      "execution_count": 11,
      "outputs": [
        {
          "output_type": "stream",
          "name": "stdout",
          "text": [
            "The number of incorrect data: 12\n",
            "+----------------------+\n",
            "|name                  |\n",
            "+----------------------+\n",
            "|100% Natural Bran     |\n",
            "|Product 19            |\n",
            "|100% Bran             |\n",
            "|Basic 4               |\n",
            "|Post Nat. Raisin Bran |\n",
            "|Shredded Wheat 'n'Bran|\n",
            "|Cream of Wheat (Quick)|\n",
            "|Cap'n'Crunch          |\n",
            "|Just Right Fruit & Nut|\n",
            "|Nut&Honey Crunch      |\n",
            "|Cracklin' Oat Bran    |\n",
            "|Crispy Wheat & Raisins|\n",
            "+----------------------+\n",
            "\n"
          ]
        }
      ]
    },
    {
      "cell_type": "markdown",
      "source": [
        "### 21. จงเขียนคำสั่งต่อไปนี้ เพื่อดูว่าแต่ละคอลัมมีจำนวนข้อมูลที่เป็น NULL เท่าไร"
      ],
      "metadata": {
        "id": "Bl0cyPNvE7UZ"
      }
    },
    {
      "cell_type": "code",
      "source": [
        "from pyspark.sql.functions import col, sum, when, count\n",
        "\n",
        "cereal_null_dt = cereal_clean_dt.select([count(when(col(c).isNull(), c)).alias(c) for c in cereal_clean_dt.columns])\n",
        "cereal_null_dt.show()"
      ],
      "metadata": {
        "colab": {
          "base_uri": "https://localhost:8080/"
        },
        "id": "CVTzlZ06jqpL",
        "outputId": "5cfde003-4ad9-48f8-f357-13e3037e2f62"
      },
      "execution_count": 19,
      "outputs": [
        {
          "output_type": "stream",
          "name": "stdout",
          "text": [
            "+----+---+----+--------+-------+---+------+-----+-----+------+------+--------+-----+------+----+------+---------------+\n",
            "|name|mfr|type|calories|protein|fat|sodium|fiber|carbo|sugars|potass|vitamins|shelf|weight|cups|rating|record_datetime|\n",
            "+----+---+----+--------+-------+---+------+-----+-----+------+------+--------+-----+------+----+------+---------------+\n",
            "|   0|  2|   3|       1|      2|  2|     4|    2|    2|     3|     1|       1|    2|     2|   0|     1|              0|\n",
            "+----+---+----+--------+-------+---+------+-----+-----+------+------+--------+-----+------+----+------+---------------+\n",
            "\n"
          ]
        }
      ]
    },
    {
      "cell_type": "markdown",
      "source": [
        "### 22. (1 คะแนน) จงเขียนคำสั่งให้ข้อมูลใน cereal_clean_dt ลบแถวที่มีค่า NULL ในคอลัม vitamins โดยใช้คำสั่ง na.drop ใน spark จากนั้นให้แสดงจำนวนค่า NULL ในแต่ละคอลัม (จำนวนค่า NULL ใน vitamins จะเป็น 0)\n",
        "\n",
        "ศึกษาเพิ่มเติมได้ [ที่นี่](https://sparkbyexamples.com/spark/spark-dataframe-drop-rows-with-null-values/)"
      ],
      "metadata": {
        "id": "DtF4JeqSFBiN"
      }
    },
    {
      "cell_type": "code",
      "source": [
        "cereal_rnull_dt = cereal_clean_dt.na.drop(subset=[\"vitamins\"])\n",
        "cereal_rnull_dt.show()"
      ],
      "metadata": {
        "colab": {
          "base_uri": "https://localhost:8080/"
        },
        "id": "cFNF-sSi19j5",
        "outputId": "7f31766e-7b00-4345-d892-131415aa8680"
      },
      "execution_count": 26,
      "outputs": [
        {
          "output_type": "stream",
          "name": "stdout",
          "text": [
            "+--------------------+---+----+--------+-------+----+------+-----+-----+------+------+--------+-----+------+----+---------+-------------------+\n",
            "|                name|mfr|type|calories|protein| fat|sodium|fiber|carbo|sugars|potass|vitamins|shelf|weight|cups|   rating|    record_datetime|\n",
            "+--------------------+---+----+--------+-------+----+------+-----+-----+------+------+--------+-----+------+----+---------+-------------------+\n",
            "|   100% Natural Bran|  Q|   C|     120|      3|   5|    15|  2.0|  8.0|  null|   135|       0|    3|   1.0| 1.0|33.983679|2021-09-20 14:35:58|\n",
            "|            All-Bran|  K|   C|      70|      4|null|  null|  9.0|  7.0|     5|   320|      25|    3|   1.0|0.33|59.425505|2022-04-02 03:43:03|\n",
            "|All-Bran with Ext...|  K|   C|      50|      4|   0|   140| 14.0|  8.0|     0|   330|      25|    3|   1.0| 0.5|93.704912|2021-11-20 03:42:19|\n",
            "|      Almond Delight|  R|   C|     110|      2|   2|   200|  1.0| 14.0|     8|    -1|      25|    3|   1.0|0.75|34.384843|2019-12-26 03:44:02|\n",
            "|Apple Cinnamon Ch...|  G|   C|     110|   null|   2|   180|  1.5| 10.5|    10|    70|      25|    1|   1.0|0.75|29.509541|2019-08-07 20:34:54|\n",
            "|         Apple Jacks|  K|   C|     110|      2|   0|   125|  1.0| 11.0|    14|    30|      25|    2|   1.0| 1.0|33.174094|2021-06-29 14:11:51|\n",
            "|             Basic 4|  G|   C|     130|      3|   2|   210|  2.0| 18.0|  null|   100|      25|    3|  1.33|0.75|37.038562|2019-07-21 17:43:19|\n",
            "|           Bran Chex|  R|null|      90|      2|   1|   200|  4.0| 15.0|     6|   125|      25|    1|   1.0|0.67|49.120253|2022-11-24 13:56:32|\n",
            "|         Bran Flakes|  P|   C|      90|      3|   0|   210|  5.0| 13.0|     5|   190|      25|    3|   1.0|0.67|53.313813|2022-04-04 17:00:12|\n",
            "|        Cap'n'Crunch|  Q|   C|     120|      1|   2|  null|  0.0| 12.0|    12|    35|      25|    2|   1.0|0.75|18.042851|2021-07-24 23:51:26|\n",
            "|            Cheerios|  G|   C|     110|      6|   2|   290|  2.0| 17.0|     1|   105|      25|    1|   1.0|1.25|50.764999|2019-11-30 17:45:37|\n",
            "|Cinnamon Toast Cr...|  G|   C|     120|      1|   3|   210|  0.0| 13.0|     9|    45|      25|    2|   1.0|0.75|19.823573|2020-09-03 12:28:12|\n",
            "|            Clusters|  G|   C|     110|      3|   2|   140|  2.0| 13.0|     7|   105|      25|    3|  null| 0.5|40.400208|2019-12-31 08:04:16|\n",
            "|         Cocoa Puffs|  G|   C|     110|      1|   1|   180|  0.0| 12.0|    13|    55|      25|    2|   1.0| 1.0|22.736446|2019-03-25 08:48:34|\n",
            "|           Corn Chex|  R|   C|     110|      2|   0|   280|  0.0| 22.0|     3|    25|      25|    1|   1.0| 1.0|41.445019|2020-05-12 05:50:31|\n",
            "|         Corn Flakes|  K|   C|     100|      2|   0|   290|  1.0| 21.0|     2|    35|      25|    1|   1.0| 1.0|45.863324|2020-05-18 06:21:09|\n",
            "|           Corn Pops|  K|   C|    null|      1|   0|    90|  1.0| 13.0|    12|  null|      25|    2|   1.0| 1.0|35.782791|2022-06-04 20:40:13|\n",
            "|       Count Chocula|  G|   C|     110|      1|   1|   180|  0.0| 12.0|    13|    65|      25|    2|   1.0| 1.0|22.396513|2019-07-17 16:13:17|\n",
            "|  Cracklin' Oat Bran|  K|   C|     110|      3|   3|   140|  4.0| 10.0|     7|   160|      25|    3|   1.0| 0.5|40.448772|2022-03-30 16:27:09|\n",
            "|Cream of Wheat (Q...|  N|   H|     100|      3|   0|    80|  1.0| 21.0|     0|    -1|       0|    2|   1.0| 1.0|64.533816|2020-01-03 02:26:12|\n",
            "+--------------------+---+----+--------+-------+----+------+-----+-----+------+------+--------+-----+------+----+---------+-------------------+\n",
            "only showing top 20 rows\n",
            "\n"
          ]
        }
      ]
    },
    {
      "cell_type": "code",
      "source": [
        "cereal_rnull_dt = cereal_rnull_dt.select([count(when(col(c).isNull(), c)).alias(c) for c in cereal_clean_dt.columns])\n",
        "cereal_rnull_dt.show()"
      ],
      "metadata": {
        "colab": {
          "base_uri": "https://localhost:8080/"
        },
        "id": "R5tqOb5_ASzv",
        "outputId": "5ec22731-6441-4ef3-9697-eceb6199ec63"
      },
      "execution_count": 27,
      "outputs": [
        {
          "output_type": "stream",
          "name": "stdout",
          "text": [
            "+----+---+----+--------+-------+---+------+-----+-----+------+------+--------+-----+------+----+------+---------------+\n",
            "|name|mfr|type|calories|protein|fat|sodium|fiber|carbo|sugars|potass|vitamins|shelf|weight|cups|rating|record_datetime|\n",
            "+----+---+----+--------+-------+---+------+-----+-----+------+------+--------+-----+------+----+------+---------------+\n",
            "|   0|  2|   3|       1|      1|  2|     4|    2|    2|     3|     1|       0|    2|     2|   0|     1|              0|\n",
            "+----+---+----+--------+-------+---+------+-----+-----+------+------+--------+-----+------+----+------+---------------+\n",
            "\n"
          ]
        }
      ]
    },
    {
      "cell_type": "markdown",
      "source": [
        "### 23. จงเขียนคำสั่งให้ข้อมูลใน cereal_clean_dt ลบแถวที่มีค่า NULL ในทุกคอลัม และบันทึกไว้ที่ cereal_final_dt จากนั้นให้ใช้คำสั่งข้อ 21 แสดงจำนวนค่า NULL ในแต่ละคอลัม"
      ],
      "metadata": {
        "id": "5ipe5LkJR3E0"
      }
    },
    {
      "cell_type": "code",
      "source": [
        "cereal_final_dt = cereal_clean_dt.na.drop('any')\n",
        "cereal_final_dt.show()"
      ],
      "metadata": {
        "colab": {
          "base_uri": "https://localhost:8080/"
        },
        "id": "OA0AMmbJCOIH",
        "outputId": "66ca674b-db16-44b8-9493-b9179d167085"
      },
      "execution_count": 41,
      "outputs": [
        {
          "output_type": "stream",
          "name": "stdout",
          "text": [
            "+--------------------+---+----+--------+-------+---+------+-----+-----+------+------+--------+-----+------+----+---------+-------------------+\n",
            "|                name|mfr|type|calories|protein|fat|sodium|fiber|carbo|sugars|potass|vitamins|shelf|weight|cups|   rating|    record_datetime|\n",
            "+--------------------+---+----+--------+-------+---+------+-----+-----+------+------+--------+-----+------+----+---------+-------------------+\n",
            "|All-Bran with Ext...|  K|   C|      50|      4|  0|   140| 14.0|  8.0|     0|   330|      25|    3|   1.0| 0.5|93.704912|2021-11-20 03:42:19|\n",
            "|      Almond Delight|  R|   C|     110|      2|  2|   200|  1.0| 14.0|     8|    -1|      25|    3|   1.0|0.75|34.384843|2019-12-26 03:44:02|\n",
            "|         Apple Jacks|  K|   C|     110|      2|  0|   125|  1.0| 11.0|    14|    30|      25|    2|   1.0| 1.0|33.174094|2021-06-29 14:11:51|\n",
            "|         Bran Flakes|  P|   C|      90|      3|  0|   210|  5.0| 13.0|     5|   190|      25|    3|   1.0|0.67|53.313813|2022-04-04 17:00:12|\n",
            "|            Cheerios|  G|   C|     110|      6|  2|   290|  2.0| 17.0|     1|   105|      25|    1|   1.0|1.25|50.764999|2019-11-30 17:45:37|\n",
            "|Cinnamon Toast Cr...|  G|   C|     120|      1|  3|   210|  0.0| 13.0|     9|    45|      25|    2|   1.0|0.75|19.823573|2020-09-03 12:28:12|\n",
            "|         Cocoa Puffs|  G|   C|     110|      1|  1|   180|  0.0| 12.0|    13|    55|      25|    2|   1.0| 1.0|22.736446|2019-03-25 08:48:34|\n",
            "|           Corn Chex|  R|   C|     110|      2|  0|   280|  0.0| 22.0|     3|    25|      25|    1|   1.0| 1.0|41.445019|2020-05-12 05:50:31|\n",
            "|         Corn Flakes|  K|   C|     100|      2|  0|   290|  1.0| 21.0|     2|    35|      25|    1|   1.0| 1.0|45.863324|2020-05-18 06:21:09|\n",
            "|       Count Chocula|  G|   C|     110|      1|  1|   180|  0.0| 12.0|    13|    65|      25|    2|   1.0| 1.0|22.396513|2019-07-17 16:13:17|\n",
            "|  Cracklin' Oat Bran|  K|   C|     110|      3|  3|   140|  4.0| 10.0|     7|   160|      25|    3|   1.0| 0.5|40.448772|2022-03-30 16:27:09|\n",
            "|Cream of Wheat (Q...|  N|   H|     100|      3|  0|    80|  1.0| 21.0|     0|    -1|       0|    2|   1.0| 1.0|64.533816|2020-01-03 02:26:12|\n",
            "|             Crispix|  K|   C|     110|      2|  0|   220|  1.0| 21.0|     3|    30|      25|    3|   1.0| 1.0|46.895644|2019-10-14 23:42:17|\n",
            "|Crispy Wheat & Ra...|  G|   C|     100|      2|  1|   140|  2.0| 11.0|    10|   120|      25|    3|   1.0|0.75|36.176196|2021-10-20 14:47:01|\n",
            "|         Froot Loops|  K|   C|     110|      2|  1|   125|  1.0| 11.0|    13|    30|      25|    2|   1.0| 1.0|32.207582|2020-02-16 03:26:39|\n",
            "|      Frosted Flakes|  K|   C|     110|      1|  0|   200|  1.0| 14.0|    11|    25|      25|    1|   1.0|0.75|31.435973|2020-10-10 04:54:10|\n",
            "| Frosted Mini-Wheats|  K|   C|     100|      3|  0|     0|  3.0| 14.0|     7|   100|      25|    2|   1.0| 0.8|58.345141|2022-05-06 02:41:41|\n",
            "|      Fruity Pebbles|  P|   C|     110|      1|  1|   135|  0.0| 13.0|    12|    25|      25|    2|   1.0|0.75|28.025765|2019-12-11 15:11:18|\n",
            "|        Golden Crisp|  P|   C|     100|      2|  0|    45|  0.0| 11.0|    15|    40|      25|    1|   1.0|0.88|35.252444|2020-09-01 09:06:54|\n",
            "|   Grape Nuts Flakes|  P|   C|     100|      3|  1|   140|  3.0| 15.0|     5|    85|      25|    3|   1.0|0.88|52.076897|2022-05-05 22:21:14|\n",
            "+--------------------+---+----+--------+-------+---+------+-----+-----+------+------+--------+-----+------+----+---------+-------------------+\n",
            "only showing top 20 rows\n",
            "\n"
          ]
        }
      ]
    },
    {
      "cell_type": "code",
      "source": [
        "cereal_rnull_dt.select([count(when(col(c).isNull(), c)).alias(c) for c in cereal_clean_dt.columns]).show()\n"
      ],
      "metadata": {
        "colab": {
          "base_uri": "https://localhost:8080/"
        },
        "id": "A074FgAeGZfi",
        "outputId": "06e6c777-2cb7-4c33-caca-d4babd7a915a"
      },
      "execution_count": 38,
      "outputs": [
        {
          "output_type": "stream",
          "name": "stdout",
          "text": [
            "+----+---+----+--------+-------+---+------+-----+-----+------+------+--------+-----+------+----+------+---------------+\n",
            "|name|mfr|type|calories|protein|fat|sodium|fiber|carbo|sugars|potass|vitamins|shelf|weight|cups|rating|record_datetime|\n",
            "+----+---+----+--------+-------+---+------+-----+-----+------+------+--------+-----+------+----+------+---------------+\n",
            "|   0|  0|   0|       0|      0|  0|     0|    0|    0|     0|     0|       0|    0|     0|   0|     0|              0|\n",
            "+----+---+----+--------+-------+---+------+-----+-----+------+------+--------+-----+------+----+------+---------------+\n",
            "\n"
          ]
        }
      ]
    },
    {
      "cell_type": "markdown",
      "source": [
        "### 24. บันทึก cereal_final_dt ลงไฟล์ final_cereal.csv โดยใช้คำสั่ง"
      ],
      "metadata": {
        "id": "_WFmktqHRzhp"
      }
    },
    {
      "cell_type": "code",
      "source": [
        "cereal_final_dt.coalesce(1).write.csv('final_cereal.csv', header = True)"
      ],
      "metadata": {
        "id": "YjyPBkm3F-y3"
      },
      "execution_count": 43,
      "outputs": []
    },
    {
      "cell_type": "code",
      "source": [
        ""
      ],
      "metadata": {
        "id": "xMMdW1ZlG2G1"
      },
      "execution_count": null,
      "outputs": []
    }
  ]
}